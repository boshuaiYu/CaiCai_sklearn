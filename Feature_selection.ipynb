{
  "nbformat": 4,
  "nbformat_minor": 0,
  "metadata": {
    "colab": {
      "provenance": [],
      "collapsed_sections": [],
      "authorship_tag": "ABX9TyMnZ7idzUSiGMMc9jXFHwPx",
      "include_colab_link": true
    },
    "kernelspec": {
      "name": "python3",
      "display_name": "Python 3"
    },
    "language_info": {
      "name": "python"
    }
  },
  "cells": [
    {
      "cell_type": "markdown",
      "metadata": {
        "id": "view-in-github",
        "colab_type": "text"
      },
      "source": [
        "<a href=\"https://colab.research.google.com/github/boshuaiYu/CaiCai_sklearn/blob/main/Feature_selection.ipynb\" target=\"_parent\"><img src=\"https://colab.research.google.com/assets/colab-badge.svg\" alt=\"Open In Colab\"/></a>"
      ]
    },
    {
      "cell_type": "code",
      "execution_count": null,
      "metadata": {
        "id": "P0O4pDrzRT41"
      },
      "outputs": [],
      "source": [
        "import pandas as pd\n",
        "data = pd.read_csv(\"/content/digit recognizor.csv\")"
      ]
    },
    {
      "cell_type": "code",
      "source": [
        "data.head()"
      ],
      "metadata": {
        "id": "NS1b_UxYRWQj",
        "colab": {
          "base_uri": "https://localhost:8080/",
          "height": 300
        },
        "outputId": "5c7a83e3-0184-47f1-a98d-1acd12246949"
      },
      "execution_count": null,
      "outputs": [
        {
          "output_type": "execute_result",
          "data": {
            "text/plain": [
              "   label  pixel0  pixel1  pixel2  pixel3  pixel4  pixel5  pixel6  pixel7  \\\n",
              "0      1       0       0       0       0       0       0       0       0   \n",
              "1      0       0       0       0       0       0       0       0       0   \n",
              "2      1       0       0       0       0       0       0       0       0   \n",
              "3      4       0       0       0       0       0       0       0       0   \n",
              "4      0       0       0       0       0       0       0       0       0   \n",
              "\n",
              "   pixel8  ...  pixel774  pixel775  pixel776  pixel777  pixel778  pixel779  \\\n",
              "0       0  ...         0         0         0         0         0         0   \n",
              "1       0  ...         0         0         0         0         0         0   \n",
              "2       0  ...         0         0         0         0         0         0   \n",
              "3       0  ...         0         0         0         0         0         0   \n",
              "4       0  ...         0         0         0         0         0         0   \n",
              "\n",
              "   pixel780  pixel781  pixel782  pixel783  \n",
              "0         0         0         0         0  \n",
              "1         0         0         0         0  \n",
              "2         0         0         0         0  \n",
              "3         0         0         0         0  \n",
              "4         0         0         0         0  \n",
              "\n",
              "[5 rows x 785 columns]"
            ],
            "text/html": [
              "\n",
              "  <div id=\"df-b76e9e97-96ef-431a-be37-3f2364b41e98\">\n",
              "    <div class=\"colab-df-container\">\n",
              "      <div>\n",
              "<style scoped>\n",
              "    .dataframe tbody tr th:only-of-type {\n",
              "        vertical-align: middle;\n",
              "    }\n",
              "\n",
              "    .dataframe tbody tr th {\n",
              "        vertical-align: top;\n",
              "    }\n",
              "\n",
              "    .dataframe thead th {\n",
              "        text-align: right;\n",
              "    }\n",
              "</style>\n",
              "<table border=\"1\" class=\"dataframe\">\n",
              "  <thead>\n",
              "    <tr style=\"text-align: right;\">\n",
              "      <th></th>\n",
              "      <th>label</th>\n",
              "      <th>pixel0</th>\n",
              "      <th>pixel1</th>\n",
              "      <th>pixel2</th>\n",
              "      <th>pixel3</th>\n",
              "      <th>pixel4</th>\n",
              "      <th>pixel5</th>\n",
              "      <th>pixel6</th>\n",
              "      <th>pixel7</th>\n",
              "      <th>pixel8</th>\n",
              "      <th>...</th>\n",
              "      <th>pixel774</th>\n",
              "      <th>pixel775</th>\n",
              "      <th>pixel776</th>\n",
              "      <th>pixel777</th>\n",
              "      <th>pixel778</th>\n",
              "      <th>pixel779</th>\n",
              "      <th>pixel780</th>\n",
              "      <th>pixel781</th>\n",
              "      <th>pixel782</th>\n",
              "      <th>pixel783</th>\n",
              "    </tr>\n",
              "  </thead>\n",
              "  <tbody>\n",
              "    <tr>\n",
              "      <th>0</th>\n",
              "      <td>1</td>\n",
              "      <td>0</td>\n",
              "      <td>0</td>\n",
              "      <td>0</td>\n",
              "      <td>0</td>\n",
              "      <td>0</td>\n",
              "      <td>0</td>\n",
              "      <td>0</td>\n",
              "      <td>0</td>\n",
              "      <td>0</td>\n",
              "      <td>...</td>\n",
              "      <td>0</td>\n",
              "      <td>0</td>\n",
              "      <td>0</td>\n",
              "      <td>0</td>\n",
              "      <td>0</td>\n",
              "      <td>0</td>\n",
              "      <td>0</td>\n",
              "      <td>0</td>\n",
              "      <td>0</td>\n",
              "      <td>0</td>\n",
              "    </tr>\n",
              "    <tr>\n",
              "      <th>1</th>\n",
              "      <td>0</td>\n",
              "      <td>0</td>\n",
              "      <td>0</td>\n",
              "      <td>0</td>\n",
              "      <td>0</td>\n",
              "      <td>0</td>\n",
              "      <td>0</td>\n",
              "      <td>0</td>\n",
              "      <td>0</td>\n",
              "      <td>0</td>\n",
              "      <td>...</td>\n",
              "      <td>0</td>\n",
              "      <td>0</td>\n",
              "      <td>0</td>\n",
              "      <td>0</td>\n",
              "      <td>0</td>\n",
              "      <td>0</td>\n",
              "      <td>0</td>\n",
              "      <td>0</td>\n",
              "      <td>0</td>\n",
              "      <td>0</td>\n",
              "    </tr>\n",
              "    <tr>\n",
              "      <th>2</th>\n",
              "      <td>1</td>\n",
              "      <td>0</td>\n",
              "      <td>0</td>\n",
              "      <td>0</td>\n",
              "      <td>0</td>\n",
              "      <td>0</td>\n",
              "      <td>0</td>\n",
              "      <td>0</td>\n",
              "      <td>0</td>\n",
              "      <td>0</td>\n",
              "      <td>...</td>\n",
              "      <td>0</td>\n",
              "      <td>0</td>\n",
              "      <td>0</td>\n",
              "      <td>0</td>\n",
              "      <td>0</td>\n",
              "      <td>0</td>\n",
              "      <td>0</td>\n",
              "      <td>0</td>\n",
              "      <td>0</td>\n",
              "      <td>0</td>\n",
              "    </tr>\n",
              "    <tr>\n",
              "      <th>3</th>\n",
              "      <td>4</td>\n",
              "      <td>0</td>\n",
              "      <td>0</td>\n",
              "      <td>0</td>\n",
              "      <td>0</td>\n",
              "      <td>0</td>\n",
              "      <td>0</td>\n",
              "      <td>0</td>\n",
              "      <td>0</td>\n",
              "      <td>0</td>\n",
              "      <td>...</td>\n",
              "      <td>0</td>\n",
              "      <td>0</td>\n",
              "      <td>0</td>\n",
              "      <td>0</td>\n",
              "      <td>0</td>\n",
              "      <td>0</td>\n",
              "      <td>0</td>\n",
              "      <td>0</td>\n",
              "      <td>0</td>\n",
              "      <td>0</td>\n",
              "    </tr>\n",
              "    <tr>\n",
              "      <th>4</th>\n",
              "      <td>0</td>\n",
              "      <td>0</td>\n",
              "      <td>0</td>\n",
              "      <td>0</td>\n",
              "      <td>0</td>\n",
              "      <td>0</td>\n",
              "      <td>0</td>\n",
              "      <td>0</td>\n",
              "      <td>0</td>\n",
              "      <td>0</td>\n",
              "      <td>...</td>\n",
              "      <td>0</td>\n",
              "      <td>0</td>\n",
              "      <td>0</td>\n",
              "      <td>0</td>\n",
              "      <td>0</td>\n",
              "      <td>0</td>\n",
              "      <td>0</td>\n",
              "      <td>0</td>\n",
              "      <td>0</td>\n",
              "      <td>0</td>\n",
              "    </tr>\n",
              "  </tbody>\n",
              "</table>\n",
              "<p>5 rows × 785 columns</p>\n",
              "</div>\n",
              "      <button class=\"colab-df-convert\" onclick=\"convertToInteractive('df-b76e9e97-96ef-431a-be37-3f2364b41e98')\"\n",
              "              title=\"Convert this dataframe to an interactive table.\"\n",
              "              style=\"display:none;\">\n",
              "        \n",
              "  <svg xmlns=\"http://www.w3.org/2000/svg\" height=\"24px\"viewBox=\"0 0 24 24\"\n",
              "       width=\"24px\">\n",
              "    <path d=\"M0 0h24v24H0V0z\" fill=\"none\"/>\n",
              "    <path d=\"M18.56 5.44l.94 2.06.94-2.06 2.06-.94-2.06-.94-.94-2.06-.94 2.06-2.06.94zm-11 1L8.5 8.5l.94-2.06 2.06-.94-2.06-.94L8.5 2.5l-.94 2.06-2.06.94zm10 10l.94 2.06.94-2.06 2.06-.94-2.06-.94-.94-2.06-.94 2.06-2.06.94z\"/><path d=\"M17.41 7.96l-1.37-1.37c-.4-.4-.92-.59-1.43-.59-.52 0-1.04.2-1.43.59L10.3 9.45l-7.72 7.72c-.78.78-.78 2.05 0 2.83L4 21.41c.39.39.9.59 1.41.59.51 0 1.02-.2 1.41-.59l7.78-7.78 2.81-2.81c.8-.78.8-2.07 0-2.86zM5.41 20L4 18.59l7.72-7.72 1.47 1.35L5.41 20z\"/>\n",
              "  </svg>\n",
              "      </button>\n",
              "      \n",
              "  <style>\n",
              "    .colab-df-container {\n",
              "      display:flex;\n",
              "      flex-wrap:wrap;\n",
              "      gap: 12px;\n",
              "    }\n",
              "\n",
              "    .colab-df-convert {\n",
              "      background-color: #E8F0FE;\n",
              "      border: none;\n",
              "      border-radius: 50%;\n",
              "      cursor: pointer;\n",
              "      display: none;\n",
              "      fill: #1967D2;\n",
              "      height: 32px;\n",
              "      padding: 0 0 0 0;\n",
              "      width: 32px;\n",
              "    }\n",
              "\n",
              "    .colab-df-convert:hover {\n",
              "      background-color: #E2EBFA;\n",
              "      box-shadow: 0px 1px 2px rgba(60, 64, 67, 0.3), 0px 1px 3px 1px rgba(60, 64, 67, 0.15);\n",
              "      fill: #174EA6;\n",
              "    }\n",
              "\n",
              "    [theme=dark] .colab-df-convert {\n",
              "      background-color: #3B4455;\n",
              "      fill: #D2E3FC;\n",
              "    }\n",
              "\n",
              "    [theme=dark] .colab-df-convert:hover {\n",
              "      background-color: #434B5C;\n",
              "      box-shadow: 0px 1px 3px 1px rgba(0, 0, 0, 0.15);\n",
              "      filter: drop-shadow(0px 1px 2px rgba(0, 0, 0, 0.3));\n",
              "      fill: #FFFFFF;\n",
              "    }\n",
              "  </style>\n",
              "\n",
              "      <script>\n",
              "        const buttonEl =\n",
              "          document.querySelector('#df-b76e9e97-96ef-431a-be37-3f2364b41e98 button.colab-df-convert');\n",
              "        buttonEl.style.display =\n",
              "          google.colab.kernel.accessAllowed ? 'block' : 'none';\n",
              "\n",
              "        async function convertToInteractive(key) {\n",
              "          const element = document.querySelector('#df-b76e9e97-96ef-431a-be37-3f2364b41e98');\n",
              "          const dataTable =\n",
              "            await google.colab.kernel.invokeFunction('convertToInteractive',\n",
              "                                                     [key], {});\n",
              "          if (!dataTable) return;\n",
              "\n",
              "          const docLinkHtml = 'Like what you see? Visit the ' +\n",
              "            '<a target=\"_blank\" href=https://colab.research.google.com/notebooks/data_table.ipynb>data table notebook</a>'\n",
              "            + ' to learn more about interactive tables.';\n",
              "          element.innerHTML = '';\n",
              "          dataTable['output_type'] = 'display_data';\n",
              "          await google.colab.output.renderOutput(dataTable, element);\n",
              "          const docLink = document.createElement('div');\n",
              "          docLink.innerHTML = docLinkHtml;\n",
              "          element.appendChild(docLink);\n",
              "        }\n",
              "      </script>\n",
              "    </div>\n",
              "  </div>\n",
              "  "
            ]
          },
          "metadata": {},
          "execution_count": 5
        }
      ]
    },
    {
      "cell_type": "code",
      "source": [
        "X = data.iloc[:,1:]\n",
        "y = data.iloc[:,0]\n",
        "X.shape # 维度表示特征的个数784"
      ],
      "metadata": {
        "colab": {
          "base_uri": "https://localhost:8080/"
        },
        "id": "xjBnERkX6kKb",
        "outputId": "c8df1cff-28e0-445b-c736-528490efad95"
      },
      "execution_count": null,
      "outputs": [
        {
          "output_type": "execute_result",
          "data": {
            "text/plain": [
              "(42000, 784)"
            ]
          },
          "metadata": {},
          "execution_count": 8
        }
      ]
    },
    {
      "cell_type": "markdown",
      "source": [
        "1. Filter过滤法"
      ],
      "metadata": {
        "id": "G9D-vf-E8Oq3"
      }
    },
    {
      "cell_type": "markdown",
      "source": [
        "1.1 方差过滤\n",
        "\n",
        "1.1.1 VarianceThreshold"
      ],
      "metadata": {
        "id": "Cs7LSAQd8Wk2"
      }
    },
    {
      "cell_type": "code",
      "source": [
        "from sklearn.feature_selection import VarianceThreshold\n",
        "X_var0 = VarianceThreshold().fit_transform(X) # 默认方差为0\n",
        "X_var0.shape"
      ],
      "metadata": {
        "colab": {
          "base_uri": "https://localhost:8080/"
        },
        "id": "V8bC0qY5630m",
        "outputId": "5e107bca-f0b8-41a5-dc88-c0d5bfc2deaa"
      },
      "execution_count": null,
      "outputs": [
        {
          "output_type": "execute_result",
          "data": {
            "text/plain": [
              "(42000, 708)"
            ]
          },
          "metadata": {},
          "execution_count": 10
        }
      ]
    },
    {
      "cell_type": "markdown",
      "source": [
        "如果希望留下一半的\n",
        "特征，那可以设定一个让特征总数减半的方差阈值，只要找到特征方差的中位数，再将这个中位数作为参数\n",
        "threshold的值输入就好了"
      ],
      "metadata": {
        "id": "XW9OGGh89byc"
      }
    },
    {
      "cell_type": "code",
      "source": [
        "import numpy as np\n",
        "X_fsvar = VarianceThreshold(np.median(X.var().values)).fit_transform(X)\n",
        "X_fsvar.shape"
      ],
      "metadata": {
        "colab": {
          "base_uri": "https://localhost:8080/"
        },
        "id": "XJbiZ2_y88ZU",
        "outputId": "d66ebc25-866f-4054-931c-0b92132f3b88"
      },
      "execution_count": null,
      "outputs": [
        {
          "output_type": "execute_result",
          "data": {
            "text/plain": [
              "(42000, 392)"
            ]
          },
          "metadata": {},
          "execution_count": 11
        }
      ]
    },
    {
      "cell_type": "markdown",
      "source": [
        "1.1.2 方差过滤对模型的影响"
      ],
      "metadata": {
        "id": "YL_JjpAc-g99"
      }
    },
    {
      "cell_type": "code",
      "source": [
        "from sklearn.ensemble import RandomForestClassifier as RFC\n",
        "from sklearn.neighbors import KNeighborsClassifier as KNN\n",
        "from sklearn.model_selection import cross_val_score\n",
        "import numpy as np\n",
        "\n",
        "x = data.iloc[:,1:]\n",
        "y = data.iloc[:,0]\n",
        "\n",
        "x_fsvar = VarianceThreshold(np.median(x.var().values)).fit_transform(x)"
      ],
      "metadata": {
        "id": "rgFeUmPu96ro"
      },
      "execution_count": null,
      "outputs": []
    },
    {
      "cell_type": "markdown",
      "source": [
        "KNN方差过滤前"
      ],
      "metadata": {
        "id": "V7fubV_K_xde"
      }
    },
    {
      "cell_type": "code",
      "source": [
        "import time\n",
        "start = time.time()\n",
        "print(cross_val_score(KNN(),x,y,cv=5).mean())\n",
        "end = time.time()\n",
        "print(\"time:\",end-start)"
      ],
      "metadata": {
        "colab": {
          "base_uri": "https://localhost:8080/"
        },
        "id": "YSPAPi5h_w3G",
        "outputId": "c12b161d-9df1-4ecf-f8ee-02f0c0f07366"
      },
      "execution_count": null,
      "outputs": [
        {
          "output_type": "stream",
          "name": "stdout",
          "text": [
            "0.965857142857143\n",
            "time: 116.22311735153198\n"
          ]
        }
      ]
    },
    {
      "cell_type": "markdown",
      "source": [
        "KNN方差过滤后"
      ],
      "metadata": {
        "id": "q2ckN_ASBw-x"
      }
    },
    {
      "cell_type": "code",
      "source": [
        "start = time.time()\n",
        "print(cross_val_score(KNN(),x_fsvar,y,cv=5).mean())\n",
        "end = time.time()\n",
        "print(\"time:\",end-start)"
      ],
      "metadata": {
        "id": "n0rNe_9C_oXZ",
        "colab": {
          "base_uri": "https://localhost:8080/"
        },
        "outputId": "f4e44efb-3a7c-4fe4-e57c-ab11afe8db53"
      },
      "execution_count": null,
      "outputs": [
        {
          "output_type": "stream",
          "name": "stdout",
          "text": [
            "0.966\n",
            "time: 70.07048320770264\n"
          ]
        }
      ]
    },
    {
      "cell_type": "markdown",
      "source": [
        "随机森林方差过滤前"
      ],
      "metadata": {
        "id": "eiwxX0l4B2gF"
      }
    },
    {
      "cell_type": "code",
      "source": [
        "start = time.time()\n",
        "print(cross_val_score(RFC(n_estimators=10, random_state=0),x,y,cv=5).mean())\n",
        "end = time.time()\n",
        "print(\"time:\",end-start)"
      ],
      "metadata": {
        "colab": {
          "base_uri": "https://localhost:8080/"
        },
        "id": "17HPknaoBGw_",
        "outputId": "179862ab-9d8d-4242-9c8a-8168796e7a1a"
      },
      "execution_count": null,
      "outputs": [
        {
          "output_type": "stream",
          "name": "stdout",
          "text": [
            "0.9373571428571429\n",
            "time: 13.382856607437134\n"
          ]
        }
      ]
    },
    {
      "cell_type": "code",
      "source": [
        "start = time.time()\n",
        "print(cross_val_score(RFC(n_estimators=100,random_state=0),x,y,cv=5).mean())\n",
        "end = time.time()\n",
        "print(\"time:\",end-start)"
      ],
      "metadata": {
        "colab": {
          "base_uri": "https://localhost:8080/"
        },
        "id": "QjkEd9N2Dn7z",
        "outputId": "f63be58f-33c1-47a6-f9f2-a8a4ad076609"
      },
      "execution_count": null,
      "outputs": [
        {
          "output_type": "stream",
          "name": "stdout",
          "text": [
            "0.9642142857142856\n",
            "time: 130.34048414230347\n"
          ]
        }
      ]
    },
    {
      "cell_type": "markdown",
      "source": [
        "随机森林方差过滤后"
      ],
      "metadata": {
        "id": "9x88FkOyB6Us"
      }
    },
    {
      "cell_type": "code",
      "source": [
        "start = time.time()\n",
        "print(cross_val_score(RFC(n_estimators=10,random_state=0),x_fsvar,y,cv=5).mean())\n",
        "end = time.time()\n",
        "print(\"time:\",end-start)"
      ],
      "metadata": {
        "colab": {
          "base_uri": "https://localhost:8080/"
        },
        "id": "clpPVOITB9G9",
        "outputId": "ed580705-31ea-4c7d-85f5-30e59e916f6b"
      },
      "execution_count": null,
      "outputs": [
        {
          "output_type": "stream",
          "name": "stdout",
          "text": [
            "0.9390476190476191\n",
            "time: 13.622154951095581\n"
          ]
        }
      ]
    },
    {
      "cell_type": "code",
      "source": [
        "start = time.time()\n",
        "print(cross_val_score(RFC(n_estimators=100,random_state=0),x,y,cv=5).mean())\n",
        "end = time.time()\n",
        "print(\"time:\",end-start)"
      ],
      "metadata": {
        "colab": {
          "base_uri": "https://localhost:8080/"
        },
        "id": "E2J5RbfKDqLf",
        "outputId": "f6892882-b376-48bc-8486-9b236705f11d"
      },
      "execution_count": null,
      "outputs": [
        {
          "output_type": "stream",
          "name": "stdout",
          "text": [
            "0.9642142857142856\n",
            "time: 125.35949611663818\n"
          ]
        }
      ]
    },
    {
      "cell_type": "markdown",
      "source": [
        "过滤法的主要对象是：需要遍历特征或升维的算法们，而过滤法的主要目的是：在维持算法表现的前提下，帮助算法们降低计算成本\n",
        "\n",
        "过滤法对随机森林无用，却对决策树有用\n",
        "\n",
        "方差过滤对模型准确度影响未知"
      ],
      "metadata": {
        "id": "QbM58lGRDBCJ"
      }
    },
    {
      "cell_type": "markdown",
      "source": [
        "1.2 相关性过滤\n",
        "\n",
        "1.2.1 卡方过滤"
      ],
      "metadata": {
        "id": "0ZIQYLj1Ezto"
      }
    },
    {
      "cell_type": "markdown",
      "source": [
        "卡方过滤是专门针对离散型标签（即分类问题）的相关性过滤"
      ],
      "metadata": {
        "id": "9BRvOg-xFCc8"
      }
    },
    {
      "cell_type": "code",
      "source": [
        "from sklearn.ensemble import RandomForestClassifier as RFC\n",
        "from sklearn.model_selection import cross_val_score\n",
        "from sklearn.feature_selection import SelectKBest\n",
        "from sklearn.feature_selection import chi2\n",
        "\n",
        "X_fschi = SelectKBest(chi2,k=300).fit_transform(X_fsvar,y)\n",
        "X_fschi.shape"
      ],
      "metadata": {
        "colab": {
          "base_uri": "https://localhost:8080/"
        },
        "id": "zXkl4ifGCBhG",
        "outputId": "0badbfdd-9ebb-4bbc-c074-f8188ae78f8a"
      },
      "execution_count": null,
      "outputs": [
        {
          "output_type": "execute_result",
          "data": {
            "text/plain": [
              "(42000, 300)"
            ]
          },
          "metadata": {},
          "execution_count": 28
        }
      ]
    },
    {
      "cell_type": "code",
      "source": [
        "cross_val_score(RFC(n_estimators=10,random_state=0),X_fschi,y,cv=5).mean()"
      ],
      "metadata": {
        "colab": {
          "base_uri": "https://localhost:8080/"
        },
        "id": "Avni6hHUGVbd",
        "outputId": "ba7ca6e9-9e79-432d-9ca8-d35da825a6a3"
      },
      "execution_count": null,
      "outputs": [
        {
          "output_type": "execute_result",
          "data": {
            "text/plain": [
              "0.9344761904761905"
            ]
          },
          "metadata": {},
          "execution_count": 29
        }
      ]
    },
    {
      "cell_type": "markdown",
      "source": [
        "1.2.1.1 采用学习曲线的方式，来查看K的选择值"
      ],
      "metadata": {
        "id": "DTCasM3yHQwU"
      }
    },
    {
      "cell_type": "code",
      "source": [
        "%matplotlib inline\n",
        "import matplotlib.pyplot as plt"
      ],
      "metadata": {
        "id": "oByRRygDG6Gu"
      },
      "execution_count": 30,
      "outputs": []
    },
    {
      "cell_type": "code",
      "source": [
        "score = []\n",
        "for i in range(392,200,-10):\n",
        "  X_fschi = SelectKBest(chi2,k=i).fit_transform(X_fsvar,y)\n",
        "  once = cross_val_score(RFC(n_estimators=10,random_state=0),X_fschi,y,cv=5).mean()\n",
        "  score.append(once)\n",
        "plt.plot(range(392,200,-10),score)\n",
        "\n",
        "# 图线可以看出K值越大，准确率越高"
      ],
      "metadata": {
        "colab": {
          "base_uri": "https://localhost:8080/",
          "height": 285
        },
        "id": "AXyXzD5-HeXl",
        "outputId": "0c7830d7-9f46-461d-b61d-1436aa4b7758"
      },
      "execution_count": 39,
      "outputs": [
        {
          "output_type": "execute_result",
          "data": {
            "text/plain": [
              "[<matplotlib.lines.Line2D at 0x7f8a2c8cba90>]"
            ]
          },
          "metadata": {},
          "execution_count": 39
        },
        {
          "output_type": "display_data",
          "data": {
            "text/plain": [
              "<Figure size 432x288 with 1 Axes>"
            ],
            "image/png": "[encoded data removed]"
          },
          "metadata": {
            "needs_background": "light"
          }
        }
      ]
    },
    {
      "cell_type": "markdown",
      "source": [
        "1.2.1.2 看p值选择k"
      ],
      "metadata": {
        "id": "1KjxtAGgIVnM"
      }
    },
    {
      "cell_type": "code",
      "source": [
        "chivalue, pvalue = chi2(X_fsvar,y)"
      ],
      "metadata": {
        "id": "TJ1BQabbH9h6"
      },
      "execution_count": 32,
      "outputs": []
    },
    {
      "cell_type": "code",
      "source": [
        "chivalue"
      ],
      "metadata": {
        "id": "UMOiz9PRJSGX"
      },
      "execution_count": null,
      "outputs": []
    },
    {
      "cell_type": "code",
      "source": [
        "pvalue"
      ],
      "metadata": {
        "id": "dVRt9xYKJUt3"
      },
      "execution_count": null,
      "outputs": []
    },
    {
      "cell_type": "code",
      "source": [
        "k = chivalue.shape[0] - (pvalue > 0.05).sum()\n",
        "k\n",
        "# 说明方差验证已经把所有相关的特征都找到，其他的都不能删去"
      ],
      "metadata": {
        "colab": {
          "base_uri": "https://localhost:8080/"
        },
        "id": "gTm-xldAJW0u",
        "outputId": "d442f813-dc20-46a3-d034-eec22900334d"
      },
      "execution_count": 37,
      "outputs": [
        {
          "output_type": "execute_result",
          "data": {
            "text/plain": [
              "392"
            ]
          },
          "metadata": {},
          "execution_count": 37
        }
      ]
    },
    {
      "cell_type": "markdown",
      "source": [
        "1.3 F检验\n",
        "\n",
        "F检验，又称ANOVA，方差齐性检验，是用来捕捉每个特征与标签之间的线性关系的过滤方法。它即可以做回归也可以做分类，因此包含feature_selection.f_classif（F检验分类）和feature_selection.f_regression（F检验回\n",
        "归）两个类。其中F检验分类用于标签是离散型变量的数据，而F检验回归用于标签是连续型变量的数据"
      ],
      "metadata": {
        "id": "vcfFPovDKfnX"
      }
    },
    {
      "cell_type": "markdown",
      "source": [
        "F检验在数据服从正态分布时效果会非常稳定，因此如果使用F检验过滤，我\n",
        "们会先将数据转换成服从正态分布的方式"
      ],
      "metadata": {
        "id": "-PHfUY3SKxRV"
      }
    },
    {
      "cell_type": "code",
      "source": [
        "from sklearn.feature_selection import f_classif\n",
        "F, pvalue_f = f_classif(X_fsvar,y)\n",
        "F"
      ],
      "metadata": {
        "id": "z1t36FzaJuTt"
      },
      "execution_count": null,
      "outputs": []
    },
    {
      "cell_type": "code",
      "source": [
        "pvalue_f"
      ],
      "metadata": {
        "id": "ej_iYJEyLFKb"
      },
      "execution_count": null,
      "outputs": []
    },
    {
      "cell_type": "code",
      "source": [
        "k = F.shape[0] - (pvalue_f > 0.5).sum()\n",
        "k"
      ],
      "metadata": {
        "colab": {
          "base_uri": "https://localhost:8080/"
        },
        "id": "0tbpe8KLLG1b",
        "outputId": "f27ee85e-525c-44dc-dc1f-1a9d8d3c630d"
      },
      "execution_count": 45,
      "outputs": [
        {
          "output_type": "execute_result",
          "data": {
            "text/plain": [
              "392"
            ]
          },
          "metadata": {},
          "execution_count": 45
        }
      ]
    },
    {
      "cell_type": "markdown",
      "source": [
        "有任何特征的p值大于0.01，所有的特征都是和标签相关的，因此我们不需要相关性过滤"
      ],
      "metadata": {
        "id": "v3yOlyQ_Lsl2"
      }
    },
    {
      "cell_type": "markdown",
      "source": [
        "1.4 互信息法\n",
        "\n",
        "互信息法是用来捕捉每个特征与标签之间的任意关系（包括线性和非线性关系）的过滤方法\n",
        "\n",
        "F检验只能找出线性关系，互信息法可以找出任意关系"
      ],
      "metadata": {
        "id": "4MiYtJ_nLwhu"
      }
    },
    {
      "cell_type": "code",
      "source": [
        "from sklearn.feature_selection import mutual_info_classif as MIC\n",
        "result = MIC(X_fsvar,y) # 互信息量的估计\n",
        "result"
      ],
      "metadata": {
        "colab": {
          "base_uri": "https://localhost:8080/"
        },
        "id": "ZR1gDoVULS6b",
        "outputId": "a6cbbd3c-e5fd-4296-a52c-655e6914eed8"
      },
      "execution_count": 47,
      "outputs": [
        {
          "output_type": "execute_result",
          "data": {
            "text/plain": [
              "array([0.06771637, 0.08341303, 0.09799794, 0.11126953, 0.11647567,\n",
              "       0.1054957 , 0.08579308, 0.05438407, 0.07316761, 0.0974353 ,\n",
              "       0.11907861, 0.14078727, 0.15730802, 0.16299848, 0.15105046,\n",
              "       0.13442349, 0.09815152, 0.06873428, 0.02970268, 0.02548592,\n",
              "       0.06616732, 0.10037206, 0.12349394, 0.15129768, 0.17957882,\n",
              "       0.2023645 , 0.22105994, 0.23615708, 0.21504306, 0.18028193,\n",
              "       0.13979229, 0.10364552, 0.07874879, 0.06184119, 0.05081043,\n",
              "       0.03201645, 0.05574639, 0.07976284, 0.09953573, 0.12680214,\n",
              "       0.13539502, 0.14847847, 0.15627722, 0.18463683, 0.18611228,\n",
              "       0.17246709, 0.14259832, 0.12974507, 0.11081758, 0.09519889,\n",
              "       0.0809205 , 0.07000381, 0.06414878, 0.04958213, 0.06631613,\n",
              "       0.07160161, 0.08510387, 0.09364044, 0.10803886, 0.11179482,\n",
              "       0.10793585, 0.11472754, 0.12381564, 0.11259784, 0.11184311,\n",
              "       0.11902972, 0.11483882, 0.10789961, 0.09508306, 0.07902368,\n",
              "       0.07021683, 0.03686784, 0.05271684, 0.06453979, 0.07325352,\n",
              "       0.0969933 , 0.11494859, 0.14193474, 0.14525492, 0.12127325,\n",
              "       0.10947598, 0.11121317, 0.1159755 , 0.11519969, 0.13026632,\n",
              "       0.13556477, 0.12272929, 0.10918159, 0.08284298, 0.06819864,\n",
              "       0.04356312, 0.05717409, 0.07505616, 0.09452691, 0.1363675 ,\n",
              "       0.189314  , 0.20597763, 0.16477369, 0.1044911 , 0.10187734,\n",
              "       0.12525623, 0.12811102, 0.12903506, 0.14051091, 0.15410263,\n",
              "       0.14321548, 0.12326278, 0.0992062 , 0.06718745, 0.03932298,\n",
              "       0.05191425, 0.07473346, 0.12278115, 0.17967022, 0.21678608,\n",
              "       0.19384011, 0.12405279, 0.07061767, 0.11054217, 0.14550595,\n",
              "       0.12404789, 0.12781146, 0.16054746, 0.15646972, 0.13918365,\n",
              "       0.13204948, 0.10641751, 0.0738965 , 0.03378769, 0.04847592,\n",
              "       0.09758103, 0.16039684, 0.2116827 , 0.2161926 , 0.17732711,\n",
              "       0.11808727, 0.1022026 , 0.18188354, 0.19427589, 0.12032409,\n",
              "       0.15058191, 0.18198961, 0.15941116, 0.13699694, 0.14291838,\n",
              "       0.11393383, 0.08501275, 0.03076337, 0.06641487, 0.13276082,\n",
              "       0.18741205, 0.22218933, 0.22193314, 0.19917516, 0.17020758,\n",
              "       0.19646319, 0.2609227 , 0.22332889, 0.14117032, 0.18530934,\n",
              "       0.18395904, 0.13260223, 0.12570267, 0.14421287, 0.1408867 ,\n",
              "       0.09880543, 0.0421504 , 0.09158016, 0.15500155, 0.21451266,\n",
              "       0.22407519, 0.21350258, 0.1971884 , 0.20806378, 0.2507355 ,\n",
              "       0.29367165, 0.21607762, 0.17767042, 0.22235545, 0.18497683,\n",
              "       0.11952063, 0.1194869 , 0.15584069, 0.14571458, 0.10074087,\n",
              "       0.06439594, 0.11610969, 0.1769975 , 0.22533476, 0.22456803,\n",
              "       0.19481415, 0.17272077, 0.17862018, 0.24652676, 0.27912211,\n",
              "       0.19775268, 0.21151011, 0.24532893, 0.17763482, 0.12027144,\n",
              "       0.13461426, 0.16318604, 0.14582332, 0.09306188, 0.0653876 ,\n",
              "       0.13369659, 0.1920253 , 0.228157  , 0.22478706, 0.19281846,\n",
              "       0.16921292, 0.19754943, 0.25949641, 0.27471494, 0.19896599,\n",
              "       0.23241225, 0.23685956, 0.16978936, 0.13016281, 0.15078229,\n",
              "       0.1569795 , 0.13147919, 0.08446818, 0.07254399, 0.13455015,\n",
              "       0.18866291, 0.20814304, 0.19784917, 0.19357819, 0.18666215,\n",
              "       0.22205604, 0.27147758, 0.2506522 , 0.18870166, 0.20906698,\n",
              "       0.18489656, 0.13325415, 0.14481058, 0.17123402, 0.14562648,\n",
              "       0.11447506, 0.07170935, 0.08780001, 0.13435238, 0.18304994,\n",
              "       0.18871135, 0.18366254, 0.19628929, 0.20178862, 0.21032669,\n",
              "       0.24446873, 0.1953923 , 0.15508988, 0.15569442, 0.12275568,\n",
              "       0.12768804, 0.17072416, 0.17804629, 0.14684493, 0.09857099,\n",
              "       0.05694787, 0.04105486, 0.10148266, 0.14943   , 0.1853573 ,\n",
              "       0.19578437, 0.19750972, 0.21255204, 0.21448479, 0.19431237,\n",
              "       0.19274113, 0.14094545, 0.10554194, 0.09796887, 0.11056642,\n",
              "       0.15331863, 0.18685058, 0.1712684 , 0.13419836, 0.08953586,\n",
              "       0.05453262, 0.04719431, 0.10251335, 0.16486773, 0.20769452,\n",
              "       0.20615012, 0.22315063, 0.22429548, 0.2027382 , 0.16902658,\n",
              "       0.14421425, 0.09295802, 0.06981867, 0.08415671, 0.14245477,\n",
              "       0.18696207, 0.18769896, 0.15588639, 0.1157715 , 0.08135684,\n",
              "       0.05631823, 0.04872632, 0.10769464, 0.16658655, 0.22335721,\n",
              "       0.23773266, 0.23910834, 0.21439755, 0.1787263 , 0.14246531,\n",
              "       0.09958803, 0.06586094, 0.07375708, 0.10272394, 0.1462113 ,\n",
              "       0.16216558, 0.14446496, 0.1194912 , 0.09471068, 0.0632978 ,\n",
              "       0.08799785, 0.14668465, 0.19922738, 0.23347595, 0.23446404,\n",
              "       0.19518669, 0.14256823, 0.09691892, 0.07202739, 0.0680789 ,\n",
              "       0.08230434, 0.09969023, 0.12351516, 0.11963469, 0.09226283,\n",
              "       0.07978458, 0.06603415, 0.05181052, 0.06030833, 0.10289518,\n",
              "       0.14930322, 0.1850383 , 0.19867086, 0.18149673, 0.16177484,\n",
              "       0.13438317, 0.11765673, 0.11986116, 0.10682209, 0.09331311,\n",
              "       0.08322551, 0.0753231 , 0.05961421, 0.03952721, 0.02962469,\n",
              "       0.05111994, 0.08246949, 0.10918921, 0.13409535, 0.15913726,\n",
              "       0.17416541, 0.1852725 , 0.18227093, 0.15093981, 0.10834837,\n",
              "       0.0894127 , 0.0728788 , 0.05393808, 0.03930029, 0.0270465 ,\n",
              "       0.03635492, 0.04567357, 0.06623656, 0.08698665, 0.1061907 ,\n",
              "       0.124891  , 0.1230877 , 0.10684179, 0.08419966, 0.07499671,\n",
              "       0.06493388, 0.03855707, 0.03215477, 0.06344474, 0.08254429,\n",
              "       0.10301823, 0.11406042, 0.1182988 , 0.10171279, 0.07933855,\n",
              "       0.06947237, 0.05546924])"
            ]
          },
          "metadata": {},
          "execution_count": 47
        }
      ]
    },
    {
      "cell_type": "code",
      "source": [
        "k = result.shape[0] - sum(result<=0)\n",
        "k"
      ],
      "metadata": {
        "colab": {
          "base_uri": "https://localhost:8080/"
        },
        "id": "QNp1EwzmMW3c",
        "outputId": "75d6af97-5df1-4f14-d7f9-3187c4d8c35d"
      },
      "execution_count": 48,
      "outputs": [
        {
          "output_type": "execute_result",
          "data": {
            "text/plain": [
              "392"
            ]
          },
          "metadata": {},
          "execution_count": 48
        }
      ]
    },
    {
      "cell_type": "markdown",
      "source": [
        "先使用方差过滤，然后使用互信息法来捕捉相关性"
      ],
      "metadata": {
        "id": "X46uFghDM-sA"
      }
    },
    {
      "cell_type": "markdown",
      "source": [
        "2. Embedded嵌入法\n",
        "\n",
        "嵌入法是一种让算法自己决定使用哪些特征的方法，即特征选择和算法训练同时进行"
      ],
      "metadata": {
        "id": "5dGMG6QZNLow"
      }
    },
    {
      "cell_type": "code",
      "source": [
        "from sklearn.feature_selection import SelectFromModel\n",
        "from sklearn.ensemble import RandomForestClassifier as RandomForestClassifier\n",
        "\n",
        "RFC_ = RFC(n_estimators=10,random_state=0) # 随机森林实例化\n",
        "X_embedded = SelectFromModel(RFC_,threshold=0.005).fit_transform(X,y)\n",
        "X_embedded.shape"
      ],
      "metadata": {
        "colab": {
          "base_uri": "https://localhost:8080/"
        },
        "id": "RpuvsoWgM5zR",
        "outputId": "5b5064e3-7be5-4fe2-a464-40f7d783e0fc"
      },
      "execution_count": 49,
      "outputs": [
        {
          "output_type": "execute_result",
          "data": {
            "text/plain": [
              "(42000, 47)"
            ]
          },
          "metadata": {},
          "execution_count": 49
        }
      ]
    },
    {
      "cell_type": "markdown",
      "source": [
        "使用学习曲线寻找最佳的threshold"
      ],
      "metadata": {
        "id": "IkqQMq34PeQL"
      }
    },
    {
      "cell_type": "code",
      "source": [
        "import numpy as np\n",
        "import matplotlib.pyplot as plt\n",
        "\n",
        "RFC_.fit(X,y).feature_importances_"
      ],
      "metadata": {
        "id": "VhKNbQgjPS2W"
      },
      "execution_count": null,
      "outputs": []
    },
    {
      "cell_type": "code",
      "source": [
        "threshold = np.linspace(0,(RFC_.fit(X,y).feature_importances_).max(),20)\n",
        "score = []\n",
        "for i in threshold:\n",
        "  X_embedded = SelectFromModel(RFC_,threshold=i).fit_transform(X,y)\n",
        "  once = cross_val_score(RFC_,X_embedded,y,cv=5).mean()\n",
        "  score.append(once)\n",
        "\n",
        "plt.plot(threshold,score)"
      ],
      "metadata": {
        "colab": {
          "base_uri": "https://localhost:8080/",
          "height": 283
        },
        "id": "BtYEFIOGP6U7",
        "outputId": "4610ee17-0fc8-4a34-dada-fbdb33500ca7"
      },
      "execution_count": 54,
      "outputs": [
        {
          "output_type": "execute_result",
          "data": {
            "text/plain": [
              "[<matplotlib.lines.Line2D at 0x7f8a2c826ed0>]"
            ]
          },
          "metadata": {},
          "execution_count": 54
        },
        {
          "output_type": "display_data",
          "data": {
            "text/plain": [
              "<Figure size 432x288 with 1 Axes>"
            ],
            "image/png": "[encoded data removed]"
          },
          "metadata": {
            "needs_background": "light"
          }
        }
      ]
    },
    {
      "cell_type": "code",
      "source": [
        "X_embedded = SelectFromModel(RFC_,threshold=0.00067).fit_transform(X,y)\n",
        "X_embedded.shape"
      ],
      "metadata": {
        "colab": {
          "base_uri": "https://localhost:8080/"
        },
        "id": "yR-UNuxpQvdn",
        "outputId": "3cd31d43-45e3-4522-d69a-642bc79b4273"
      },
      "execution_count": 55,
      "outputs": [
        {
          "output_type": "execute_result",
          "data": {
            "text/plain": [
              "(42000, 324)"
            ]
          },
          "metadata": {},
          "execution_count": 55
        }
      ]
    },
    {
      "cell_type": "code",
      "source": [
        "cross_val_score(RFC_,X_embedded,y,cv=5).mean()"
      ],
      "metadata": {
        "colab": {
          "base_uri": "https://localhost:8080/"
        },
        "id": "nhjGZuzUSTGn",
        "outputId": "043a1893-3c49-40b1-d45b-e668252baa72"
      },
      "execution_count": 56,
      "outputs": [
        {
          "output_type": "execute_result",
          "data": {
            "text/plain": [
              "0.9391190476190475"
            ]
          },
          "metadata": {},
          "execution_count": 56
        }
      ]
    },
    {
      "cell_type": "code",
      "source": [
        "score2 = []\n",
        "for i in np.linspace(0,0.00134,30):\n",
        "  X_embedded = SelectFromModel(RFC_,threshold=i).fit_transform(X,y)\n",
        "  once = cross_val_score(RFC_,X_embedded,y,cv=5).mean()\n",
        "  score2.append(once)\n",
        "plt.figure(figsize=[30,5])\n",
        "plt.plot(np.linspace(0,0.00134,30),score2)\n",
        "plt.xticks(np.linspace(0,0.00134,30))"
      ],
      "metadata": {
        "colab": {
          "base_uri": "https://localhost:8080/",
          "height": 744
        },
        "id": "_A-4WzIhTDtd",
        "outputId": "9ad87604-28c3-487b-d307-680414ee4711"
      },
      "execution_count": 57,
      "outputs": [
        {
          "output_type": "execute_result",
          "data": {
            "text/plain": [
              "([<matplotlib.axis.XTick at 0x7f8a2c7a26d0>,\n",
              "  <matplotlib.axis.XTick at 0x7f8a2c70eb50>,\n",
              "  <matplotlib.axis.XTick at 0x7f8a2c70e790>,\n",
              "  <matplotlib.axis.XTick at 0x7f8a2c758910>,\n",
              "  <matplotlib.axis.XTick at 0x7f8a2c746510>,\n",
              "  <matplotlib.axis.XTick at 0x7f8a2c7a3b50>,\n",
              "  <matplotlib.axis.XTick at 0x7f8a2c76e390>,\n",
              "  <matplotlib.axis.XTick at 0x7f8a2c76e6d0>,\n",
              "  <matplotlib.axis.XTick at 0x7f8a2c76e5d0>,\n",
              "  <matplotlib.axis.XTick at 0x7f8a2c75f910>,\n",
              "  <matplotlib.axis.XTick at 0x7f8a2c76e650>,\n",
              "  <matplotlib.axis.XTick at 0x7f8a2c75f8d0>,\n",
              "  <matplotlib.axis.XTick at 0x7f8a2c75f390>,\n",
              "  <matplotlib.axis.XTick at 0x7f8a2c74d090>,\n",
              "  <matplotlib.axis.XTick at 0x7f8a2c70d750>,\n",
              "  <matplotlib.axis.XTick at 0x7f8a2c70dcd0>,\n",
              "  <matplotlib.axis.XTick at 0x7f8a2c6c00d0>,\n",
              "  <matplotlib.axis.XTick at 0x7f8a2c6c06d0>,\n",
              "  <matplotlib.axis.XTick at 0x7f8a2c6c0c50>,\n",
              "  <matplotlib.axis.XTick at 0x7f8a2c6c6090>,\n",
              "  <matplotlib.axis.XTick at 0x7f8a2c6c0410>,\n",
              "  <matplotlib.axis.XTick at 0x7f8a2c70d710>,\n",
              "  <matplotlib.axis.XTick at 0x7f8a2c76ea90>,\n",
              "  <matplotlib.axis.XTick at 0x7f8a2c6c67d0>,\n",
              "  <matplotlib.axis.XTick at 0x7f8a2c6c6d50>,\n",
              "  <matplotlib.axis.XTick at 0x7f8a2c6d0350>,\n",
              "  <matplotlib.axis.XTick at 0x7f8a2c6d0810>,\n",
              "  <matplotlib.axis.XTick at 0x7f8a2c6d0d50>,\n",
              "  <matplotlib.axis.XTick at 0x7f8a2c6d7350>,\n",
              "  <matplotlib.axis.XTick at 0x7f8a2c6d7810>],\n",
              " <a list of 30 Text major ticklabel objects>)"
            ]
          },
          "metadata": {},
          "execution_count": 57
        },
        {
          "output_type": "display_data",
          "data": {
            "text/plain": [
              "<Figure size 2160x360 with 1 Axes>"
            ],
            "image/png": "[encoded data removed]"
          },
          "metadata": {
            "needs_background": "light"
          }
        }
      ]
    },
    {
      "cell_type": "code",
      "source": [
        "X_embedded = SelectFromModel(RFC_,threshold=0.000139).fit_transform(X,y)\n",
        "X_embedded.shape"
      ],
      "metadata": {
        "colab": {
          "base_uri": "https://localhost:8080/"
        },
        "id": "_aEQFhGGTlqT",
        "outputId": "5d2aa74e-0a44-4f43-bcb0-ff4a52aa39b2"
      },
      "execution_count": 58,
      "outputs": [
        {
          "output_type": "execute_result",
          "data": {
            "text/plain": [
              "(42000, 428)"
            ]
          },
          "metadata": {},
          "execution_count": 58
        }
      ]
    },
    {
      "cell_type": "code",
      "source": [
        "cross_val_score(RFC_,X_embedded,y,cv=5).mean()"
      ],
      "metadata": {
        "colab": {
          "base_uri": "https://localhost:8080/"
        },
        "id": "WXmQOMVaUHW3",
        "outputId": "b96dd5c6-6891-4422-aa4b-0cbc88abc1a3"
      },
      "execution_count": 59,
      "outputs": [
        {
          "output_type": "execute_result",
          "data": {
            "text/plain": [
              "0.9401666666666667"
            ]
          },
          "metadata": {},
          "execution_count": 59
        }
      ]
    },
    {
      "cell_type": "markdown",
      "source": [
        "调整一下随机森林的超参数"
      ],
      "metadata": {
        "id": "KMuL5kA2UH9P"
      }
    },
    {
      "cell_type": "code",
      "source": [
        "cross_val_score(RFC(n_estimators=100,random_state=0),X_embedded,y,cv=5).mean()"
      ],
      "metadata": {
        "colab": {
          "base_uri": "https://localhost:8080/"
        },
        "id": "Yc4wX93bUMSw",
        "outputId": "bd6704c9-80a9-41c9-f25a-e15dc9ddcccc"
      },
      "execution_count": 60,
      "outputs": [
        {
          "output_type": "execute_result",
          "data": {
            "text/plain": [
              "0.9646666666666667"
            ]
          },
          "metadata": {},
          "execution_count": 60
        }
      ]
    },
    {
      "cell_type": "markdown",
      "source": [
        "3. Wrapper包装法"
      ],
      "metadata": {
        "id": "eobM_boVVIDN"
      }
    },
    {
      "cell_type": "code",
      "source": [
        "from sklearn.feature_selection import RFE\n",
        "RFC_ = RFC(n_estimators=10,random_state=0)\n",
        "selector = RFE(RFC_,n_features_to_select=428,step=50).fit(X,y)\n",
        "selector.support_.sum()"
      ],
      "metadata": {
        "colab": {
          "base_uri": "https://localhost:8080/"
        },
        "id": "m09G3qlxVN5t",
        "outputId": "c66cbdd1-d36b-49d2-ad17-ba539c6550eb"
      },
      "execution_count": 64,
      "outputs": [
        {
          "output_type": "execute_result",
          "data": {
            "text/plain": [
              "428"
            ]
          },
          "metadata": {},
          "execution_count": 64
        }
      ]
    },
    {
      "cell_type": "code",
      "source": [
        "selector.ranking_"
      ],
      "metadata": {
        "colab": {
          "base_uri": "https://localhost:8080/"
        },
        "id": "EaSiwCebX2SM",
        "outputId": "b984ad40-4b4e-46bc-b8c9-1b0c7a1c2952"
      },
      "execution_count": 65,
      "outputs": [
        {
          "output_type": "execute_result",
          "data": {
            "text/plain": [
              "array([9, 8, 7, 6, 5, 5, 5, 5, 5, 5, 5, 5, 5, 5, 5, 5, 5, 5, 5, 5, 5, 5,\n",
              "       5, 5, 5, 5, 5, 5, 5, 5, 6, 6, 5, 5, 4, 5, 4, 5, 5, 5, 5, 5, 5, 5,\n",
              "       5, 5, 5, 6, 5, 6, 6, 6, 6, 6, 6, 6, 6, 6, 6, 6, 6, 6, 6, 6, 5, 5,\n",
              "       4, 3, 3, 4, 2, 3, 3, 3, 4, 3, 4, 6, 5, 6, 6, 6, 7, 7, 7, 7, 7, 7,\n",
              "       7, 7, 5, 6, 3, 2, 1, 1, 1, 1, 1, 1, 1, 1, 1, 1, 1, 3, 4, 4, 4, 7,\n",
              "       7, 8, 8, 8, 8, 7, 8, 8, 3, 3, 1, 1, 1, 1, 1, 1, 1, 1, 1, 1, 1, 1,\n",
              "       1, 1, 1, 3, 4, 4, 8, 8, 9, 9, 9, 9, 6, 3, 3, 1, 1, 1, 1, 1, 1, 1,\n",
              "       1, 1, 1, 1, 1, 1, 1, 1, 1, 1, 1, 4, 7, 9, 9, 9, 9, 8, 3, 3, 1, 1,\n",
              "       1, 1, 1, 1, 1, 1, 1, 1, 1, 1, 1, 1, 1, 1, 1, 1, 1, 3, 9, 9, 9, 9,\n",
              "       8, 6, 3, 1, 1, 1, 1, 1, 1, 1, 1, 1, 1, 1, 1, 1, 1, 1, 1, 1, 1, 1,\n",
              "       1, 3, 3, 9, 8, 9, 5, 5, 3, 1, 1, 1, 1, 1, 1, 1, 1, 1, 1, 1, 1, 1,\n",
              "       1, 1, 1, 1, 1, 1, 1, 2, 4, 8, 9, 7, 6, 3, 4, 1, 1, 1, 1, 1, 1, 1,\n",
              "       1, 1, 1, 1, 1, 1, 1, 1, 1, 1, 1, 1, 1, 3, 9, 9, 9, 8, 6, 4, 1, 1,\n",
              "       1, 1, 1, 1, 1, 1, 1, 1, 1, 1, 1, 1, 1, 1, 1, 1, 1, 1, 1, 4, 4, 8,\n",
              "       8, 8, 6, 4, 4, 1, 1, 1, 1, 1, 1, 1, 1, 1, 1, 1, 1, 1, 1, 1, 1, 1,\n",
              "       1, 1, 3, 4, 8, 8, 8, 8, 8, 4, 3, 1, 1, 1, 1, 1, 1, 1, 1, 1, 1, 1,\n",
              "       1, 1, 1, 1, 1, 1, 1, 1, 3, 4, 6, 9, 9, 8, 9, 8, 3, 1, 1, 1, 1, 1,\n",
              "       1, 1, 1, 1, 1, 1, 1, 1, 1, 1, 1, 1, 1, 1, 1, 4, 9, 8, 9, 9, 8, 6,\n",
              "       3, 1, 1, 1, 1, 1, 1, 1, 1, 1, 1, 1, 1, 1, 1, 1, 1, 1, 1, 1, 1, 3,\n",
              "       7, 8, 9, 9, 9, 4, 3, 1, 1, 1, 1, 1, 1, 1, 1, 1, 1, 1, 1, 1, 1, 1,\n",
              "       1, 1, 1, 1, 1, 4, 9, 9, 9, 9, 8, 4, 3, 1, 1, 1, 1, 1, 1, 1, 1, 1,\n",
              "       1, 1, 1, 1, 1, 1, 1, 1, 1, 1, 1, 3, 4, 8, 9, 9, 9, 4, 2, 1, 1, 1,\n",
              "       1, 1, 1, 1, 1, 1, 1, 1, 1, 1, 1, 1, 1, 1, 1, 1, 1, 3, 7, 7, 9, 9,\n",
              "       8, 4, 1, 1, 1, 1, 1, 1, 1, 1, 1, 1, 1, 1, 1, 1, 1, 1, 1, 1, 1, 1,\n",
              "       1, 3, 9, 9, 9, 9, 7, 3, 1, 1, 1, 1, 1, 1, 1, 1, 1, 1, 1, 1, 1, 1,\n",
              "       1, 1, 1, 1, 1, 1, 3, 4, 7, 9, 9, 9, 9, 4, 1, 1, 1, 1, 1, 1, 1, 1,\n",
              "       1, 1, 1, 1, 1, 1, 1, 1, 1, 1, 1, 1, 3, 6, 9, 9, 9, 9, 7, 4, 1, 1,\n",
              "       1, 1, 1, 1, 1, 1, 1, 1, 1, 1, 1, 1, 1, 1, 1, 1, 1, 2, 4, 4, 6, 8,\n",
              "       8, 8, 8, 4, 4, 1, 1, 1, 1, 1, 1, 1, 1, 1, 1, 1, 1, 1, 1, 1, 1, 1,\n",
              "       1, 3, 4, 4, 7, 8, 8, 8, 8, 6, 3, 3, 1, 1, 1, 1, 1, 1, 1, 1, 1, 1,\n",
              "       1, 1, 1, 1, 1, 1, 4, 4, 8, 7, 8, 8, 8, 8, 8, 4, 3, 3, 1, 1, 1, 1,\n",
              "       1, 1, 1, 1, 1, 1, 1, 1, 1, 1, 1, 3, 4, 4, 8, 7, 7, 7, 7, 7, 7, 6,\n",
              "       7, 5, 3, 1, 1, 1, 1, 1, 1, 1, 1, 1, 1, 1, 1, 3, 3, 4, 4, 7, 7, 7,\n",
              "       6, 6, 6, 6, 6, 6, 6, 4, 4, 3, 4, 3, 1, 1, 1, 3, 2, 1, 3, 1, 3, 4,\n",
              "       4, 5, 6, 6, 6, 5, 6, 7, 7, 7, 8, 8, 8, 8, 5, 7, 7, 7, 6, 7, 7, 7,\n",
              "       6, 7, 7, 7, 7, 7, 6, 7, 7, 7, 7, 8, 9, 6])"
            ]
          },
          "metadata": {},
          "execution_count": 65
        }
      ]
    },
    {
      "cell_type": "code",
      "source": [
        "X_wrapper = selector.transform(X)\n",
        "cross_val_score(RFC_,X_wrapper,y,cv=5).mean()"
      ],
      "metadata": {
        "colab": {
          "base_uri": "https://localhost:8080/"
        },
        "id": "MNdZuKJCX5vb",
        "outputId": "288e9a3e-6bac-4e96-fc3a-6ce1603fab50"
      },
      "execution_count": 66,
      "outputs": [
        {
          "output_type": "execute_result",
          "data": {
            "text/plain": [
              "0.9394761904761906"
            ]
          },
          "metadata": {},
          "execution_count": 66
        }
      ]
    },
    {
      "cell_type": "markdown",
      "source": [
        "画包装法学习曲线"
      ],
      "metadata": {
        "id": "cgNPQiVgYxLG"
      }
    },
    {
      "cell_type": "code",
      "source": [
        "score = []\n",
        "for i in range(1,751,50):\n",
        "  X_wrapper = RFE(RFC_,n_features_to_select=i,step=50).fit_transform(X,y)\n",
        "  once = cross_val_score(RFC_,X_wrapper,y,cv=5).mean()\n",
        "  score.append(once)\n",
        "plt.figure(figsize=[20,5])\n",
        "plt.plot(range(1,751,50),score)\n",
        "plt.xticks(range(1,751,50))\n",
        "\n",
        "# 结果显示features选择50多准确率就能达到90"
      ],
      "metadata": {
        "colab": {
          "base_uri": "https://localhost:8080/",
          "height": 560
        },
        "id": "8D-F_kDWYpeY",
        "outputId": "fa65a980-ec93-43a1-dad9-5651fe813dd5"
      },
      "execution_count": 69,
      "outputs": [
        {
          "output_type": "execute_result",
          "data": {
            "text/plain": [
              "([<matplotlib.axis.XTick at 0x7f8a2c6ab990>,\n",
              "  <matplotlib.axis.XTick at 0x7f8a2c6ab5d0>,\n",
              "  <matplotlib.axis.XTick at 0x7f8a2c6ab350>,\n",
              "  <matplotlib.axis.XTick at 0x7f8a2c670290>,\n",
              "  <matplotlib.axis.XTick at 0x7f8a2c65e2d0>,\n",
              "  <matplotlib.axis.XTick at 0x7f8a2c65ea50>,\n",
              "  <matplotlib.axis.XTick at 0x7f8a2c6339d0>,\n",
              "  <matplotlib.axis.XTick at 0x7f8a2c633490>,\n",
              "  <matplotlib.axis.XTick at 0x7f8a2c633150>,\n",
              "  <matplotlib.axis.XTick at 0x7f8a2c670810>,\n",
              "  <matplotlib.axis.XTick at 0x7f8a2c824f50>,\n",
              "  <matplotlib.axis.XTick at 0x7f8a2c8241d0>,\n",
              "  <matplotlib.axis.XTick at 0x7f8a2c6978d0>,\n",
              "  <matplotlib.axis.XTick at 0x7f8a2c737c90>,\n",
              "  <matplotlib.axis.XTick at 0x7f8a2c88f3d0>],\n",
              " <a list of 15 Text major ticklabel objects>)"
            ]
          },
          "metadata": {},
          "execution_count": 69
        },
        {
          "output_type": "display_data",
          "data": {
            "text/plain": [
              "<Figure size 1440x360 with 1 Axes>"
            ],
            "image/png": "[encoded data removed]"
          },
          "metadata": {
            "needs_background": "light"
          }
        }
      ]
    }
  ]
}