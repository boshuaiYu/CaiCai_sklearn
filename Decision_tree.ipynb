{
  "nbformat": 4,
  "nbformat_minor": 0,
  "metadata": {
    "colab": {
      "provenance": [],
      "collapsed_sections": [],
      "authorship_tag": "ABX9TyPp4cL+lLKmWxi6xffsqFCJ",
      "include_colab_link": true
    },
    "kernelspec": {
      "name": "python3",
      "display_name": "Python 3"
    },
    "language_info": {
      "name": "python"
    }
  },
  "cells": [
    {
      "cell_type": "markdown",
      "metadata": {
        "id": "view-in-github",
        "colab_type": "text"
      },
      "source": [
        "<a href=\"https://colab.research.google.com/github/boshuaiYu/CaiCai_sklearn/blob/main/Decision_tree.ipynb\" target=\"_parent\"><img src=\"https://colab.research.google.com/assets/colab-badge.svg\" alt=\"Open In Colab\"/></a>"
      ]
    },
    {
      "cell_type": "code",
      "execution_count": 72,
      "metadata": {
        "id": "aF5fDeCPxzPl"
      },
      "outputs": [],
      "source": [
        "\"\"\"\n",
        "1. criterion\n",
        "\n",
        "1.1 通常使用使用基尼系数\n",
        "1.2 数据维度很大，噪声很大时用Gini系数\n",
        "1.3 维数低，数据比较清晰时，两者区别不大\n",
        "1.4 决策树欠拟合，使用信息熵（entropy）\n",
        "\n",
        "\"\"\"\n",
        "from sklearn import tree\n",
        "from sklearn.datasets import load_wine\n",
        "from sklearn.model_selection import train_test_split\n",
        "\n",
        "wine = load_wine()"
      ]
    },
    {
      "cell_type": "code",
      "source": [
        "wine.data.shape"
      ],
      "metadata": {
        "colab": {
          "base_uri": "https://localhost:8080/"
        },
        "id": "x22UzsMpx6b6",
        "outputId": "fdc8a56f-3a1d-47d1-d7e8-25a313340aa1"
      },
      "execution_count": 73,
      "outputs": [
        {
          "output_type": "execute_result",
          "data": {
            "text/plain": [
              "(178, 13)"
            ]
          },
          "metadata": {},
          "execution_count": 73
        }
      ]
    },
    {
      "cell_type": "code",
      "source": [
        "import pandas as pd\n",
        "pd.concat([pd.DataFrame(wine.data), pd.DataFrame(wine.target)], axis=1)"
      ],
      "metadata": {
        "colab": {
          "base_uri": "https://localhost:8080/",
          "height": 424
        },
        "id": "B2e4Y5uqyFcZ",
        "outputId": "6bc815e8-fbb2-4204-bd3a-94ed564b4324"
      },
      "execution_count": 74,
      "outputs": [
        {
          "output_type": "execute_result",
          "data": {
            "text/plain": [
              "        0     1     2     3      4     5     6     7     8      9     10  \\\n",
              "0    14.23  1.71  2.43  15.6  127.0  2.80  3.06  0.28  2.29   5.64  1.04   \n",
              "1    13.20  1.78  2.14  11.2  100.0  2.65  2.76  0.26  1.28   4.38  1.05   \n",
              "2    13.16  2.36  2.67  18.6  101.0  2.80  3.24  0.30  2.81   5.68  1.03   \n",
              "3    14.37  1.95  2.50  16.8  113.0  3.85  3.49  0.24  2.18   7.80  0.86   \n",
              "4    13.24  2.59  2.87  21.0  118.0  2.80  2.69  0.39  1.82   4.32  1.04   \n",
              "..     ...   ...   ...   ...    ...   ...   ...   ...   ...    ...   ...   \n",
              "173  13.71  5.65  2.45  20.5   95.0  1.68  0.61  0.52  1.06   7.70  0.64   \n",
              "174  13.40  3.91  2.48  23.0  102.0  1.80  0.75  0.43  1.41   7.30  0.70   \n",
              "175  13.27  4.28  2.26  20.0  120.0  1.59  0.69  0.43  1.35  10.20  0.59   \n",
              "176  13.17  2.59  2.37  20.0  120.0  1.65  0.68  0.53  1.46   9.30  0.60   \n",
              "177  14.13  4.10  2.74  24.5   96.0  2.05  0.76  0.56  1.35   9.20  0.61   \n",
              "\n",
              "       11      12  0   \n",
              "0    3.92  1065.0   0  \n",
              "1    3.40  1050.0   0  \n",
              "2    3.17  1185.0   0  \n",
              "3    3.45  1480.0   0  \n",
              "4    2.93   735.0   0  \n",
              "..    ...     ...  ..  \n",
              "173  1.74   740.0   2  \n",
              "174  1.56   750.0   2  \n",
              "175  1.56   835.0   2  \n",
              "176  1.62   840.0   2  \n",
              "177  1.60   560.0   2  \n",
              "\n",
              "[178 rows x 14 columns]"
            ],
            "text/html": [
              "\n",
              "  <div id=\"df-0b47ade3-7519-4ae0-8130-a902ff6ae211\">\n",
              "    <div class=\"colab-df-container\">\n",
              "      <div>\n",
              "<style scoped>\n",
              "    .dataframe tbody tr th:only-of-type {\n",
              "        vertical-align: middle;\n",
              "    }\n",
              "\n",
              "    .dataframe tbody tr th {\n",
              "        vertical-align: top;\n",
              "    }\n",
              "\n",
              "    .dataframe thead th {\n",
              "        text-align: right;\n",
              "    }\n",
              "</style>\n",
              "<table border=\"1\" class=\"dataframe\">\n",
              "  <thead>\n",
              "    <tr style=\"text-align: right;\">\n",
              "      <th></th>\n",
              "      <th>0</th>\n",
              "      <th>1</th>\n",
              "      <th>2</th>\n",
              "      <th>3</th>\n",
              "      <th>4</th>\n",
              "      <th>5</th>\n",
              "      <th>6</th>\n",
              "      <th>7</th>\n",
              "      <th>8</th>\n",
              "      <th>9</th>\n",
              "      <th>10</th>\n",
              "      <th>11</th>\n",
              "      <th>12</th>\n",
              "      <th>0</th>\n",
              "    </tr>\n",
              "  </thead>\n",
              "  <tbody>\n",
              "    <tr>\n",
              "      <th>0</th>\n",
              "      <td>14.23</td>\n",
              "      <td>1.71</td>\n",
              "      <td>2.43</td>\n",
              "      <td>15.6</td>\n",
              "      <td>127.0</td>\n",
              "      <td>2.80</td>\n",
              "      <td>3.06</td>\n",
              "      <td>0.28</td>\n",
              "      <td>2.29</td>\n",
              "      <td>5.64</td>\n",
              "      <td>1.04</td>\n",
              "      <td>3.92</td>\n",
              "      <td>1065.0</td>\n",
              "      <td>0</td>\n",
              "    </tr>\n",
              "    <tr>\n",
              "      <th>1</th>\n",
              "      <td>13.20</td>\n",
              "      <td>1.78</td>\n",
              "      <td>2.14</td>\n",
              "      <td>11.2</td>\n",
              "      <td>100.0</td>\n",
              "      <td>2.65</td>\n",
              "      <td>2.76</td>\n",
              "      <td>0.26</td>\n",
              "      <td>1.28</td>\n",
              "      <td>4.38</td>\n",
              "      <td>1.05</td>\n",
              "      <td>3.40</td>\n",
              "      <td>1050.0</td>\n",
              "      <td>0</td>\n",
              "    </tr>\n",
              "    <tr>\n",
              "      <th>2</th>\n",
              "      <td>13.16</td>\n",
              "      <td>2.36</td>\n",
              "      <td>2.67</td>\n",
              "      <td>18.6</td>\n",
              "      <td>101.0</td>\n",
              "      <td>2.80</td>\n",
              "      <td>3.24</td>\n",
              "      <td>0.30</td>\n",
              "      <td>2.81</td>\n",
              "      <td>5.68</td>\n",
              "      <td>1.03</td>\n",
              "      <td>3.17</td>\n",
              "      <td>1185.0</td>\n",
              "      <td>0</td>\n",
              "    </tr>\n",
              "    <tr>\n",
              "      <th>3</th>\n",
              "      <td>14.37</td>\n",
              "      <td>1.95</td>\n",
              "      <td>2.50</td>\n",
              "      <td>16.8</td>\n",
              "      <td>113.0</td>\n",
              "      <td>3.85</td>\n",
              "      <td>3.49</td>\n",
              "      <td>0.24</td>\n",
              "      <td>2.18</td>\n",
              "      <td>7.80</td>\n",
              "      <td>0.86</td>\n",
              "      <td>3.45</td>\n",
              "      <td>1480.0</td>\n",
              "      <td>0</td>\n",
              "    </tr>\n",
              "    <tr>\n",
              "      <th>4</th>\n",
              "      <td>13.24</td>\n",
              "      <td>2.59</td>\n",
              "      <td>2.87</td>\n",
              "      <td>21.0</td>\n",
              "      <td>118.0</td>\n",
              "      <td>2.80</td>\n",
              "      <td>2.69</td>\n",
              "      <td>0.39</td>\n",
              "      <td>1.82</td>\n",
              "      <td>4.32</td>\n",
              "      <td>1.04</td>\n",
              "      <td>2.93</td>\n",
              "      <td>735.0</td>\n",
              "      <td>0</td>\n",
              "    </tr>\n",
              "    <tr>\n",
              "      <th>...</th>\n",
              "      <td>...</td>\n",
              "      <td>...</td>\n",
              "      <td>...</td>\n",
              "      <td>...</td>\n",
              "      <td>...</td>\n",
              "      <td>...</td>\n",
              "      <td>...</td>\n",
              "      <td>...</td>\n",
              "      <td>...</td>\n",
              "      <td>...</td>\n",
              "      <td>...</td>\n",
              "      <td>...</td>\n",
              "      <td>...</td>\n",
              "      <td>...</td>\n",
              "    </tr>\n",
              "    <tr>\n",
              "      <th>173</th>\n",
              "      <td>13.71</td>\n",
              "      <td>5.65</td>\n",
              "      <td>2.45</td>\n",
              "      <td>20.5</td>\n",
              "      <td>95.0</td>\n",
              "      <td>1.68</td>\n",
              "      <td>0.61</td>\n",
              "      <td>0.52</td>\n",
              "      <td>1.06</td>\n",
              "      <td>7.70</td>\n",
              "      <td>0.64</td>\n",
              "      <td>1.74</td>\n",
              "      <td>740.0</td>\n",
              "      <td>2</td>\n",
              "    </tr>\n",
              "    <tr>\n",
              "      <th>174</th>\n",
              "      <td>13.40</td>\n",
              "      <td>3.91</td>\n",
              "      <td>2.48</td>\n",
              "      <td>23.0</td>\n",
              "      <td>102.0</td>\n",
              "      <td>1.80</td>\n",
              "      <td>0.75</td>\n",
              "      <td>0.43</td>\n",
              "      <td>1.41</td>\n",
              "      <td>7.30</td>\n",
              "      <td>0.70</td>\n",
              "      <td>1.56</td>\n",
              "      <td>750.0</td>\n",
              "      <td>2</td>\n",
              "    </tr>\n",
              "    <tr>\n",
              "      <th>175</th>\n",
              "      <td>13.27</td>\n",
              "      <td>4.28</td>\n",
              "      <td>2.26</td>\n",
              "      <td>20.0</td>\n",
              "      <td>120.0</td>\n",
              "      <td>1.59</td>\n",
              "      <td>0.69</td>\n",
              "      <td>0.43</td>\n",
              "      <td>1.35</td>\n",
              "      <td>10.20</td>\n",
              "      <td>0.59</td>\n",
              "      <td>1.56</td>\n",
              "      <td>835.0</td>\n",
              "      <td>2</td>\n",
              "    </tr>\n",
              "    <tr>\n",
              "      <th>176</th>\n",
              "      <td>13.17</td>\n",
              "      <td>2.59</td>\n",
              "      <td>2.37</td>\n",
              "      <td>20.0</td>\n",
              "      <td>120.0</td>\n",
              "      <td>1.65</td>\n",
              "      <td>0.68</td>\n",
              "      <td>0.53</td>\n",
              "      <td>1.46</td>\n",
              "      <td>9.30</td>\n",
              "      <td>0.60</td>\n",
              "      <td>1.62</td>\n",
              "      <td>840.0</td>\n",
              "      <td>2</td>\n",
              "    </tr>\n",
              "    <tr>\n",
              "      <th>177</th>\n",
              "      <td>14.13</td>\n",
              "      <td>4.10</td>\n",
              "      <td>2.74</td>\n",
              "      <td>24.5</td>\n",
              "      <td>96.0</td>\n",
              "      <td>2.05</td>\n",
              "      <td>0.76</td>\n",
              "      <td>0.56</td>\n",
              "      <td>1.35</td>\n",
              "      <td>9.20</td>\n",
              "      <td>0.61</td>\n",
              "      <td>1.60</td>\n",
              "      <td>560.0</td>\n",
              "      <td>2</td>\n",
              "    </tr>\n",
              "  </tbody>\n",
              "</table>\n",
              "<p>178 rows × 14 columns</p>\n",
              "</div>\n",
              "      <button class=\"colab-df-convert\" onclick=\"convertToInteractive('df-0b47ade3-7519-4ae0-8130-a902ff6ae211')\"\n",
              "              title=\"Convert this dataframe to an interactive table.\"\n",
              "              style=\"display:none;\">\n",
              "        \n",
              "  <svg xmlns=\"http://www.w3.org/2000/svg\" height=\"24px\"viewBox=\"0 0 24 24\"\n",
              "       width=\"24px\">\n",
              "    <path d=\"M0 0h24v24H0V0z\" fill=\"none\"/>\n",
              "    <path d=\"M18.56 5.44l.94 2.06.94-2.06 2.06-.94-2.06-.94-.94-2.06-.94 2.06-2.06.94zm-11 1L8.5 8.5l.94-2.06 2.06-.94-2.06-.94L8.5 2.5l-.94 2.06-2.06.94zm10 10l.94 2.06.94-2.06 2.06-.94-2.06-.94-.94-2.06-.94 2.06-2.06.94z\"/><path d=\"M17.41 7.96l-1.37-1.37c-.4-.4-.92-.59-1.43-.59-.52 0-1.04.2-1.43.59L10.3 9.45l-7.72 7.72c-.78.78-.78 2.05 0 2.83L4 21.41c.39.39.9.59 1.41.59.51 0 1.02-.2 1.41-.59l7.78-7.78 2.81-2.81c.8-.78.8-2.07 0-2.86zM5.41 20L4 18.59l7.72-7.72 1.47 1.35L5.41 20z\"/>\n",
              "  </svg>\n",
              "      </button>\n",
              "      \n",
              "  <style>\n",
              "    .colab-df-container {\n",
              "      display:flex;\n",
              "      flex-wrap:wrap;\n",
              "      gap: 12px;\n",
              "    }\n",
              "\n",
              "    .colab-df-convert {\n",
              "      background-color: #E8F0FE;\n",
              "      border: none;\n",
              "      border-radius: 50%;\n",
              "      cursor: pointer;\n",
              "      display: none;\n",
              "      fill: #1967D2;\n",
              "      height: 32px;\n",
              "      padding: 0 0 0 0;\n",
              "      width: 32px;\n",
              "    }\n",
              "\n",
              "    .colab-df-convert:hover {\n",
              "      background-color: #E2EBFA;\n",
              "      box-shadow: 0px 1px 2px rgba(60, 64, 67, 0.3), 0px 1px 3px 1px rgba(60, 64, 67, 0.15);\n",
              "      fill: #174EA6;\n",
              "    }\n",
              "\n",
              "    [theme=dark] .colab-df-convert {\n",
              "      background-color: #3B4455;\n",
              "      fill: #D2E3FC;\n",
              "    }\n",
              "\n",
              "    [theme=dark] .colab-df-convert:hover {\n",
              "      background-color: #434B5C;\n",
              "      box-shadow: 0px 1px 3px 1px rgba(0, 0, 0, 0.15);\n",
              "      filter: drop-shadow(0px 1px 2px rgba(0, 0, 0, 0.3));\n",
              "      fill: #FFFFFF;\n",
              "    }\n",
              "  </style>\n",
              "\n",
              "      <script>\n",
              "        const buttonEl =\n",
              "          document.querySelector('#df-0b47ade3-7519-4ae0-8130-a902ff6ae211 button.colab-df-convert');\n",
              "        buttonEl.style.display =\n",
              "          google.colab.kernel.accessAllowed ? 'block' : 'none';\n",
              "\n",
              "        async function convertToInteractive(key) {\n",
              "          const element = document.querySelector('#df-0b47ade3-7519-4ae0-8130-a902ff6ae211');\n",
              "          const dataTable =\n",
              "            await google.colab.kernel.invokeFunction('convertToInteractive',\n",
              "                                                     [key], {});\n",
              "          if (!dataTable) return;\n",
              "\n",
              "          const docLinkHtml = 'Like what you see? Visit the ' +\n",
              "            '<a target=\"_blank\" href=https://colab.research.google.com/notebooks/data_table.ipynb>data table notebook</a>'\n",
              "            + ' to learn more about interactive tables.';\n",
              "          element.innerHTML = '';\n",
              "          dataTable['output_type'] = 'display_data';\n",
              "          await google.colab.output.renderOutput(dataTable, element);\n",
              "          const docLink = document.createElement('div');\n",
              "          docLink.innerHTML = docLinkHtml;\n",
              "          element.appendChild(docLink);\n",
              "        }\n",
              "      </script>\n",
              "    </div>\n",
              "  </div>\n",
              "  "
            ]
          },
          "metadata": {},
          "execution_count": 74
        }
      ]
    },
    {
      "cell_type": "code",
      "source": [
        "wine.feature_names\n"
      ],
      "metadata": {
        "colab": {
          "base_uri": "https://localhost:8080/"
        },
        "id": "9Kli3P7IycjG",
        "outputId": "bdfd239f-4a22-47a7-e370-3be0fb03962b"
      },
      "execution_count": 75,
      "outputs": [
        {
          "output_type": "execute_result",
          "data": {
            "text/plain": [
              "['alcohol',\n",
              " 'malic_acid',\n",
              " 'ash',\n",
              " 'alcalinity_of_ash',\n",
              " 'magnesium',\n",
              " 'total_phenols',\n",
              " 'flavanoids',\n",
              " 'nonflavanoid_phenols',\n",
              " 'proanthocyanins',\n",
              " 'color_intensity',\n",
              " 'hue',\n",
              " 'od280/od315_of_diluted_wines',\n",
              " 'proline']"
            ]
          },
          "metadata": {},
          "execution_count": 75
        }
      ]
    },
    {
      "cell_type": "code",
      "source": [
        "wine.target_names"
      ],
      "metadata": {
        "colab": {
          "base_uri": "https://localhost:8080/"
        },
        "id": "C2y6_k3hy1FH",
        "outputId": "2468bfee-3f7b-4726-ee1d-88b7e3369264"
      },
      "execution_count": 76,
      "outputs": [
        {
          "output_type": "execute_result",
          "data": {
            "text/plain": [
              "array(['class_0', 'class_1', 'class_2'], dtype='<U7')"
            ]
          },
          "metadata": {},
          "execution_count": 76
        }
      ]
    },
    {
      "cell_type": "code",
      "source": [
        "Xtrain, Xtest, Ytrain, Ytest = train_test_split(wine.data,wine.target,test_size=0.3) # 顺序一定是X,X,Y,Y\n",
        "# 随机划分数据集，结果准确率可能会不一样"
      ],
      "metadata": {
        "id": "ldOQrWbgy7zv"
      },
      "execution_count": 77,
      "outputs": []
    },
    {
      "cell_type": "code",
      "source": [
        "Xtrain.shape, Xtest.shape"
      ],
      "metadata": {
        "colab": {
          "base_uri": "https://localhost:8080/"
        },
        "id": "-K7ec2v7zXA-",
        "outputId": "1d81b261-04ab-4bb6-f39e-33f787bd89d4"
      },
      "execution_count": 78,
      "outputs": [
        {
          "output_type": "execute_result",
          "data": {
            "text/plain": [
              "((124, 13), (54, 13))"
            ]
          },
          "metadata": {},
          "execution_count": 78
        }
      ]
    },
    {
      "cell_type": "code",
      "source": [
        "# 实例化\n",
        "clf = tree.DecisionTreeClassifier(criterion=\"entropy\")\n",
        "# 训练(fit)\n",
        "clf = clf.fit(Xtrain,Ytrain)\n",
        "# 评价\n",
        "score = clf.score(Xtest,Ytest) # 返回的是预测的准确度"
      ],
      "metadata": {
        "id": "sNFPdpMHzojO"
      },
      "execution_count": 79,
      "outputs": []
    },
    {
      "cell_type": "code",
      "source": [
        "score"
      ],
      "metadata": {
        "colab": {
          "base_uri": "https://localhost:8080/"
        },
        "id": "tuL5N_bk0kA1",
        "outputId": "51f5871f-ca32-41a9-c801-371ca29f3cdd"
      },
      "execution_count": 80,
      "outputs": [
        {
          "output_type": "execute_result",
          "data": {
            "text/plain": [
              "0.9444444444444444"
            ]
          },
          "metadata": {},
          "execution_count": 80
        }
      ]
    },
    {
      "cell_type": "code",
      "source": [
        "from numpy import source\n",
        "feature_name = ['酒精','苹果酸','灰','灰的碱性','镁','总酚','类黄酮','非黄烷类酚类','花青素','颜色强度','色调','od280/od315稀释葡萄酒','脯氨酸']\n",
        "\n",
        "import graphviz\n",
        "dot_data = tree.export_graphviz(clf\n",
        "                  ,feature_names=feature_name # 特征的名称\n",
        "                  ,class_names=[\"琴酒\",\"雪莉\",\"贝尔摩德\"] # 类的名称\n",
        "                  ,filled=True # 是否填充颜色\n",
        "                  ,rounded=True) # 框型是否是方的\n",
        "graph = graphviz.Source(dot_data)\n",
        "graph"
      ],
      "metadata": {
        "colab": {
          "base_uri": "https://localhost:8080/",
          "height": 757
        },
        "id": "oJpjPdd50lC0",
        "outputId": "caa49037-09d3-495b-986e-a9c5b33adcf2"
      },
      "execution_count": 83,
      "outputs": [
        {
          "output_type": "execute_result",
          "data": {
            "text/plain": [
              "<graphviz.files.Source at 0x7f7df88cba50>"
            ],
            "image/svg+xml": "<?xml version=\"1.0\" encoding=\"UTF-8\" standalone=\"no\"?>\n<!DOCTYPE svg PUBLIC \"-//W3C//DTD SVG 1.1//EN\"\n \"http://www.w3.org/Graphics/SVG/1.1/DTD/svg11.dtd\">\n<!-- Generated by graphviz version 2.40.1 (20161225.0304)\n -->\n<!-- Title: Tree Pages: 1 -->\n<svg width=\"704pt\" height=\"552pt\"\n viewBox=\"0.00 0.00 704.00 552.00\" xmlns=\"http://www.w3.org/2000/svg\" xmlns:xlink=\"http://www.w3.org/1999/xlink\">\n<g id=\"graph0\" class=\"graph\" transform=\"scale(1 1) rotate(0) translate(4 548)\">\n<title>Tree</title>\n<polygon fill=\"#ffffff\" stroke=\"transparent\" points=\"-4,4 -4,-548 700,-548 700,4 -4,4\"/>\n<!-- 0 -->\n<g id=\"node1\" class=\"node\">\n<title>0</title>\n<path fill=\"#e5fcee\" stroke=\"#000000\" d=\"M324.5,-544C324.5,-544 208.5,-544 208.5,-544 202.5,-544 196.5,-538 196.5,-532 196.5,-532 196.5,-473 196.5,-473 196.5,-467 202.5,-461 208.5,-461 208.5,-461 324.5,-461 324.5,-461 330.5,-461 336.5,-467 336.5,-473 336.5,-473 336.5,-532 336.5,-532 336.5,-538 330.5,-544 324.5,-544\"/>\n<text text-anchor=\"middle\" x=\"266.5\" y=\"-528.8\" font-family=\"Helvetica,sans-Serif\" font-size=\"14.00\" fill=\"#000000\">类黄酮 &lt;= 1.575</text>\n<text text-anchor=\"middle\" x=\"266.5\" y=\"-513.8\" font-family=\"Helvetica,sans-Serif\" font-size=\"14.00\" fill=\"#000000\">entropy = 1.562</text>\n<text text-anchor=\"middle\" x=\"266.5\" y=\"-498.8\" font-family=\"Helvetica,sans-Serif\" font-size=\"14.00\" fill=\"#000000\">samples = 124</text>\n<text text-anchor=\"middle\" x=\"266.5\" y=\"-483.8\" font-family=\"Helvetica,sans-Serif\" font-size=\"14.00\" fill=\"#000000\">value = [40, 51, 33]</text>\n<text text-anchor=\"middle\" x=\"266.5\" y=\"-468.8\" font-family=\"Helvetica,sans-Serif\" font-size=\"14.00\" fill=\"#000000\">class = 雪莉</text>\n</g>\n<!-- 1 -->\n<g id=\"node2\" class=\"node\">\n<title>1</title>\n<path fill=\"#a069eb\" stroke=\"#000000\" d=\"M246.5,-425C246.5,-425 136.5,-425 136.5,-425 130.5,-425 124.5,-419 124.5,-413 124.5,-413 124.5,-354 124.5,-354 124.5,-348 130.5,-342 136.5,-342 136.5,-342 246.5,-342 246.5,-342 252.5,-342 258.5,-348 258.5,-354 258.5,-354 258.5,-413 258.5,-413 258.5,-419 252.5,-425 246.5,-425\"/>\n<text text-anchor=\"middle\" x=\"191.5\" y=\"-409.8\" font-family=\"Helvetica,sans-Serif\" font-size=\"14.00\" fill=\"#000000\">颜色强度 &lt;= 3.825</text>\n<text text-anchor=\"middle\" x=\"191.5\" y=\"-394.8\" font-family=\"Helvetica,sans-Serif\" font-size=\"14.00\" fill=\"#000000\">entropy = 0.712</text>\n<text text-anchor=\"middle\" x=\"191.5\" y=\"-379.8\" font-family=\"Helvetica,sans-Serif\" font-size=\"14.00\" fill=\"#000000\">samples = 41</text>\n<text text-anchor=\"middle\" x=\"191.5\" y=\"-364.8\" font-family=\"Helvetica,sans-Serif\" font-size=\"14.00\" fill=\"#000000\">value = [0, 8, 33]</text>\n<text text-anchor=\"middle\" x=\"191.5\" y=\"-349.8\" font-family=\"Helvetica,sans-Serif\" font-size=\"14.00\" fill=\"#000000\">class = 贝尔摩德</text>\n</g>\n<!-- 0&#45;&gt;1 -->\n<g id=\"edge1\" class=\"edge\">\n<title>0&#45;&gt;1</title>\n<path fill=\"none\" stroke=\"#000000\" d=\"M240.2686,-460.8796C234.7627,-452.1434 228.8994,-442.8404 223.2176,-433.8253\"/>\n<polygon fill=\"#000000\" stroke=\"#000000\" points=\"226.1363,-431.8919 217.8433,-425.2981 220.2143,-435.6242 226.1363,-431.8919\"/>\n<text text-anchor=\"middle\" x=\"212.3137\" y=\"-445.9789\" font-family=\"Helvetica,sans-Serif\" font-size=\"14.00\" fill=\"#000000\">True</text>\n</g>\n<!-- 4 -->\n<g id=\"node5\" class=\"node\">\n<title>4</title>\n<path fill=\"#f1fdf6\" stroke=\"#000000\" d=\"M396,-425C396,-425 289,-425 289,-425 283,-425 277,-419 277,-413 277,-413 277,-354 277,-354 277,-348 283,-342 289,-342 289,-342 396,-342 396,-342 402,-342 408,-348 408,-354 408,-354 408,-413 408,-413 408,-419 402,-425 396,-425\"/>\n<text text-anchor=\"middle\" x=\"342.5\" y=\"-409.8\" font-family=\"Helvetica,sans-Serif\" font-size=\"14.00\" fill=\"#000000\">脯氨酸 &lt;= 755.0</text>\n<text text-anchor=\"middle\" x=\"342.5\" y=\"-394.8\" font-family=\"Helvetica,sans-Serif\" font-size=\"14.00\" fill=\"#000000\">entropy = 0.999</text>\n<text text-anchor=\"middle\" x=\"342.5\" y=\"-379.8\" font-family=\"Helvetica,sans-Serif\" font-size=\"14.00\" fill=\"#000000\">samples = 83</text>\n<text text-anchor=\"middle\" x=\"342.5\" y=\"-364.8\" font-family=\"Helvetica,sans-Serif\" font-size=\"14.00\" fill=\"#000000\">value = [40, 43, 0]</text>\n<text text-anchor=\"middle\" x=\"342.5\" y=\"-349.8\" font-family=\"Helvetica,sans-Serif\" font-size=\"14.00\" fill=\"#000000\">class = 雪莉</text>\n</g>\n<!-- 0&#45;&gt;4 -->\n<g id=\"edge4\" class=\"edge\">\n<title>0&#45;&gt;4</title>\n<path fill=\"none\" stroke=\"#000000\" d=\"M293.0811,-460.8796C298.6605,-452.1434 304.6019,-442.8404 310.3595,-433.8253\"/>\n<polygon fill=\"#000000\" stroke=\"#000000\" points=\"313.3726,-435.6098 315.8054,-425.2981 307.4731,-431.8421 313.3726,-435.6098\"/>\n<text text-anchor=\"middle\" x=\"321.1889\" y=\"-446.0116\" font-family=\"Helvetica,sans-Serif\" font-size=\"14.00\" fill=\"#000000\">False</text>\n</g>\n<!-- 2 -->\n<g id=\"node3\" class=\"node\">\n<title>2</title>\n<path fill=\"#39e581\" stroke=\"#000000\" d=\"M103,-298.5C103,-298.5 12,-298.5 12,-298.5 6,-298.5 0,-292.5 0,-286.5 0,-286.5 0,-242.5 0,-242.5 0,-236.5 6,-230.5 12,-230.5 12,-230.5 103,-230.5 103,-230.5 109,-230.5 115,-236.5 115,-242.5 115,-242.5 115,-286.5 115,-286.5 115,-292.5 109,-298.5 103,-298.5\"/>\n<text text-anchor=\"middle\" x=\"57.5\" y=\"-283.3\" font-family=\"Helvetica,sans-Serif\" font-size=\"14.00\" fill=\"#000000\">entropy = 0.0</text>\n<text text-anchor=\"middle\" x=\"57.5\" y=\"-268.3\" font-family=\"Helvetica,sans-Serif\" font-size=\"14.00\" fill=\"#000000\">samples = 8</text>\n<text text-anchor=\"middle\" x=\"57.5\" y=\"-253.3\" font-family=\"Helvetica,sans-Serif\" font-size=\"14.00\" fill=\"#000000\">value = [0, 8, 0]</text>\n<text text-anchor=\"middle\" x=\"57.5\" y=\"-238.3\" font-family=\"Helvetica,sans-Serif\" font-size=\"14.00\" fill=\"#000000\">class = 雪莉</text>\n</g>\n<!-- 1&#45;&gt;2 -->\n<g id=\"edge2\" class=\"edge\">\n<title>1&#45;&gt;2</title>\n<path fill=\"none\" stroke=\"#000000\" d=\"M144.6333,-341.8796C131.3844,-330.1138 116.9776,-317.3197 103.7644,-305.5855\"/>\n<polygon fill=\"#000000\" stroke=\"#000000\" points=\"105.9416,-302.8381 96.1403,-298.8149 101.2935,-308.0722 105.9416,-302.8381\"/>\n</g>\n<!-- 3 -->\n<g id=\"node4\" class=\"node\">\n<title>3</title>\n<path fill=\"#8139e5\" stroke=\"#000000\" d=\"M244,-298.5C244,-298.5 145,-298.5 145,-298.5 139,-298.5 133,-292.5 133,-286.5 133,-286.5 133,-242.5 133,-242.5 133,-236.5 139,-230.5 145,-230.5 145,-230.5 244,-230.5 244,-230.5 250,-230.5 256,-236.5 256,-242.5 256,-242.5 256,-286.5 256,-286.5 256,-292.5 250,-298.5 244,-298.5\"/>\n<text text-anchor=\"middle\" x=\"194.5\" y=\"-283.3\" font-family=\"Helvetica,sans-Serif\" font-size=\"14.00\" fill=\"#000000\">entropy = 0.0</text>\n<text text-anchor=\"middle\" x=\"194.5\" y=\"-268.3\" font-family=\"Helvetica,sans-Serif\" font-size=\"14.00\" fill=\"#000000\">samples = 33</text>\n<text text-anchor=\"middle\" x=\"194.5\" y=\"-253.3\" font-family=\"Helvetica,sans-Serif\" font-size=\"14.00\" fill=\"#000000\">value = [0, 0, 33]</text>\n<text text-anchor=\"middle\" x=\"194.5\" y=\"-238.3\" font-family=\"Helvetica,sans-Serif\" font-size=\"14.00\" fill=\"#000000\">class = 贝尔摩德</text>\n</g>\n<!-- 1&#45;&gt;3 -->\n<g id=\"edge3\" class=\"edge\">\n<title>1&#45;&gt;3</title>\n<path fill=\"none\" stroke=\"#000000\" d=\"M192.5493,-341.8796C192.8182,-331.2134 193.1084,-319.7021 193.3806,-308.9015\"/>\n<polygon fill=\"#000000\" stroke=\"#000000\" points=\"196.8817,-308.9 193.6349,-298.8149 189.8839,-308.7235 196.8817,-308.9\"/>\n</g>\n<!-- 5 -->\n<g id=\"node6\" class=\"node\">\n<title>5</title>\n<path fill=\"#3ee684\" stroke=\"#000000\" d=\"M390,-306C390,-306 291,-306 291,-306 285,-306 279,-300 279,-294 279,-294 279,-235 279,-235 279,-229 285,-223 291,-223 291,-223 390,-223 390,-223 396,-223 402,-229 402,-235 402,-235 402,-294 402,-294 402,-300 396,-306 390,-306\"/>\n<text text-anchor=\"middle\" x=\"340.5\" y=\"-290.8\" font-family=\"Helvetica,sans-Serif\" font-size=\"14.00\" fill=\"#000000\">酒精 &lt;= 13.175</text>\n<text text-anchor=\"middle\" x=\"340.5\" y=\"-275.8\" font-family=\"Helvetica,sans-Serif\" font-size=\"14.00\" fill=\"#000000\">entropy = 0.165</text>\n<text text-anchor=\"middle\" x=\"340.5\" y=\"-260.8\" font-family=\"Helvetica,sans-Serif\" font-size=\"14.00\" fill=\"#000000\">samples = 41</text>\n<text text-anchor=\"middle\" x=\"340.5\" y=\"-245.8\" font-family=\"Helvetica,sans-Serif\" font-size=\"14.00\" fill=\"#000000\">value = [1, 40, 0]</text>\n<text text-anchor=\"middle\" x=\"340.5\" y=\"-230.8\" font-family=\"Helvetica,sans-Serif\" font-size=\"14.00\" fill=\"#000000\">class = 雪莉</text>\n</g>\n<!-- 4&#45;&gt;5 -->\n<g id=\"edge5\" class=\"edge\">\n<title>4&#45;&gt;5</title>\n<path fill=\"none\" stroke=\"#000000\" d=\"M341.8005,-341.8796C341.6628,-333.6838 341.5166,-324.9891 341.374,-316.5013\"/>\n<polygon fill=\"#000000\" stroke=\"#000000\" points=\"344.8701,-316.2378 341.2025,-306.2981 337.8711,-316.3555 344.8701,-316.2378\"/>\n</g>\n<!-- 10 -->\n<g id=\"node11\" class=\"node\">\n<title>10</title>\n<path fill=\"#e78b48\" stroke=\"#000000\" d=\"M552.5,-306C552.5,-306 442.5,-306 442.5,-306 436.5,-306 430.5,-300 430.5,-294 430.5,-294 430.5,-235 430.5,-235 430.5,-229 436.5,-223 442.5,-223 442.5,-223 552.5,-223 552.5,-223 558.5,-223 564.5,-229 564.5,-235 564.5,-235 564.5,-294 564.5,-294 564.5,-300 558.5,-306 552.5,-306\"/>\n<text text-anchor=\"middle\" x=\"497.5\" y=\"-290.8\" font-family=\"Helvetica,sans-Serif\" font-size=\"14.00\" fill=\"#000000\">颜色强度 &lt;= 3.525</text>\n<text text-anchor=\"middle\" x=\"497.5\" y=\"-275.8\" font-family=\"Helvetica,sans-Serif\" font-size=\"14.00\" fill=\"#000000\">entropy = 0.371</text>\n<text text-anchor=\"middle\" x=\"497.5\" y=\"-260.8\" font-family=\"Helvetica,sans-Serif\" font-size=\"14.00\" fill=\"#000000\">samples = 42</text>\n<text text-anchor=\"middle\" x=\"497.5\" y=\"-245.8\" font-family=\"Helvetica,sans-Serif\" font-size=\"14.00\" fill=\"#000000\">value = [39, 3, 0]</text>\n<text text-anchor=\"middle\" x=\"497.5\" y=\"-230.8\" font-family=\"Helvetica,sans-Serif\" font-size=\"14.00\" fill=\"#000000\">class = 琴酒</text>\n</g>\n<!-- 4&#45;&gt;10 -->\n<g id=\"edge10\" class=\"edge\">\n<title>4&#45;&gt;10</title>\n<path fill=\"none\" stroke=\"#000000\" d=\"M396.7115,-341.8796C409.1006,-332.368 422.3649,-322.1843 435.0676,-312.432\"/>\n<polygon fill=\"#000000\" stroke=\"#000000\" points=\"437.5186,-314.9628 443.3191,-306.0969 433.2558,-309.4105 437.5186,-314.9628\"/>\n</g>\n<!-- 6 -->\n<g id=\"node7\" class=\"node\">\n<title>6</title>\n<path fill=\"#39e581\" stroke=\"#000000\" d=\"M229,-179.5C229,-179.5 130,-179.5 130,-179.5 124,-179.5 118,-173.5 118,-167.5 118,-167.5 118,-123.5 118,-123.5 118,-117.5 124,-111.5 130,-111.5 130,-111.5 229,-111.5 229,-111.5 235,-111.5 241,-117.5 241,-123.5 241,-123.5 241,-167.5 241,-167.5 241,-173.5 235,-179.5 229,-179.5\"/>\n<text text-anchor=\"middle\" x=\"179.5\" y=\"-164.3\" font-family=\"Helvetica,sans-Serif\" font-size=\"14.00\" fill=\"#000000\">entropy = 0.0</text>\n<text text-anchor=\"middle\" x=\"179.5\" y=\"-149.3\" font-family=\"Helvetica,sans-Serif\" font-size=\"14.00\" fill=\"#000000\">samples = 38</text>\n<text text-anchor=\"middle\" x=\"179.5\" y=\"-134.3\" font-family=\"Helvetica,sans-Serif\" font-size=\"14.00\" fill=\"#000000\">value = [0, 38, 0]</text>\n<text text-anchor=\"middle\" x=\"179.5\" y=\"-119.3\" font-family=\"Helvetica,sans-Serif\" font-size=\"14.00\" fill=\"#000000\">class = 雪莉</text>\n</g>\n<!-- 5&#45;&gt;6 -->\n<g id=\"edge6\" class=\"edge\">\n<title>5&#45;&gt;6</title>\n<path fill=\"none\" stroke=\"#000000\" d=\"M284.19,-222.8796C267.8968,-210.8368 250.1461,-197.7167 233.9675,-185.7586\"/>\n<polygon fill=\"#000000\" stroke=\"#000000\" points=\"235.7886,-182.7524 225.6665,-179.623 231.6279,-188.3816 235.7886,-182.7524\"/>\n</g>\n<!-- 7 -->\n<g id=\"node8\" class=\"node\">\n<title>7</title>\n<path fill=\"#9cf2c0\" stroke=\"#000000\" d=\"M410,-187C410,-187 271,-187 271,-187 265,-187 259,-181 259,-175 259,-175 259,-116 259,-116 259,-110 265,-104 271,-104 271,-104 410,-104 410,-104 416,-104 422,-110 422,-116 422,-116 422,-175 422,-175 422,-181 416,-187 410,-187\"/>\n<text text-anchor=\"middle\" x=\"340.5\" y=\"-171.8\" font-family=\"Helvetica,sans-Serif\" font-size=\"14.00\" fill=\"#000000\">非黄烷类酚类 &lt;= 0.295</text>\n<text text-anchor=\"middle\" x=\"340.5\" y=\"-156.8\" font-family=\"Helvetica,sans-Serif\" font-size=\"14.00\" fill=\"#000000\">entropy = 0.918</text>\n<text text-anchor=\"middle\" x=\"340.5\" y=\"-141.8\" font-family=\"Helvetica,sans-Serif\" font-size=\"14.00\" fill=\"#000000\">samples = 3</text>\n<text text-anchor=\"middle\" x=\"340.5\" y=\"-126.8\" font-family=\"Helvetica,sans-Serif\" font-size=\"14.00\" fill=\"#000000\">value = [1, 2, 0]</text>\n<text text-anchor=\"middle\" x=\"340.5\" y=\"-111.8\" font-family=\"Helvetica,sans-Serif\" font-size=\"14.00\" fill=\"#000000\">class = 雪莉</text>\n</g>\n<!-- 5&#45;&gt;7 -->\n<g id=\"edge7\" class=\"edge\">\n<title>5&#45;&gt;7</title>\n<path fill=\"none\" stroke=\"#000000\" d=\"M340.5,-222.8796C340.5,-214.6838 340.5,-205.9891 340.5,-197.5013\"/>\n<polygon fill=\"#000000\" stroke=\"#000000\" points=\"344.0001,-197.298 340.5,-187.2981 337.0001,-197.2981 344.0001,-197.298\"/>\n</g>\n<!-- 8 -->\n<g id=\"node9\" class=\"node\">\n<title>8</title>\n<path fill=\"#39e581\" stroke=\"#000000\" d=\"M320,-68C320,-68 229,-68 229,-68 223,-68 217,-62 217,-56 217,-56 217,-12 217,-12 217,-6 223,0 229,0 229,0 320,0 320,0 326,0 332,-6 332,-12 332,-12 332,-56 332,-56 332,-62 326,-68 320,-68\"/>\n<text text-anchor=\"middle\" x=\"274.5\" y=\"-52.8\" font-family=\"Helvetica,sans-Serif\" font-size=\"14.00\" fill=\"#000000\">entropy = 0.0</text>\n<text text-anchor=\"middle\" x=\"274.5\" y=\"-37.8\" font-family=\"Helvetica,sans-Serif\" font-size=\"14.00\" fill=\"#000000\">samples = 2</text>\n<text text-anchor=\"middle\" x=\"274.5\" y=\"-22.8\" font-family=\"Helvetica,sans-Serif\" font-size=\"14.00\" fill=\"#000000\">value = [0, 2, 0]</text>\n<text text-anchor=\"middle\" x=\"274.5\" y=\"-7.8\" font-family=\"Helvetica,sans-Serif\" font-size=\"14.00\" fill=\"#000000\">class = 雪莉</text>\n</g>\n<!-- 7&#45;&gt;8 -->\n<g id=\"edge8\" class=\"edge\">\n<title>7&#45;&gt;8</title>\n<path fill=\"none\" stroke=\"#000000\" d=\"M315.924,-103.9815C310.7014,-95.1585 305.1771,-85.8258 299.9237,-76.9506\"/>\n<polygon fill=\"#000000\" stroke=\"#000000\" points=\"302.8874,-75.0863 294.7816,-68.2637 296.8636,-78.652 302.8874,-75.0863\"/>\n</g>\n<!-- 9 -->\n<g id=\"node10\" class=\"node\">\n<title>9</title>\n<path fill=\"#e58139\" stroke=\"#000000\" d=\"M453,-68C453,-68 362,-68 362,-68 356,-68 350,-62 350,-56 350,-56 350,-12 350,-12 350,-6 356,0 362,0 362,0 453,0 453,0 459,0 465,-6 465,-12 465,-12 465,-56 465,-56 465,-62 459,-68 453,-68\"/>\n<text text-anchor=\"middle\" x=\"407.5\" y=\"-52.8\" font-family=\"Helvetica,sans-Serif\" font-size=\"14.00\" fill=\"#000000\">entropy = 0.0</text>\n<text text-anchor=\"middle\" x=\"407.5\" y=\"-37.8\" font-family=\"Helvetica,sans-Serif\" font-size=\"14.00\" fill=\"#000000\">samples = 1</text>\n<text text-anchor=\"middle\" x=\"407.5\" y=\"-22.8\" font-family=\"Helvetica,sans-Serif\" font-size=\"14.00\" fill=\"#000000\">value = [1, 0, 0]</text>\n<text text-anchor=\"middle\" x=\"407.5\" y=\"-7.8\" font-family=\"Helvetica,sans-Serif\" font-size=\"14.00\" fill=\"#000000\">class = 琴酒</text>\n</g>\n<!-- 7&#45;&gt;9 -->\n<g id=\"edge9\" class=\"edge\">\n<title>7&#45;&gt;9</title>\n<path fill=\"none\" stroke=\"#000000\" d=\"M365.4483,-103.9815C370.7501,-95.1585 376.3581,-85.8258 381.6911,-76.9506\"/>\n<polygon fill=\"#000000\" stroke=\"#000000\" points=\"384.7605,-78.638 386.9111,-68.2637 378.7604,-75.0325 384.7605,-78.638\"/>\n</g>\n<!-- 11 -->\n<g id=\"node12\" class=\"node\">\n<title>11</title>\n<path fill=\"#39e581\" stroke=\"#000000\" d=\"M543,-179.5C543,-179.5 452,-179.5 452,-179.5 446,-179.5 440,-173.5 440,-167.5 440,-167.5 440,-123.5 440,-123.5 440,-117.5 446,-111.5 452,-111.5 452,-111.5 543,-111.5 543,-111.5 549,-111.5 555,-117.5 555,-123.5 555,-123.5 555,-167.5 555,-167.5 555,-173.5 549,-179.5 543,-179.5\"/>\n<text text-anchor=\"middle\" x=\"497.5\" y=\"-164.3\" font-family=\"Helvetica,sans-Serif\" font-size=\"14.00\" fill=\"#000000\">entropy = 0.0</text>\n<text text-anchor=\"middle\" x=\"497.5\" y=\"-149.3\" font-family=\"Helvetica,sans-Serif\" font-size=\"14.00\" fill=\"#000000\">samples = 3</text>\n<text text-anchor=\"middle\" x=\"497.5\" y=\"-134.3\" font-family=\"Helvetica,sans-Serif\" font-size=\"14.00\" fill=\"#000000\">value = [0, 3, 0]</text>\n<text text-anchor=\"middle\" x=\"497.5\" y=\"-119.3\" font-family=\"Helvetica,sans-Serif\" font-size=\"14.00\" fill=\"#000000\">class = 雪莉</text>\n</g>\n<!-- 10&#45;&gt;11 -->\n<g id=\"edge11\" class=\"edge\">\n<title>10&#45;&gt;11</title>\n<path fill=\"none\" stroke=\"#000000\" d=\"M497.5,-222.8796C497.5,-212.2134 497.5,-200.7021 497.5,-189.9015\"/>\n<polygon fill=\"#000000\" stroke=\"#000000\" points=\"501.0001,-189.8149 497.5,-179.8149 494.0001,-189.815 501.0001,-189.8149\"/>\n</g>\n<!-- 12 -->\n<g id=\"node13\" class=\"node\">\n<title>12</title>\n<path fill=\"#e58139\" stroke=\"#000000\" d=\"M684,-179.5C684,-179.5 585,-179.5 585,-179.5 579,-179.5 573,-173.5 573,-167.5 573,-167.5 573,-123.5 573,-123.5 573,-117.5 579,-111.5 585,-111.5 585,-111.5 684,-111.5 684,-111.5 690,-111.5 696,-117.5 696,-123.5 696,-123.5 696,-167.5 696,-167.5 696,-173.5 690,-179.5 684,-179.5\"/>\n<text text-anchor=\"middle\" x=\"634.5\" y=\"-164.3\" font-family=\"Helvetica,sans-Serif\" font-size=\"14.00\" fill=\"#000000\">entropy = 0.0</text>\n<text text-anchor=\"middle\" x=\"634.5\" y=\"-149.3\" font-family=\"Helvetica,sans-Serif\" font-size=\"14.00\" fill=\"#000000\">samples = 39</text>\n<text text-anchor=\"middle\" x=\"634.5\" y=\"-134.3\" font-family=\"Helvetica,sans-Serif\" font-size=\"14.00\" fill=\"#000000\">value = [39, 0, 0]</text>\n<text text-anchor=\"middle\" x=\"634.5\" y=\"-119.3\" font-family=\"Helvetica,sans-Serif\" font-size=\"14.00\" fill=\"#000000\">class = 琴酒</text>\n</g>\n<!-- 10&#45;&gt;12 -->\n<g id=\"edge12\" class=\"edge\">\n<title>10&#45;&gt;12</title>\n<path fill=\"none\" stroke=\"#000000\" d=\"M545.416,-222.8796C558.9615,-211.1138 573.6908,-198.3197 587.1998,-186.5855\"/>\n<polygon fill=\"#000000\" stroke=\"#000000\" points=\"589.7401,-189.015 594.9946,-179.8149 585.1497,-183.7303 589.7401,-189.015\"/>\n</g>\n</g>\n</svg>\n"
          },
          "metadata": {},
          "execution_count": 83
        }
      ]
    },
    {
      "cell_type": "code",
      "source": [
        "clf.feature_importances_  # 每个特征的重要性不同"
      ],
      "metadata": {
        "colab": {
          "base_uri": "https://localhost:8080/"
        },
        "id": "jxBbdF3_2WGy",
        "outputId": "caafed2d-f25d-4372-eba3-75486c9a6bc0"
      },
      "execution_count": 84,
      "outputs": [
        {
          "output_type": "execute_result",
          "data": {
            "text/plain": [
              "array([0.02079475, 0.        , 0.        , 0.        , 0.        ,\n",
              "       0.        , 0.42113913, 0.01422358, 0.        , 0.23123368,\n",
              "       0.        , 0.        , 0.31260887])"
            ]
          },
          "metadata": {},
          "execution_count": 84
        }
      ]
    },
    {
      "cell_type": "code",
      "source": [
        "[*zip(feature_name, clf.feature_importances_)]  # 把数组和特征名称联系在一起了，元组类型"
      ],
      "metadata": {
        "colab": {
          "base_uri": "https://localhost:8080/"
        },
        "id": "fPHl1kAL3pc4",
        "outputId": "a1261165-80bf-4541-ff39-fed485609453"
      },
      "execution_count": 85,
      "outputs": [
        {
          "output_type": "execute_result",
          "data": {
            "text/plain": [
              "[('酒精', 0.020794748517705883),\n",
              " ('苹果酸', 0.0),\n",
              " ('灰', 0.0),\n",
              " ('灰的碱性', 0.0),\n",
              " ('镁', 0.0),\n",
              " ('总酚', 0.0),\n",
              " ('类黄酮', 0.42113912550481797),\n",
              " ('非黄烷类酚类', 0.01422358120158506),\n",
              " ('花青素', 0.0),\n",
              " ('颜色强度', 0.23123367782324228),\n",
              " ('色调', 0.0),\n",
              " ('od280/od315稀释葡萄酒', 0.0),\n",
              " ('脯氨酸', 0.3126088669526488)]"
            ]
          },
          "metadata": {},
          "execution_count": 85
        }
      ]
    },
    {
      "cell_type": "code",
      "source": [
        "clf = tree.DecisionTreeClassifier(criterion=\"entropy\",random_state=0)\n",
        "clf = clf.fit(Xtrain,Ytrain)\n",
        "score = clf.score(Xtest,Ytest) \n",
        "score"
      ],
      "metadata": {
        "colab": {
          "base_uri": "https://localhost:8080/"
        },
        "id": "ifvn8o624DEm",
        "outputId": "abc7bfbe-9380-442f-c22a-4bca34b0f76c"
      },
      "execution_count": 86,
      "outputs": [
        {
          "output_type": "execute_result",
          "data": {
            "text/plain": [
              "0.9444444444444444"
            ]
          },
          "metadata": {},
          "execution_count": 86
        }
      ]
    },
    {
      "cell_type": "code",
      "source": [
        "clf = tree.DecisionTreeClassifier(criterion=\"entropy\"\n",
        "                  ,random_state=60\n",
        "                  ,splitter=\"random\"\n",
        "                 )\n",
        "clf = clf.fit(Xtrain,Ytrain)\n",
        "score = clf.score(Xtest,Ytest) \n",
        "score"
      ],
      "metadata": {
        "colab": {
          "base_uri": "https://localhost:8080/"
        },
        "id": "Fa-v8chc95y9",
        "outputId": "35aab34d-cb87-44d0-aa2f-8aacb7a8fc4c"
      },
      "execution_count": 109,
      "outputs": [
        {
          "output_type": "execute_result",
          "data": {
            "text/plain": [
              "0.9444444444444444"
            ]
          },
          "metadata": {},
          "execution_count": 109
        }
      ]
    },
    {
      "cell_type": "code",
      "source": [
        "import graphviz\n",
        "dot_data = tree.export_graphviz(clf\n",
        "                  ,feature_names=feature_name # 特征的名称\n",
        "                  ,class_names=[\"琴酒\",\"雪莉\",\"贝尔摩德\"] # 类的名称\n",
        "                  ,filled=True # 是否填充颜色\n",
        "                  ,rounded=True) # 框型是否是方的)\n",
        "graph = graphviz.Source(dot_data)\n",
        "graph"
      ],
      "metadata": {
        "colab": {
          "base_uri": "https://localhost:8080/",
          "height": 1000
        },
        "id": "-xRFk7Df5auU",
        "outputId": "9fa93b5d-9f61-4922-8872-7358f4f5a27f"
      },
      "execution_count": 110,
      "outputs": [
        {
          "output_type": "execute_result",
          "data": {
            "text/plain": [
              "<graphviz.files.Source at 0x7f7df890a5d0>"
            ],
            "image/svg+xml": "<?xml version=\"1.0\" encoding=\"UTF-8\" standalone=\"no\"?>\n<!DOCTYPE svg PUBLIC \"-//W3C//DTD SVG 1.1//EN\"\n \"http://www.w3.org/Graphics/SVG/1.1/DTD/svg11.dtd\">\n<!-- Generated by graphviz version 2.40.1 (20161225.0304)\n -->\n<!-- Title: Tree Pages: 1 -->\n<svg width=\"1521pt\" height=\"1028pt\"\n viewBox=\"0.00 0.00 1521.00 1028.00\" xmlns=\"http://www.w3.org/2000/svg\" xmlns:xlink=\"http://www.w3.org/1999/xlink\">\n<g id=\"graph0\" class=\"graph\" transform=\"scale(1 1) rotate(0) translate(4 1024)\">\n<title>Tree</title>\n<polygon fill=\"#ffffff\" stroke=\"transparent\" points=\"-4,4 -4,-1024 1517,-1024 1517,4 -4,4\"/>\n<!-- 0 -->\n<g id=\"node1\" class=\"node\">\n<title>0</title>\n<path fill=\"#e5fcee\" stroke=\"#000000\" d=\"M506,-1020C506,-1020 295,-1020 295,-1020 289,-1020 283,-1014 283,-1008 283,-1008 283,-949 283,-949 283,-943 289,-937 295,-937 295,-937 506,-937 506,-937 512,-937 518,-943 518,-949 518,-949 518,-1008 518,-1008 518,-1014 512,-1020 506,-1020\"/>\n<text text-anchor=\"middle\" x=\"400.5\" y=\"-1004.8\" font-family=\"Helvetica,sans-Serif\" font-size=\"14.00\" fill=\"#000000\">od280/od315稀释葡萄酒 &lt;= 1.949</text>\n<text text-anchor=\"middle\" x=\"400.5\" y=\"-989.8\" font-family=\"Helvetica,sans-Serif\" font-size=\"14.00\" fill=\"#000000\">entropy = 1.562</text>\n<text text-anchor=\"middle\" x=\"400.5\" y=\"-974.8\" font-family=\"Helvetica,sans-Serif\" font-size=\"14.00\" fill=\"#000000\">samples = 124</text>\n<text text-anchor=\"middle\" x=\"400.5\" y=\"-959.8\" font-family=\"Helvetica,sans-Serif\" font-size=\"14.00\" fill=\"#000000\">value = [40, 51, 33]</text>\n<text text-anchor=\"middle\" x=\"400.5\" y=\"-944.8\" font-family=\"Helvetica,sans-Serif\" font-size=\"14.00\" fill=\"#000000\">class = 雪莉</text>\n</g>\n<!-- 1 -->\n<g id=\"node2\" class=\"node\">\n<title>1</title>\n<path fill=\"#8a48e7\" stroke=\"#000000\" d=\"M377.5,-901C377.5,-901 267.5,-901 267.5,-901 261.5,-901 255.5,-895 255.5,-889 255.5,-889 255.5,-830 255.5,-830 255.5,-824 261.5,-818 267.5,-818 267.5,-818 377.5,-818 377.5,-818 383.5,-818 389.5,-824 389.5,-830 389.5,-830 389.5,-889 389.5,-889 389.5,-895 383.5,-901 377.5,-901\"/>\n<text text-anchor=\"middle\" x=\"322.5\" y=\"-885.8\" font-family=\"Helvetica,sans-Serif\" font-size=\"14.00\" fill=\"#000000\">颜色强度 &lt;= 4.057</text>\n<text text-anchor=\"middle\" x=\"322.5\" y=\"-870.8\" font-family=\"Helvetica,sans-Serif\" font-size=\"14.00\" fill=\"#000000\">entropy = 0.362</text>\n<text text-anchor=\"middle\" x=\"322.5\" y=\"-855.8\" font-family=\"Helvetica,sans-Serif\" font-size=\"14.00\" fill=\"#000000\">samples = 29</text>\n<text text-anchor=\"middle\" x=\"322.5\" y=\"-840.8\" font-family=\"Helvetica,sans-Serif\" font-size=\"14.00\" fill=\"#000000\">value = [0, 2, 27]</text>\n<text text-anchor=\"middle\" x=\"322.5\" y=\"-825.8\" font-family=\"Helvetica,sans-Serif\" font-size=\"14.00\" fill=\"#000000\">class = 贝尔摩德</text>\n</g>\n<!-- 0&#45;&gt;1 -->\n<g id=\"edge1\" class=\"edge\">\n<title>0&#45;&gt;1</title>\n<path fill=\"none\" stroke=\"#000000\" d=\"M373.2194,-936.8796C367.4932,-928.1434 361.3954,-918.8404 355.4863,-909.8253\"/>\n<polygon fill=\"#000000\" stroke=\"#000000\" points=\"358.3063,-907.7429 349.8971,-901.2981 352.4518,-911.5803 358.3063,-907.7429\"/>\n<text text-anchor=\"middle\" x=\"344.8032\" y=\"-922.0736\" font-family=\"Helvetica,sans-Serif\" font-size=\"14.00\" fill=\"#000000\">True</text>\n</g>\n<!-- 6 -->\n<g id=\"node7\" class=\"node\">\n<title>6</title>\n<path fill=\"#dffbea\" stroke=\"#000000\" d=\"M539,-901C539,-901 420,-901 420,-901 414,-901 408,-895 408,-889 408,-889 408,-830 408,-830 408,-824 414,-818 420,-818 420,-818 539,-818 539,-818 545,-818 551,-824 551,-830 551,-830 551,-889 551,-889 551,-895 545,-901 539,-901\"/>\n<text text-anchor=\"middle\" x=\"479.5\" y=\"-885.8\" font-family=\"Helvetica,sans-Serif\" font-size=\"14.00\" fill=\"#000000\">灰的碱性 &lt;= 17.324</text>\n<text text-anchor=\"middle\" x=\"479.5\" y=\"-870.8\" font-family=\"Helvetica,sans-Serif\" font-size=\"14.00\" fill=\"#000000\">entropy = 1.27</text>\n<text text-anchor=\"middle\" x=\"479.5\" y=\"-855.8\" font-family=\"Helvetica,sans-Serif\" font-size=\"14.00\" fill=\"#000000\">samples = 95</text>\n<text text-anchor=\"middle\" x=\"479.5\" y=\"-840.8\" font-family=\"Helvetica,sans-Serif\" font-size=\"14.00\" fill=\"#000000\">value = [40, 49, 6]</text>\n<text text-anchor=\"middle\" x=\"479.5\" y=\"-825.8\" font-family=\"Helvetica,sans-Serif\" font-size=\"14.00\" fill=\"#000000\">class = 雪莉</text>\n</g>\n<!-- 0&#45;&gt;6 -->\n<g id=\"edge6\" class=\"edge\">\n<title>0&#45;&gt;6</title>\n<path fill=\"none\" stroke=\"#000000\" d=\"M428.1304,-936.8796C433.93,-928.1434 440.1059,-918.8404 446.0908,-909.8253\"/>\n<polygon fill=\"#000000\" stroke=\"#000000\" points=\"449.1368,-911.5652 451.7517,-901.2981 443.3049,-907.6935 449.1368,-911.5652\"/>\n<text text-anchor=\"middle\" x=\"456.7022\" y=\"-922.103\" font-family=\"Helvetica,sans-Serif\" font-size=\"14.00\" fill=\"#000000\">False</text>\n</g>\n<!-- 2 -->\n<g id=\"node3\" class=\"node\">\n<title>2</title>\n<path fill=\"#ffffff\" stroke=\"#000000\" d=\"M234.5,-782C234.5,-782 138.5,-782 138.5,-782 132.5,-782 126.5,-776 126.5,-770 126.5,-770 126.5,-711 126.5,-711 126.5,-705 132.5,-699 138.5,-699 138.5,-699 234.5,-699 234.5,-699 240.5,-699 246.5,-705 246.5,-711 246.5,-711 246.5,-770 246.5,-770 246.5,-776 240.5,-782 234.5,-782\"/>\n<text text-anchor=\"middle\" x=\"186.5\" y=\"-766.8\" font-family=\"Helvetica,sans-Serif\" font-size=\"14.00\" fill=\"#000000\">苹果酸 &lt;= 2.168</text>\n<text text-anchor=\"middle\" x=\"186.5\" y=\"-751.8\" font-family=\"Helvetica,sans-Serif\" font-size=\"14.00\" fill=\"#000000\">entropy = 1.0</text>\n<text text-anchor=\"middle\" x=\"186.5\" y=\"-736.8\" font-family=\"Helvetica,sans-Serif\" font-size=\"14.00\" fill=\"#000000\">samples = 4</text>\n<text text-anchor=\"middle\" x=\"186.5\" y=\"-721.8\" font-family=\"Helvetica,sans-Serif\" font-size=\"14.00\" fill=\"#000000\">value = [0, 2, 2]</text>\n<text text-anchor=\"middle\" x=\"186.5\" y=\"-706.8\" font-family=\"Helvetica,sans-Serif\" font-size=\"14.00\" fill=\"#000000\">class = 雪莉</text>\n</g>\n<!-- 1&#45;&gt;2 -->\n<g id=\"edge2\" class=\"edge\">\n<title>1&#45;&gt;2</title>\n<path fill=\"none\" stroke=\"#000000\" d=\"M274.9338,-817.8796C264.3321,-808.6031 252.9998,-798.6874 242.1067,-789.1559\"/>\n<polygon fill=\"#000000\" stroke=\"#000000\" points=\"244.0998,-786.2491 234.2692,-782.2981 239.4902,-791.5172 244.0998,-786.2491\"/>\n</g>\n<!-- 5 -->\n<g id=\"node6\" class=\"node\">\n<title>5</title>\n<path fill=\"#8139e5\" stroke=\"#000000\" d=\"M376,-774.5C376,-774.5 277,-774.5 277,-774.5 271,-774.5 265,-768.5 265,-762.5 265,-762.5 265,-718.5 265,-718.5 265,-712.5 271,-706.5 277,-706.5 277,-706.5 376,-706.5 376,-706.5 382,-706.5 388,-712.5 388,-718.5 388,-718.5 388,-762.5 388,-762.5 388,-768.5 382,-774.5 376,-774.5\"/>\n<text text-anchor=\"middle\" x=\"326.5\" y=\"-759.3\" font-family=\"Helvetica,sans-Serif\" font-size=\"14.00\" fill=\"#000000\">entropy = 0.0</text>\n<text text-anchor=\"middle\" x=\"326.5\" y=\"-744.3\" font-family=\"Helvetica,sans-Serif\" font-size=\"14.00\" fill=\"#000000\">samples = 25</text>\n<text text-anchor=\"middle\" x=\"326.5\" y=\"-729.3\" font-family=\"Helvetica,sans-Serif\" font-size=\"14.00\" fill=\"#000000\">value = [0, 0, 25]</text>\n<text text-anchor=\"middle\" x=\"326.5\" y=\"-714.3\" font-family=\"Helvetica,sans-Serif\" font-size=\"14.00\" fill=\"#000000\">class = 贝尔摩德</text>\n</g>\n<!-- 1&#45;&gt;5 -->\n<g id=\"edge5\" class=\"edge\">\n<title>1&#45;&gt;5</title>\n<path fill=\"none\" stroke=\"#000000\" d=\"M323.899,-817.8796C324.2575,-807.2134 324.6445,-795.7021 325.0075,-784.9015\"/>\n<polygon fill=\"#000000\" stroke=\"#000000\" points=\"328.5085,-784.9269 325.3466,-774.8149 321.5125,-784.6917 328.5085,-784.9269\"/>\n</g>\n<!-- 3 -->\n<g id=\"node4\" class=\"node\">\n<title>3</title>\n<path fill=\"#39e581\" stroke=\"#000000\" d=\"M103,-655.5C103,-655.5 12,-655.5 12,-655.5 6,-655.5 0,-649.5 0,-643.5 0,-643.5 0,-599.5 0,-599.5 0,-593.5 6,-587.5 12,-587.5 12,-587.5 103,-587.5 103,-587.5 109,-587.5 115,-593.5 115,-599.5 115,-599.5 115,-643.5 115,-643.5 115,-649.5 109,-655.5 103,-655.5\"/>\n<text text-anchor=\"middle\" x=\"57.5\" y=\"-640.3\" font-family=\"Helvetica,sans-Serif\" font-size=\"14.00\" fill=\"#000000\">entropy = 0.0</text>\n<text text-anchor=\"middle\" x=\"57.5\" y=\"-625.3\" font-family=\"Helvetica,sans-Serif\" font-size=\"14.00\" fill=\"#000000\">samples = 2</text>\n<text text-anchor=\"middle\" x=\"57.5\" y=\"-610.3\" font-family=\"Helvetica,sans-Serif\" font-size=\"14.00\" fill=\"#000000\">value = [0, 2, 0]</text>\n<text text-anchor=\"middle\" x=\"57.5\" y=\"-595.3\" font-family=\"Helvetica,sans-Serif\" font-size=\"14.00\" fill=\"#000000\">class = 雪莉</text>\n</g>\n<!-- 2&#45;&gt;3 -->\n<g id=\"edge3\" class=\"edge\">\n<title>2&#45;&gt;3</title>\n<path fill=\"none\" stroke=\"#000000\" d=\"M141.3821,-698.8796C128.7467,-687.2237 115.0174,-674.5587 102.395,-662.9148\"/>\n<polygon fill=\"#000000\" stroke=\"#000000\" points=\"104.422,-660.0228 94.6985,-655.8149 99.6756,-665.168 104.422,-660.0228\"/>\n</g>\n<!-- 4 -->\n<g id=\"node5\" class=\"node\">\n<title>4</title>\n<path fill=\"#8139e5\" stroke=\"#000000\" d=\"M244,-655.5C244,-655.5 145,-655.5 145,-655.5 139,-655.5 133,-649.5 133,-643.5 133,-643.5 133,-599.5 133,-599.5 133,-593.5 139,-587.5 145,-587.5 145,-587.5 244,-587.5 244,-587.5 250,-587.5 256,-593.5 256,-599.5 256,-599.5 256,-643.5 256,-643.5 256,-649.5 250,-655.5 244,-655.5\"/>\n<text text-anchor=\"middle\" x=\"194.5\" y=\"-640.3\" font-family=\"Helvetica,sans-Serif\" font-size=\"14.00\" fill=\"#000000\">entropy = 0.0</text>\n<text text-anchor=\"middle\" x=\"194.5\" y=\"-625.3\" font-family=\"Helvetica,sans-Serif\" font-size=\"14.00\" fill=\"#000000\">samples = 2</text>\n<text text-anchor=\"middle\" x=\"194.5\" y=\"-610.3\" font-family=\"Helvetica,sans-Serif\" font-size=\"14.00\" fill=\"#000000\">value = [0, 0, 2]</text>\n<text text-anchor=\"middle\" x=\"194.5\" y=\"-595.3\" font-family=\"Helvetica,sans-Serif\" font-size=\"14.00\" fill=\"#000000\">class = 贝尔摩德</text>\n</g>\n<!-- 2&#45;&gt;4 -->\n<g id=\"edge4\" class=\"edge\">\n<title>2&#45;&gt;4</title>\n<path fill=\"none\" stroke=\"#000000\" d=\"M189.298,-698.8796C190.0151,-688.2134 190.7889,-676.7021 191.515,-665.9015\"/>\n<polygon fill=\"#000000\" stroke=\"#000000\" points=\"195.0144,-666.0272 192.1931,-655.8149 188.0301,-665.5576 195.0144,-666.0272\"/>\n</g>\n<!-- 7 -->\n<g id=\"node8\" class=\"node\">\n<title>7</title>\n<path fill=\"#eca36e\" stroke=\"#000000\" d=\"M525,-782C525,-782 426,-782 426,-782 420,-782 414,-776 414,-770 414,-770 414,-711 414,-711 414,-705 420,-699 426,-699 426,-699 525,-699 525,-699 531,-699 537,-705 537,-711 537,-711 537,-770 537,-770 537,-776 531,-782 525,-782\"/>\n<text text-anchor=\"middle\" x=\"475.5\" y=\"-766.8\" font-family=\"Helvetica,sans-Serif\" font-size=\"14.00\" fill=\"#000000\">酒精 &lt;= 12.629</text>\n<text text-anchor=\"middle\" x=\"475.5\" y=\"-751.8\" font-family=\"Helvetica,sans-Serif\" font-size=\"14.00\" fill=\"#000000\">entropy = 0.746</text>\n<text text-anchor=\"middle\" x=\"475.5\" y=\"-736.8\" font-family=\"Helvetica,sans-Serif\" font-size=\"14.00\" fill=\"#000000\">samples = 33</text>\n<text text-anchor=\"middle\" x=\"475.5\" y=\"-721.8\" font-family=\"Helvetica,sans-Serif\" font-size=\"14.00\" fill=\"#000000\">value = [26, 7, 0]</text>\n<text text-anchor=\"middle\" x=\"475.5\" y=\"-706.8\" font-family=\"Helvetica,sans-Serif\" font-size=\"14.00\" fill=\"#000000\">class = 琴酒</text>\n</g>\n<!-- 6&#45;&gt;7 -->\n<g id=\"edge7\" class=\"edge\">\n<title>6&#45;&gt;7</title>\n<path fill=\"none\" stroke=\"#000000\" d=\"M478.101,-817.8796C477.8255,-809.6838 477.5332,-800.9891 477.2479,-792.5013\"/>\n<polygon fill=\"#000000\" stroke=\"#000000\" points=\"480.739,-792.1748 476.905,-782.2981 473.743,-792.41 480.739,-792.1748\"/>\n</g>\n<!-- 14 -->\n<g id=\"node15\" class=\"node\">\n<title>14</title>\n<path fill=\"#8cf0b6\" stroke=\"#000000\" d=\"M744,-782C744,-782 637,-782 637,-782 631,-782 625,-776 625,-770 625,-770 625,-711 625,-711 625,-705 631,-699 637,-699 637,-699 744,-699 744,-699 750,-699 756,-705 756,-711 756,-711 756,-770 756,-770 756,-776 750,-782 744,-782\"/>\n<text text-anchor=\"middle\" x=\"690.5\" y=\"-766.8\" font-family=\"Helvetica,sans-Serif\" font-size=\"14.00\" fill=\"#000000\">酒精 &lt;= 12.48</text>\n<text text-anchor=\"middle\" x=\"690.5\" y=\"-751.8\" font-family=\"Helvetica,sans-Serif\" font-size=\"14.00\" fill=\"#000000\">entropy = 1.191</text>\n<text text-anchor=\"middle\" x=\"690.5\" y=\"-736.8\" font-family=\"Helvetica,sans-Serif\" font-size=\"14.00\" fill=\"#000000\">samples = 62</text>\n<text text-anchor=\"middle\" x=\"690.5\" y=\"-721.8\" font-family=\"Helvetica,sans-Serif\" font-size=\"14.00\" fill=\"#000000\">value = [14, 42, 6]</text>\n<text text-anchor=\"middle\" x=\"690.5\" y=\"-706.8\" font-family=\"Helvetica,sans-Serif\" font-size=\"14.00\" fill=\"#000000\">class = 雪莉</text>\n</g>\n<!-- 6&#45;&gt;14 -->\n<g id=\"edge14\" class=\"edge\">\n<title>6&#45;&gt;14</title>\n<path fill=\"none\" stroke=\"#000000\" d=\"M551.2294,-819.046C572.1369,-807.2546 595.0224,-794.3476 616.0913,-782.4651\"/>\n<polygon fill=\"#000000\" stroke=\"#000000\" points=\"618.0077,-785.4026 624.9986,-777.4416 614.569,-779.3054 618.0077,-785.4026\"/>\n</g>\n<!-- 8 -->\n<g id=\"node9\" class=\"node\">\n<title>8</title>\n<path fill=\"#39e581\" stroke=\"#000000\" d=\"M377,-655.5C377,-655.5 286,-655.5 286,-655.5 280,-655.5 274,-649.5 274,-643.5 274,-643.5 274,-599.5 274,-599.5 274,-593.5 280,-587.5 286,-587.5 286,-587.5 377,-587.5 377,-587.5 383,-587.5 389,-593.5 389,-599.5 389,-599.5 389,-643.5 389,-643.5 389,-649.5 383,-655.5 377,-655.5\"/>\n<text text-anchor=\"middle\" x=\"331.5\" y=\"-640.3\" font-family=\"Helvetica,sans-Serif\" font-size=\"14.00\" fill=\"#000000\">entropy = 0.0</text>\n<text text-anchor=\"middle\" x=\"331.5\" y=\"-625.3\" font-family=\"Helvetica,sans-Serif\" font-size=\"14.00\" fill=\"#000000\">samples = 4</text>\n<text text-anchor=\"middle\" x=\"331.5\" y=\"-610.3\" font-family=\"Helvetica,sans-Serif\" font-size=\"14.00\" fill=\"#000000\">value = [0, 4, 0]</text>\n<text text-anchor=\"middle\" x=\"331.5\" y=\"-595.3\" font-family=\"Helvetica,sans-Serif\" font-size=\"14.00\" fill=\"#000000\">class = 雪莉</text>\n</g>\n<!-- 7&#45;&gt;8 -->\n<g id=\"edge8\" class=\"edge\">\n<title>7&#45;&gt;8</title>\n<path fill=\"none\" stroke=\"#000000\" d=\"M425.1358,-698.8796C410.7651,-687.0038 395.1267,-674.0804 380.8192,-662.2568\"/>\n<polygon fill=\"#000000\" stroke=\"#000000\" points=\"382.962,-659.4872 373.024,-655.8149 378.5029,-664.8831 382.962,-659.4872\"/>\n</g>\n<!-- 9 -->\n<g id=\"node10\" class=\"node\">\n<title>9</title>\n<path fill=\"#e89050\" stroke=\"#000000\" d=\"M532,-663C532,-663 419,-663 419,-663 413,-663 407,-657 407,-651 407,-651 407,-592 407,-592 407,-586 413,-580 419,-580 419,-580 532,-580 532,-580 538,-580 544,-586 544,-592 544,-592 544,-651 544,-651 544,-657 538,-663 532,-663\"/>\n<text text-anchor=\"middle\" x=\"475.5\" y=\"-647.8\" font-family=\"Helvetica,sans-Serif\" font-size=\"14.00\" fill=\"#000000\">脯氨酸 &lt;= 810.167</text>\n<text text-anchor=\"middle\" x=\"475.5\" y=\"-632.8\" font-family=\"Helvetica,sans-Serif\" font-size=\"14.00\" fill=\"#000000\">entropy = 0.48</text>\n<text text-anchor=\"middle\" x=\"475.5\" y=\"-617.8\" font-family=\"Helvetica,sans-Serif\" font-size=\"14.00\" fill=\"#000000\">samples = 29</text>\n<text text-anchor=\"middle\" x=\"475.5\" y=\"-602.8\" font-family=\"Helvetica,sans-Serif\" font-size=\"14.00\" fill=\"#000000\">value = [26, 3, 0]</text>\n<text text-anchor=\"middle\" x=\"475.5\" y=\"-587.8\" font-family=\"Helvetica,sans-Serif\" font-size=\"14.00\" fill=\"#000000\">class = 琴酒</text>\n</g>\n<!-- 7&#45;&gt;9 -->\n<g id=\"edge9\" class=\"edge\">\n<title>7&#45;&gt;9</title>\n<path fill=\"none\" stroke=\"#000000\" d=\"M475.5,-698.8796C475.5,-690.6838 475.5,-681.9891 475.5,-673.5013\"/>\n<polygon fill=\"#000000\" stroke=\"#000000\" points=\"479.0001,-673.298 475.5,-663.2981 472.0001,-673.2981 479.0001,-673.298\"/>\n</g>\n<!-- 10 -->\n<g id=\"node11\" class=\"node\">\n<title>10</title>\n<path fill=\"#ffffff\" stroke=\"#000000\" d=\"M384,-544C384,-544 293,-544 293,-544 287,-544 281,-538 281,-532 281,-532 281,-473 281,-473 281,-467 287,-461 293,-461 293,-461 384,-461 384,-461 390,-461 396,-467 396,-473 396,-473 396,-532 396,-532 396,-538 390,-544 384,-544\"/>\n<text text-anchor=\"middle\" x=\"338.5\" y=\"-528.8\" font-family=\"Helvetica,sans-Serif\" font-size=\"14.00\" fill=\"#000000\">酒精 &lt;= 13.34</text>\n<text text-anchor=\"middle\" x=\"338.5\" y=\"-513.8\" font-family=\"Helvetica,sans-Serif\" font-size=\"14.00\" fill=\"#000000\">entropy = 1.0</text>\n<text text-anchor=\"middle\" x=\"338.5\" y=\"-498.8\" font-family=\"Helvetica,sans-Serif\" font-size=\"14.00\" fill=\"#000000\">samples = 6</text>\n<text text-anchor=\"middle\" x=\"338.5\" y=\"-483.8\" font-family=\"Helvetica,sans-Serif\" font-size=\"14.00\" fill=\"#000000\">value = [3, 3, 0]</text>\n<text text-anchor=\"middle\" x=\"338.5\" y=\"-468.8\" font-family=\"Helvetica,sans-Serif\" font-size=\"14.00\" fill=\"#000000\">class = 琴酒</text>\n</g>\n<!-- 9&#45;&gt;10 -->\n<g id=\"edge10\" class=\"edge\">\n<title>9&#45;&gt;10</title>\n<path fill=\"none\" stroke=\"#000000\" d=\"M427.584,-579.8796C416.8007,-570.513 405.2671,-560.4948 394.1961,-550.8784\"/>\n<polygon fill=\"#000000\" stroke=\"#000000\" points=\"396.4653,-548.2134 386.6205,-544.2981 391.8749,-553.4982 396.4653,-548.2134\"/>\n</g>\n<!-- 13 -->\n<g id=\"node14\" class=\"node\">\n<title>13</title>\n<path fill=\"#e58139\" stroke=\"#000000\" d=\"M525,-536.5C525,-536.5 426,-536.5 426,-536.5 420,-536.5 414,-530.5 414,-524.5 414,-524.5 414,-480.5 414,-480.5 414,-474.5 420,-468.5 426,-468.5 426,-468.5 525,-468.5 525,-468.5 531,-468.5 537,-474.5 537,-480.5 537,-480.5 537,-524.5 537,-524.5 537,-530.5 531,-536.5 525,-536.5\"/>\n<text text-anchor=\"middle\" x=\"475.5\" y=\"-521.3\" font-family=\"Helvetica,sans-Serif\" font-size=\"14.00\" fill=\"#000000\">entropy = 0.0</text>\n<text text-anchor=\"middle\" x=\"475.5\" y=\"-506.3\" font-family=\"Helvetica,sans-Serif\" font-size=\"14.00\" fill=\"#000000\">samples = 23</text>\n<text text-anchor=\"middle\" x=\"475.5\" y=\"-491.3\" font-family=\"Helvetica,sans-Serif\" font-size=\"14.00\" fill=\"#000000\">value = [23, 0, 0]</text>\n<text text-anchor=\"middle\" x=\"475.5\" y=\"-476.3\" font-family=\"Helvetica,sans-Serif\" font-size=\"14.00\" fill=\"#000000\">class = 琴酒</text>\n</g>\n<!-- 9&#45;&gt;13 -->\n<g id=\"edge13\" class=\"edge\">\n<title>9&#45;&gt;13</title>\n<path fill=\"none\" stroke=\"#000000\" d=\"M475.5,-579.8796C475.5,-569.2134 475.5,-557.7021 475.5,-546.9015\"/>\n<polygon fill=\"#000000\" stroke=\"#000000\" points=\"479.0001,-546.8149 475.5,-536.8149 472.0001,-546.815 479.0001,-546.8149\"/>\n</g>\n<!-- 11 -->\n<g id=\"node12\" class=\"node\">\n<title>11</title>\n<path fill=\"#39e581\" stroke=\"#000000\" d=\"M318,-417.5C318,-417.5 227,-417.5 227,-417.5 221,-417.5 215,-411.5 215,-405.5 215,-405.5 215,-361.5 215,-361.5 215,-355.5 221,-349.5 227,-349.5 227,-349.5 318,-349.5 318,-349.5 324,-349.5 330,-355.5 330,-361.5 330,-361.5 330,-405.5 330,-405.5 330,-411.5 324,-417.5 318,-417.5\"/>\n<text text-anchor=\"middle\" x=\"272.5\" y=\"-402.3\" font-family=\"Helvetica,sans-Serif\" font-size=\"14.00\" fill=\"#000000\">entropy = 0.0</text>\n<text text-anchor=\"middle\" x=\"272.5\" y=\"-387.3\" font-family=\"Helvetica,sans-Serif\" font-size=\"14.00\" fill=\"#000000\">samples = 3</text>\n<text text-anchor=\"middle\" x=\"272.5\" y=\"-372.3\" font-family=\"Helvetica,sans-Serif\" font-size=\"14.00\" fill=\"#000000\">value = [0, 3, 0]</text>\n<text text-anchor=\"middle\" x=\"272.5\" y=\"-357.3\" font-family=\"Helvetica,sans-Serif\" font-size=\"14.00\" fill=\"#000000\">class = 雪莉</text>\n</g>\n<!-- 10&#45;&gt;11 -->\n<g id=\"edge11\" class=\"edge\">\n<title>10&#45;&gt;11</title>\n<path fill=\"none\" stroke=\"#000000\" d=\"M315.4164,-460.8796C309.2567,-449.7735 302.5889,-437.7513 296.3871,-426.5691\"/>\n<polygon fill=\"#000000\" stroke=\"#000000\" points=\"299.4428,-424.8624 291.5318,-417.8149 293.3213,-428.2576 299.4428,-424.8624\"/>\n</g>\n<!-- 12 -->\n<g id=\"node13\" class=\"node\">\n<title>12</title>\n<path fill=\"#e58139\" stroke=\"#000000\" d=\"M451,-417.5C451,-417.5 360,-417.5 360,-417.5 354,-417.5 348,-411.5 348,-405.5 348,-405.5 348,-361.5 348,-361.5 348,-355.5 354,-349.5 360,-349.5 360,-349.5 451,-349.5 451,-349.5 457,-349.5 463,-355.5 463,-361.5 463,-361.5 463,-405.5 463,-405.5 463,-411.5 457,-417.5 451,-417.5\"/>\n<text text-anchor=\"middle\" x=\"405.5\" y=\"-402.3\" font-family=\"Helvetica,sans-Serif\" font-size=\"14.00\" fill=\"#000000\">entropy = 0.0</text>\n<text text-anchor=\"middle\" x=\"405.5\" y=\"-387.3\" font-family=\"Helvetica,sans-Serif\" font-size=\"14.00\" fill=\"#000000\">samples = 3</text>\n<text text-anchor=\"middle\" x=\"405.5\" y=\"-372.3\" font-family=\"Helvetica,sans-Serif\" font-size=\"14.00\" fill=\"#000000\">value = [3, 0, 0]</text>\n<text text-anchor=\"middle\" x=\"405.5\" y=\"-357.3\" font-family=\"Helvetica,sans-Serif\" font-size=\"14.00\" fill=\"#000000\">class = 琴酒</text>\n</g>\n<!-- 10&#45;&gt;12 -->\n<g id=\"edge12\" class=\"edge\">\n<title>10&#45;&gt;12</title>\n<path fill=\"none\" stroke=\"#000000\" d=\"M361.9333,-460.8796C368.1863,-449.7735 374.9552,-437.7513 381.251,-426.5691\"/>\n<polygon fill=\"#000000\" stroke=\"#000000\" points=\"384.3235,-428.2459 386.1798,-417.8149 378.2239,-424.8116 384.3235,-428.2459\"/>\n</g>\n<!-- 15 -->\n<g id=\"node16\" class=\"node\">\n<title>15</title>\n<path fill=\"#3fe685\" stroke=\"#000000\" d=\"M740,-663C740,-663 641,-663 641,-663 635,-663 629,-657 629,-651 629,-651 629,-592 629,-592 629,-586 635,-580 641,-580 641,-580 740,-580 740,-580 746,-580 752,-586 752,-592 752,-592 752,-651 752,-651 752,-657 746,-663 740,-663\"/>\n<text text-anchor=\"middle\" x=\"690.5\" y=\"-647.8\" font-family=\"Helvetica,sans-Serif\" font-size=\"14.00\" fill=\"#000000\">总酚 &lt;= 1.42</text>\n<text text-anchor=\"middle\" x=\"690.5\" y=\"-632.8\" font-family=\"Helvetica,sans-Serif\" font-size=\"14.00\" fill=\"#000000\">entropy = 0.187</text>\n<text text-anchor=\"middle\" x=\"690.5\" y=\"-617.8\" font-family=\"Helvetica,sans-Serif\" font-size=\"14.00\" fill=\"#000000\">samples = 35</text>\n<text text-anchor=\"middle\" x=\"690.5\" y=\"-602.8\" font-family=\"Helvetica,sans-Serif\" font-size=\"14.00\" fill=\"#000000\">value = [0, 34, 1]</text>\n<text text-anchor=\"middle\" x=\"690.5\" y=\"-587.8\" font-family=\"Helvetica,sans-Serif\" font-size=\"14.00\" fill=\"#000000\">class = 雪莉</text>\n</g>\n<!-- 14&#45;&gt;15 -->\n<g id=\"edge15\" class=\"edge\">\n<title>14&#45;&gt;15</title>\n<path fill=\"none\" stroke=\"#000000\" d=\"M690.5,-698.8796C690.5,-690.6838 690.5,-681.9891 690.5,-673.5013\"/>\n<polygon fill=\"#000000\" stroke=\"#000000\" points=\"694.0001,-673.298 690.5,-663.2981 687.0001,-673.2981 694.0001,-673.298\"/>\n</g>\n<!-- 18 -->\n<g id=\"node19\" class=\"node\">\n<title>18</title>\n<path fill=\"#f7d7c0\" stroke=\"#000000\" d=\"M948,-663C948,-663 849,-663 849,-663 843,-663 837,-657 837,-651 837,-651 837,-592 837,-592 837,-586 843,-580 849,-580 849,-580 948,-580 948,-580 954,-580 960,-586 960,-592 960,-592 960,-651 960,-651 960,-657 954,-663 948,-663\"/>\n<text text-anchor=\"middle\" x=\"898.5\" y=\"-647.8\" font-family=\"Helvetica,sans-Serif\" font-size=\"14.00\" fill=\"#000000\">类黄酮 &lt;= 1.477</text>\n<text text-anchor=\"middle\" x=\"898.5\" y=\"-632.8\" font-family=\"Helvetica,sans-Serif\" font-size=\"14.00\" fill=\"#000000\">entropy = 1.462</text>\n<text text-anchor=\"middle\" x=\"898.5\" y=\"-617.8\" font-family=\"Helvetica,sans-Serif\" font-size=\"14.00\" fill=\"#000000\">samples = 27</text>\n<text text-anchor=\"middle\" x=\"898.5\" y=\"-602.8\" font-family=\"Helvetica,sans-Serif\" font-size=\"14.00\" fill=\"#000000\">value = [14, 8, 5]</text>\n<text text-anchor=\"middle\" x=\"898.5\" y=\"-587.8\" font-family=\"Helvetica,sans-Serif\" font-size=\"14.00\" fill=\"#000000\">class = 琴酒</text>\n</g>\n<!-- 14&#45;&gt;18 -->\n<g id=\"edge18\" class=\"edge\">\n<title>14&#45;&gt;18</title>\n<path fill=\"none\" stroke=\"#000000\" d=\"M756.027,-703.011C778.9401,-689.9021 804.7536,-675.1338 828.0512,-661.8049\"/>\n<polygon fill=\"#000000\" stroke=\"#000000\" points=\"829.9039,-664.7772 836.8457,-656.7734 826.4278,-658.7013 829.9039,-664.7772\"/>\n</g>\n<!-- 16 -->\n<g id=\"node17\" class=\"node\">\n<title>16</title>\n<path fill=\"#8139e5\" stroke=\"#000000\" d=\"M666,-536.5C666,-536.5 567,-536.5 567,-536.5 561,-536.5 555,-530.5 555,-524.5 555,-524.5 555,-480.5 555,-480.5 555,-474.5 561,-468.5 567,-468.5 567,-468.5 666,-468.5 666,-468.5 672,-468.5 678,-474.5 678,-480.5 678,-480.5 678,-524.5 678,-524.5 678,-530.5 672,-536.5 666,-536.5\"/>\n<text text-anchor=\"middle\" x=\"616.5\" y=\"-521.3\" font-family=\"Helvetica,sans-Serif\" font-size=\"14.00\" fill=\"#000000\">entropy = 0.0</text>\n<text text-anchor=\"middle\" x=\"616.5\" y=\"-506.3\" font-family=\"Helvetica,sans-Serif\" font-size=\"14.00\" fill=\"#000000\">samples = 1</text>\n<text text-anchor=\"middle\" x=\"616.5\" y=\"-491.3\" font-family=\"Helvetica,sans-Serif\" font-size=\"14.00\" fill=\"#000000\">value = [0, 0, 1]</text>\n<text text-anchor=\"middle\" x=\"616.5\" y=\"-476.3\" font-family=\"Helvetica,sans-Serif\" font-size=\"14.00\" fill=\"#000000\">class = 贝尔摩德</text>\n</g>\n<!-- 15&#45;&gt;16 -->\n<g id=\"edge16\" class=\"edge\">\n<title>15&#45;&gt;16</title>\n<path fill=\"none\" stroke=\"#000000\" d=\"M664.6184,-579.8796C657.7121,-568.7735 650.2361,-556.7513 643.2825,-545.5691\"/>\n<polygon fill=\"#000000\" stroke=\"#000000\" points=\"646.0917,-543.4587 637.8387,-536.8149 640.1473,-547.1552 646.0917,-543.4587\"/>\n</g>\n<!-- 17 -->\n<g id=\"node18\" class=\"node\">\n<title>17</title>\n<path fill=\"#39e581\" stroke=\"#000000\" d=\"M807,-536.5C807,-536.5 708,-536.5 708,-536.5 702,-536.5 696,-530.5 696,-524.5 696,-524.5 696,-480.5 696,-480.5 696,-474.5 702,-468.5 708,-468.5 708,-468.5 807,-468.5 807,-468.5 813,-468.5 819,-474.5 819,-480.5 819,-480.5 819,-524.5 819,-524.5 819,-530.5 813,-536.5 807,-536.5\"/>\n<text text-anchor=\"middle\" x=\"757.5\" y=\"-521.3\" font-family=\"Helvetica,sans-Serif\" font-size=\"14.00\" fill=\"#000000\">entropy = 0.0</text>\n<text text-anchor=\"middle\" x=\"757.5\" y=\"-506.3\" font-family=\"Helvetica,sans-Serif\" font-size=\"14.00\" fill=\"#000000\">samples = 34</text>\n<text text-anchor=\"middle\" x=\"757.5\" y=\"-491.3\" font-family=\"Helvetica,sans-Serif\" font-size=\"14.00\" fill=\"#000000\">value = [0, 34, 0]</text>\n<text text-anchor=\"middle\" x=\"757.5\" y=\"-476.3\" font-family=\"Helvetica,sans-Serif\" font-size=\"14.00\" fill=\"#000000\">class = 雪莉</text>\n</g>\n<!-- 15&#45;&gt;17 -->\n<g id=\"edge17\" class=\"edge\">\n<title>15&#45;&gt;17</title>\n<path fill=\"none\" stroke=\"#000000\" d=\"M713.9333,-579.8796C720.1863,-568.7735 726.9552,-556.7513 733.251,-545.5691\"/>\n<polygon fill=\"#000000\" stroke=\"#000000\" points=\"736.3235,-547.2459 738.1798,-536.8149 730.2239,-543.8116 736.3235,-547.2459\"/>\n</g>\n<!-- 19 -->\n<g id=\"node20\" class=\"node\">\n<title>19</title>\n<path fill=\"#9a61ea\" stroke=\"#000000\" d=\"M948,-544C948,-544 849,-544 849,-544 843,-544 837,-538 837,-532 837,-532 837,-473 837,-473 837,-467 843,-461 849,-461 849,-461 948,-461 948,-461 954,-461 960,-467 960,-473 960,-473 960,-532 960,-532 960,-538 954,-544 948,-544\"/>\n<text text-anchor=\"middle\" x=\"898.5\" y=\"-528.8\" font-family=\"Helvetica,sans-Serif\" font-size=\"14.00\" fill=\"#000000\">酒精 &lt;= 12.808</text>\n<text text-anchor=\"middle\" x=\"898.5\" y=\"-513.8\" font-family=\"Helvetica,sans-Serif\" font-size=\"14.00\" fill=\"#000000\">entropy = 0.65</text>\n<text text-anchor=\"middle\" x=\"898.5\" y=\"-498.8\" font-family=\"Helvetica,sans-Serif\" font-size=\"14.00\" fill=\"#000000\">samples = 6</text>\n<text text-anchor=\"middle\" x=\"898.5\" y=\"-483.8\" font-family=\"Helvetica,sans-Serif\" font-size=\"14.00\" fill=\"#000000\">value = [0, 1, 5]</text>\n<text text-anchor=\"middle\" x=\"898.5\" y=\"-468.8\" font-family=\"Helvetica,sans-Serif\" font-size=\"14.00\" fill=\"#000000\">class = 贝尔摩德</text>\n</g>\n<!-- 18&#45;&gt;19 -->\n<g id=\"edge19\" class=\"edge\">\n<title>18&#45;&gt;19</title>\n<path fill=\"none\" stroke=\"#000000\" d=\"M898.5,-579.8796C898.5,-571.6838 898.5,-562.9891 898.5,-554.5013\"/>\n<polygon fill=\"#000000\" stroke=\"#000000\" points=\"902.0001,-554.298 898.5,-544.2981 895.0001,-554.2981 902.0001,-554.298\"/>\n</g>\n<!-- 22 -->\n<g id=\"node23\" class=\"node\">\n<title>22</title>\n<path fill=\"#f2c09c\" stroke=\"#000000\" d=\"M1109,-544C1109,-544 990,-544 990,-544 984,-544 978,-538 978,-532 978,-532 978,-473 978,-473 978,-467 984,-461 990,-461 990,-461 1109,-461 1109,-461 1115,-461 1121,-467 1121,-473 1121,-473 1121,-532 1121,-532 1121,-538 1115,-544 1109,-544\"/>\n<text text-anchor=\"middle\" x=\"1049.5\" y=\"-528.8\" font-family=\"Helvetica,sans-Serif\" font-size=\"14.00\" fill=\"#000000\">灰的碱性 &lt;= 20.443</text>\n<text text-anchor=\"middle\" x=\"1049.5\" y=\"-513.8\" font-family=\"Helvetica,sans-Serif\" font-size=\"14.00\" fill=\"#000000\">entropy = 0.918</text>\n<text text-anchor=\"middle\" x=\"1049.5\" y=\"-498.8\" font-family=\"Helvetica,sans-Serif\" font-size=\"14.00\" fill=\"#000000\">samples = 21</text>\n<text text-anchor=\"middle\" x=\"1049.5\" y=\"-483.8\" font-family=\"Helvetica,sans-Serif\" font-size=\"14.00\" fill=\"#000000\">value = [14, 7, 0]</text>\n<text text-anchor=\"middle\" x=\"1049.5\" y=\"-468.8\" font-family=\"Helvetica,sans-Serif\" font-size=\"14.00\" fill=\"#000000\">class = 琴酒</text>\n</g>\n<!-- 18&#45;&gt;22 -->\n<g id=\"edge22\" class=\"edge\">\n<title>18&#45;&gt;22</title>\n<path fill=\"none\" stroke=\"#000000\" d=\"M951.3125,-579.8796C963.3818,-570.368 976.3039,-560.1843 988.6788,-550.432\"/>\n<polygon fill=\"#000000\" stroke=\"#000000\" points=\"991.0296,-553.0356 996.7173,-544.0969 986.6968,-547.5377 991.0296,-553.0356\"/>\n</g>\n<!-- 20 -->\n<g id=\"node21\" class=\"node\">\n<title>20</title>\n<path fill=\"#39e581\" stroke=\"#000000\" d=\"M809,-417.5C809,-417.5 718,-417.5 718,-417.5 712,-417.5 706,-411.5 706,-405.5 706,-405.5 706,-361.5 706,-361.5 706,-355.5 712,-349.5 718,-349.5 718,-349.5 809,-349.5 809,-349.5 815,-349.5 821,-355.5 821,-361.5 821,-361.5 821,-405.5 821,-405.5 821,-411.5 815,-417.5 809,-417.5\"/>\n<text text-anchor=\"middle\" x=\"763.5\" y=\"-402.3\" font-family=\"Helvetica,sans-Serif\" font-size=\"14.00\" fill=\"#000000\">entropy = 0.0</text>\n<text text-anchor=\"middle\" x=\"763.5\" y=\"-387.3\" font-family=\"Helvetica,sans-Serif\" font-size=\"14.00\" fill=\"#000000\">samples = 1</text>\n<text text-anchor=\"middle\" x=\"763.5\" y=\"-372.3\" font-family=\"Helvetica,sans-Serif\" font-size=\"14.00\" fill=\"#000000\">value = [0, 1, 0]</text>\n<text text-anchor=\"middle\" x=\"763.5\" y=\"-357.3\" font-family=\"Helvetica,sans-Serif\" font-size=\"14.00\" fill=\"#000000\">class = 雪莉</text>\n</g>\n<!-- 19&#45;&gt;20 -->\n<g id=\"edge20\" class=\"edge\">\n<title>19&#45;&gt;20</title>\n<path fill=\"none\" stroke=\"#000000\" d=\"M851.2836,-460.8796C837.9358,-449.1138 823.4215,-436.3197 810.1096,-424.5855\"/>\n<polygon fill=\"#000000\" stroke=\"#000000\" points=\"812.2448,-421.8019 802.4287,-417.8149 807.616,-427.0531 812.2448,-421.8019\"/>\n</g>\n<!-- 21 -->\n<g id=\"node22\" class=\"node\">\n<title>21</title>\n<path fill=\"#8139e5\" stroke=\"#000000\" d=\"M950,-417.5C950,-417.5 851,-417.5 851,-417.5 845,-417.5 839,-411.5 839,-405.5 839,-405.5 839,-361.5 839,-361.5 839,-355.5 845,-349.5 851,-349.5 851,-349.5 950,-349.5 950,-349.5 956,-349.5 962,-355.5 962,-361.5 962,-361.5 962,-405.5 962,-405.5 962,-411.5 956,-417.5 950,-417.5\"/>\n<text text-anchor=\"middle\" x=\"900.5\" y=\"-402.3\" font-family=\"Helvetica,sans-Serif\" font-size=\"14.00\" fill=\"#000000\">entropy = 0.0</text>\n<text text-anchor=\"middle\" x=\"900.5\" y=\"-387.3\" font-family=\"Helvetica,sans-Serif\" font-size=\"14.00\" fill=\"#000000\">samples = 5</text>\n<text text-anchor=\"middle\" x=\"900.5\" y=\"-372.3\" font-family=\"Helvetica,sans-Serif\" font-size=\"14.00\" fill=\"#000000\">value = [0, 0, 5]</text>\n<text text-anchor=\"middle\" x=\"900.5\" y=\"-357.3\" font-family=\"Helvetica,sans-Serif\" font-size=\"14.00\" fill=\"#000000\">class = 贝尔摩德</text>\n</g>\n<!-- 19&#45;&gt;21 -->\n<g id=\"edge21\" class=\"edge\">\n<title>19&#45;&gt;21</title>\n<path fill=\"none\" stroke=\"#000000\" d=\"M899.1995,-460.8796C899.3788,-450.2134 899.5722,-438.7021 899.7538,-427.9015\"/>\n<polygon fill=\"#000000\" stroke=\"#000000\" points=\"903.2546,-427.8724 899.9233,-417.8149 896.2556,-427.7547 903.2546,-427.8724\"/>\n</g>\n<!-- 23 -->\n<g id=\"node24\" class=\"node\">\n<title>23</title>\n<path fill=\"#e78c4b\" stroke=\"#000000\" d=\"M1096,-425C1096,-425 997,-425 997,-425 991,-425 985,-419 985,-413 985,-413 985,-354 985,-354 985,-348 991,-342 997,-342 997,-342 1096,-342 1096,-342 1102,-342 1108,-348 1108,-354 1108,-354 1108,-413 1108,-413 1108,-419 1102,-425 1096,-425\"/>\n<text text-anchor=\"middle\" x=\"1046.5\" y=\"-409.8\" font-family=\"Helvetica,sans-Serif\" font-size=\"14.00\" fill=\"#000000\">总酚 &lt;= 2.505</text>\n<text text-anchor=\"middle\" x=\"1046.5\" y=\"-394.8\" font-family=\"Helvetica,sans-Serif\" font-size=\"14.00\" fill=\"#000000\">entropy = 0.414</text>\n<text text-anchor=\"middle\" x=\"1046.5\" y=\"-379.8\" font-family=\"Helvetica,sans-Serif\" font-size=\"14.00\" fill=\"#000000\">samples = 12</text>\n<text text-anchor=\"middle\" x=\"1046.5\" y=\"-364.8\" font-family=\"Helvetica,sans-Serif\" font-size=\"14.00\" fill=\"#000000\">value = [11, 1, 0]</text>\n<text text-anchor=\"middle\" x=\"1046.5\" y=\"-349.8\" font-family=\"Helvetica,sans-Serif\" font-size=\"14.00\" fill=\"#000000\">class = 琴酒</text>\n</g>\n<!-- 22&#45;&gt;23 -->\n<g id=\"edge23\" class=\"edge\">\n<title>22&#45;&gt;23</title>\n<path fill=\"none\" stroke=\"#000000\" d=\"M1048.4507,-460.8796C1048.2441,-452.6838 1048.0249,-443.9891 1047.811,-435.5013\"/>\n<polygon fill=\"#000000\" stroke=\"#000000\" points=\"1051.3047,-435.2067 1047.5537,-425.2981 1044.307,-435.3831 1051.3047,-435.2067\"/>\n</g>\n<!-- 28 -->\n<g id=\"node29\" class=\"node\">\n<title>28</title>\n<path fill=\"#9cf2c0\" stroke=\"#000000\" d=\"M1232.5,-425C1232.5,-425 1138.5,-425 1138.5,-425 1132.5,-425 1126.5,-419 1126.5,-413 1126.5,-413 1126.5,-354 1126.5,-354 1126.5,-348 1132.5,-342 1138.5,-342 1138.5,-342 1232.5,-342 1232.5,-342 1238.5,-342 1244.5,-348 1244.5,-354 1244.5,-354 1244.5,-413 1244.5,-413 1244.5,-419 1238.5,-425 1232.5,-425\"/>\n<text text-anchor=\"middle\" x=\"1185.5\" y=\"-409.8\" font-family=\"Helvetica,sans-Serif\" font-size=\"14.00\" fill=\"#000000\">酒精 &lt;= 13.189</text>\n<text text-anchor=\"middle\" x=\"1185.5\" y=\"-394.8\" font-family=\"Helvetica,sans-Serif\" font-size=\"14.00\" fill=\"#000000\">entropy = 0.918</text>\n<text text-anchor=\"middle\" x=\"1185.5\" y=\"-379.8\" font-family=\"Helvetica,sans-Serif\" font-size=\"14.00\" fill=\"#000000\">samples = 9</text>\n<text text-anchor=\"middle\" x=\"1185.5\" y=\"-364.8\" font-family=\"Helvetica,sans-Serif\" font-size=\"14.00\" fill=\"#000000\">value = [3, 6, 0]</text>\n<text text-anchor=\"middle\" x=\"1185.5\" y=\"-349.8\" font-family=\"Helvetica,sans-Serif\" font-size=\"14.00\" fill=\"#000000\">class = 雪莉</text>\n</g>\n<!-- 22&#45;&gt;28 -->\n<g id=\"edge28\" class=\"edge\">\n<title>22&#45;&gt;28</title>\n<path fill=\"none\" stroke=\"#000000\" d=\"M1097.0662,-460.8796C1107.6679,-451.6031 1119.0002,-441.6874 1129.8933,-432.1559\"/>\n<polygon fill=\"#000000\" stroke=\"#000000\" points=\"1132.5098,-434.5172 1137.7308,-425.2981 1127.9002,-429.2491 1132.5098,-434.5172\"/>\n</g>\n<!-- 24 -->\n<g id=\"node25\" class=\"node\">\n<title>24</title>\n<path fill=\"#eca06a\" stroke=\"#000000\" d=\"M960.5,-306C960.5,-306 866.5,-306 866.5,-306 860.5,-306 854.5,-300 854.5,-294 854.5,-294 854.5,-235 854.5,-235 854.5,-229 860.5,-223 866.5,-223 866.5,-223 960.5,-223 960.5,-223 966.5,-223 972.5,-229 972.5,-235 972.5,-235 972.5,-294 972.5,-294 972.5,-300 966.5,-306 960.5,-306\"/>\n<text text-anchor=\"middle\" x=\"913.5\" y=\"-290.8\" font-family=\"Helvetica,sans-Serif\" font-size=\"14.00\" fill=\"#000000\">灰 &lt;= 2.47</text>\n<text text-anchor=\"middle\" x=\"913.5\" y=\"-275.8\" font-family=\"Helvetica,sans-Serif\" font-size=\"14.00\" fill=\"#000000\">entropy = 0.722</text>\n<text text-anchor=\"middle\" x=\"913.5\" y=\"-260.8\" font-family=\"Helvetica,sans-Serif\" font-size=\"14.00\" fill=\"#000000\">samples = 5</text>\n<text text-anchor=\"middle\" x=\"913.5\" y=\"-245.8\" font-family=\"Helvetica,sans-Serif\" font-size=\"14.00\" fill=\"#000000\">value = [4, 1, 0]</text>\n<text text-anchor=\"middle\" x=\"913.5\" y=\"-230.8\" font-family=\"Helvetica,sans-Serif\" font-size=\"14.00\" fill=\"#000000\">class = 琴酒</text>\n</g>\n<!-- 23&#45;&gt;24 -->\n<g id=\"edge24\" class=\"edge\">\n<title>23&#45;&gt;24</title>\n<path fill=\"none\" stroke=\"#000000\" d=\"M999.9831,-341.8796C989.6152,-332.6031 978.5329,-322.6874 967.8801,-313.1559\"/>\n<polygon fill=\"#000000\" stroke=\"#000000\" points=\"970.0017,-310.3577 960.2155,-306.2981 965.3341,-315.5744 970.0017,-310.3577\"/>\n</g>\n<!-- 27 -->\n<g id=\"node28\" class=\"node\">\n<title>27</title>\n<path fill=\"#e58139\" stroke=\"#000000\" d=\"M1094,-298.5C1094,-298.5 1003,-298.5 1003,-298.5 997,-298.5 991,-292.5 991,-286.5 991,-286.5 991,-242.5 991,-242.5 991,-236.5 997,-230.5 1003,-230.5 1003,-230.5 1094,-230.5 1094,-230.5 1100,-230.5 1106,-236.5 1106,-242.5 1106,-242.5 1106,-286.5 1106,-286.5 1106,-292.5 1100,-298.5 1094,-298.5\"/>\n<text text-anchor=\"middle\" x=\"1048.5\" y=\"-283.3\" font-family=\"Helvetica,sans-Serif\" font-size=\"14.00\" fill=\"#000000\">entropy = 0.0</text>\n<text text-anchor=\"middle\" x=\"1048.5\" y=\"-268.3\" font-family=\"Helvetica,sans-Serif\" font-size=\"14.00\" fill=\"#000000\">samples = 7</text>\n<text text-anchor=\"middle\" x=\"1048.5\" y=\"-253.3\" font-family=\"Helvetica,sans-Serif\" font-size=\"14.00\" fill=\"#000000\">value = [7, 0, 0]</text>\n<text text-anchor=\"middle\" x=\"1048.5\" y=\"-238.3\" font-family=\"Helvetica,sans-Serif\" font-size=\"14.00\" fill=\"#000000\">class = 琴酒</text>\n</g>\n<!-- 23&#45;&gt;27 -->\n<g id=\"edge27\" class=\"edge\">\n<title>23&#45;&gt;27</title>\n<path fill=\"none\" stroke=\"#000000\" d=\"M1047.1995,-341.8796C1047.3788,-331.2134 1047.5722,-319.7021 1047.7538,-308.9015\"/>\n<polygon fill=\"#000000\" stroke=\"#000000\" points=\"1051.2546,-308.8724 1047.9233,-298.8149 1044.2556,-308.7547 1051.2546,-308.8724\"/>\n</g>\n<!-- 25 -->\n<g id=\"node26\" class=\"node\">\n<title>25</title>\n<path fill=\"#39e581\" stroke=\"#000000\" d=\"M956,-179.5C956,-179.5 865,-179.5 865,-179.5 859,-179.5 853,-173.5 853,-167.5 853,-167.5 853,-123.5 853,-123.5 853,-117.5 859,-111.5 865,-111.5 865,-111.5 956,-111.5 956,-111.5 962,-111.5 968,-117.5 968,-123.5 968,-123.5 968,-167.5 968,-167.5 968,-173.5 962,-179.5 956,-179.5\"/>\n<text text-anchor=\"middle\" x=\"910.5\" y=\"-164.3\" font-family=\"Helvetica,sans-Serif\" font-size=\"14.00\" fill=\"#000000\">entropy = 0.0</text>\n<text text-anchor=\"middle\" x=\"910.5\" y=\"-149.3\" font-family=\"Helvetica,sans-Serif\" font-size=\"14.00\" fill=\"#000000\">samples = 1</text>\n<text text-anchor=\"middle\" x=\"910.5\" y=\"-134.3\" font-family=\"Helvetica,sans-Serif\" font-size=\"14.00\" fill=\"#000000\">value = [0, 1, 0]</text>\n<text text-anchor=\"middle\" x=\"910.5\" y=\"-119.3\" font-family=\"Helvetica,sans-Serif\" font-size=\"14.00\" fill=\"#000000\">class = 雪莉</text>\n</g>\n<!-- 24&#45;&gt;25 -->\n<g id=\"edge25\" class=\"edge\">\n<title>24&#45;&gt;25</title>\n<path fill=\"none\" stroke=\"#000000\" d=\"M912.4507,-222.8796C912.1818,-212.2134 911.8916,-200.7021 911.6194,-189.9015\"/>\n<polygon fill=\"#000000\" stroke=\"#000000\" points=\"915.1161,-189.7235 911.3651,-179.8149 908.1183,-189.9 915.1161,-189.7235\"/>\n</g>\n<!-- 26 -->\n<g id=\"node27\" class=\"node\">\n<title>26</title>\n<path fill=\"#e58139\" stroke=\"#000000\" d=\"M1089,-179.5C1089,-179.5 998,-179.5 998,-179.5 992,-179.5 986,-173.5 986,-167.5 986,-167.5 986,-123.5 986,-123.5 986,-117.5 992,-111.5 998,-111.5 998,-111.5 1089,-111.5 1089,-111.5 1095,-111.5 1101,-117.5 1101,-123.5 1101,-123.5 1101,-167.5 1101,-167.5 1101,-173.5 1095,-179.5 1089,-179.5\"/>\n<text text-anchor=\"middle\" x=\"1043.5\" y=\"-164.3\" font-family=\"Helvetica,sans-Serif\" font-size=\"14.00\" fill=\"#000000\">entropy = 0.0</text>\n<text text-anchor=\"middle\" x=\"1043.5\" y=\"-149.3\" font-family=\"Helvetica,sans-Serif\" font-size=\"14.00\" fill=\"#000000\">samples = 4</text>\n<text text-anchor=\"middle\" x=\"1043.5\" y=\"-134.3\" font-family=\"Helvetica,sans-Serif\" font-size=\"14.00\" fill=\"#000000\">value = [4, 0, 0]</text>\n<text text-anchor=\"middle\" x=\"1043.5\" y=\"-119.3\" font-family=\"Helvetica,sans-Serif\" font-size=\"14.00\" fill=\"#000000\">class = 琴酒</text>\n</g>\n<!-- 24&#45;&gt;26 -->\n<g id=\"edge26\" class=\"edge\">\n<title>24&#45;&gt;26</title>\n<path fill=\"none\" stroke=\"#000000\" d=\"M958.9677,-222.8796C971.8211,-211.1138 985.7979,-198.3197 998.6166,-186.5855\"/>\n<polygon fill=\"#000000\" stroke=\"#000000\" points=\"1001.0001,-189.1488 1006.0131,-179.8149 996.2736,-183.9854 1001.0001,-189.1488\"/>\n</g>\n<!-- 29 -->\n<g id=\"node30\" class=\"node\">\n<title>29</title>\n<path fill=\"#39e581\" stroke=\"#000000\" d=\"M1230,-298.5C1230,-298.5 1139,-298.5 1139,-298.5 1133,-298.5 1127,-292.5 1127,-286.5 1127,-286.5 1127,-242.5 1127,-242.5 1127,-236.5 1133,-230.5 1139,-230.5 1139,-230.5 1230,-230.5 1230,-230.5 1236,-230.5 1242,-236.5 1242,-242.5 1242,-242.5 1242,-286.5 1242,-286.5 1242,-292.5 1236,-298.5 1230,-298.5\"/>\n<text text-anchor=\"middle\" x=\"1184.5\" y=\"-283.3\" font-family=\"Helvetica,sans-Serif\" font-size=\"14.00\" fill=\"#000000\">entropy = 0.0</text>\n<text text-anchor=\"middle\" x=\"1184.5\" y=\"-268.3\" font-family=\"Helvetica,sans-Serif\" font-size=\"14.00\" fill=\"#000000\">samples = 4</text>\n<text text-anchor=\"middle\" x=\"1184.5\" y=\"-253.3\" font-family=\"Helvetica,sans-Serif\" font-size=\"14.00\" fill=\"#000000\">value = [0, 4, 0]</text>\n<text text-anchor=\"middle\" x=\"1184.5\" y=\"-238.3\" font-family=\"Helvetica,sans-Serif\" font-size=\"14.00\" fill=\"#000000\">class = 雪莉</text>\n</g>\n<!-- 28&#45;&gt;29 -->\n<g id=\"edge29\" class=\"edge\">\n<title>28&#45;&gt;29</title>\n<path fill=\"none\" stroke=\"#000000\" d=\"M1185.1502,-341.8796C1185.0606,-331.2134 1184.9639,-319.7021 1184.8731,-308.9015\"/>\n<polygon fill=\"#000000\" stroke=\"#000000\" points=\"1188.3724,-308.7851 1184.7884,-298.8149 1181.3726,-308.844 1188.3724,-308.7851\"/>\n</g>\n<!-- 30 -->\n<g id=\"node31\" class=\"node\">\n<title>30</title>\n<path fill=\"#f6d5bd\" stroke=\"#000000\" d=\"M1366.5,-306C1366.5,-306 1272.5,-306 1272.5,-306 1266.5,-306 1260.5,-300 1260.5,-294 1260.5,-294 1260.5,-235 1260.5,-235 1260.5,-229 1266.5,-223 1272.5,-223 1272.5,-223 1366.5,-223 1366.5,-223 1372.5,-223 1378.5,-229 1378.5,-235 1378.5,-235 1378.5,-294 1378.5,-294 1378.5,-300 1372.5,-306 1366.5,-306\"/>\n<text text-anchor=\"middle\" x=\"1319.5\" y=\"-290.8\" font-family=\"Helvetica,sans-Serif\" font-size=\"14.00\" fill=\"#000000\">总酚 &lt;= 2.088</text>\n<text text-anchor=\"middle\" x=\"1319.5\" y=\"-275.8\" font-family=\"Helvetica,sans-Serif\" font-size=\"14.00\" fill=\"#000000\">entropy = 0.971</text>\n<text text-anchor=\"middle\" x=\"1319.5\" y=\"-260.8\" font-family=\"Helvetica,sans-Serif\" font-size=\"14.00\" fill=\"#000000\">samples = 5</text>\n<text text-anchor=\"middle\" x=\"1319.5\" y=\"-245.8\" font-family=\"Helvetica,sans-Serif\" font-size=\"14.00\" fill=\"#000000\">value = [3, 2, 0]</text>\n<text text-anchor=\"middle\" x=\"1319.5\" y=\"-230.8\" font-family=\"Helvetica,sans-Serif\" font-size=\"14.00\" fill=\"#000000\">class = 琴酒</text>\n</g>\n<!-- 28&#45;&gt;30 -->\n<g id=\"edge30\" class=\"edge\">\n<title>28&#45;&gt;30</title>\n<path fill=\"none\" stroke=\"#000000\" d=\"M1232.3667,-341.8796C1242.8125,-332.6031 1253.9781,-322.6874 1264.711,-313.1559\"/>\n<polygon fill=\"#000000\" stroke=\"#000000\" points=\"1267.2801,-315.5553 1272.4333,-306.2981 1262.632,-310.3213 1267.2801,-315.5553\"/>\n</g>\n<!-- 31 -->\n<g id=\"node32\" class=\"node\">\n<title>31</title>\n<path fill=\"#39e581\" stroke=\"#000000\" d=\"M1292,-179.5C1292,-179.5 1201,-179.5 1201,-179.5 1195,-179.5 1189,-173.5 1189,-167.5 1189,-167.5 1189,-123.5 1189,-123.5 1189,-117.5 1195,-111.5 1201,-111.5 1201,-111.5 1292,-111.5 1292,-111.5 1298,-111.5 1304,-117.5 1304,-123.5 1304,-123.5 1304,-167.5 1304,-167.5 1304,-173.5 1298,-179.5 1292,-179.5\"/>\n<text text-anchor=\"middle\" x=\"1246.5\" y=\"-164.3\" font-family=\"Helvetica,sans-Serif\" font-size=\"14.00\" fill=\"#000000\">entropy = 0.0</text>\n<text text-anchor=\"middle\" x=\"1246.5\" y=\"-149.3\" font-family=\"Helvetica,sans-Serif\" font-size=\"14.00\" fill=\"#000000\">samples = 1</text>\n<text text-anchor=\"middle\" x=\"1246.5\" y=\"-134.3\" font-family=\"Helvetica,sans-Serif\" font-size=\"14.00\" fill=\"#000000\">value = [0, 1, 0]</text>\n<text text-anchor=\"middle\" x=\"1246.5\" y=\"-119.3\" font-family=\"Helvetica,sans-Serif\" font-size=\"14.00\" fill=\"#000000\">class = 雪莉</text>\n</g>\n<!-- 30&#45;&gt;31 -->\n<g id=\"edge31\" class=\"edge\">\n<title>30&#45;&gt;31</title>\n<path fill=\"none\" stroke=\"#000000\" d=\"M1293.9681,-222.8796C1287.1552,-211.7735 1279.7802,-199.7513 1272.9206,-188.5691\"/>\n<polygon fill=\"#000000\" stroke=\"#000000\" points=\"1275.7628,-186.5087 1267.5503,-179.8149 1269.796,-190.1691 1275.7628,-186.5087\"/>\n</g>\n<!-- 32 -->\n<g id=\"node33\" class=\"node\">\n<title>32</title>\n<path fill=\"#eeab7b\" stroke=\"#000000\" d=\"M1444.5,-187C1444.5,-187 1334.5,-187 1334.5,-187 1328.5,-187 1322.5,-181 1322.5,-175 1322.5,-175 1322.5,-116 1322.5,-116 1322.5,-110 1328.5,-104 1334.5,-104 1334.5,-104 1444.5,-104 1444.5,-104 1450.5,-104 1456.5,-110 1456.5,-116 1456.5,-116 1456.5,-175 1456.5,-175 1456.5,-181 1450.5,-187 1444.5,-187\"/>\n<text text-anchor=\"middle\" x=\"1389.5\" y=\"-171.8\" font-family=\"Helvetica,sans-Serif\" font-size=\"14.00\" fill=\"#000000\">灰的碱性 &lt;= 23.58</text>\n<text text-anchor=\"middle\" x=\"1389.5\" y=\"-156.8\" font-family=\"Helvetica,sans-Serif\" font-size=\"14.00\" fill=\"#000000\">entropy = 0.811</text>\n<text text-anchor=\"middle\" x=\"1389.5\" y=\"-141.8\" font-family=\"Helvetica,sans-Serif\" font-size=\"14.00\" fill=\"#000000\">samples = 4</text>\n<text text-anchor=\"middle\" x=\"1389.5\" y=\"-126.8\" font-family=\"Helvetica,sans-Serif\" font-size=\"14.00\" fill=\"#000000\">value = [3, 1, 0]</text>\n<text text-anchor=\"middle\" x=\"1389.5\" y=\"-111.8\" font-family=\"Helvetica,sans-Serif\" font-size=\"14.00\" fill=\"#000000\">class = 琴酒</text>\n</g>\n<!-- 30&#45;&gt;32 -->\n<g id=\"edge32\" class=\"edge\">\n<title>30&#45;&gt;32</title>\n<path fill=\"none\" stroke=\"#000000\" d=\"M1343.9826,-222.8796C1349.0685,-214.2335 1354.4811,-205.0322 1359.7328,-196.1042\"/>\n<polygon fill=\"#000000\" stroke=\"#000000\" points=\"1362.8594,-197.692 1364.9129,-187.2981 1356.8259,-194.1428 1362.8594,-197.692\"/>\n</g>\n<!-- 33 -->\n<g id=\"node34\" class=\"node\">\n<title>33</title>\n<path fill=\"#e58139\" stroke=\"#000000\" d=\"M1368,-68C1368,-68 1277,-68 1277,-68 1271,-68 1265,-62 1265,-56 1265,-56 1265,-12 1265,-12 1265,-6 1271,0 1277,0 1277,0 1368,0 1368,0 1374,0 1380,-6 1380,-12 1380,-12 1380,-56 1380,-56 1380,-62 1374,-68 1368,-68\"/>\n<text text-anchor=\"middle\" x=\"1322.5\" y=\"-52.8\" font-family=\"Helvetica,sans-Serif\" font-size=\"14.00\" fill=\"#000000\">entropy = 0.0</text>\n<text text-anchor=\"middle\" x=\"1322.5\" y=\"-37.8\" font-family=\"Helvetica,sans-Serif\" font-size=\"14.00\" fill=\"#000000\">samples = 3</text>\n<text text-anchor=\"middle\" x=\"1322.5\" y=\"-22.8\" font-family=\"Helvetica,sans-Serif\" font-size=\"14.00\" fill=\"#000000\">value = [3, 0, 0]</text>\n<text text-anchor=\"middle\" x=\"1322.5\" y=\"-7.8\" font-family=\"Helvetica,sans-Serif\" font-size=\"14.00\" fill=\"#000000\">class = 琴酒</text>\n</g>\n<!-- 32&#45;&gt;33 -->\n<g id=\"edge33\" class=\"edge\">\n<title>32&#45;&gt;33</title>\n<path fill=\"none\" stroke=\"#000000\" d=\"M1364.5517,-103.9815C1359.2499,-95.1585 1353.6419,-85.8258 1348.3089,-76.9506\"/>\n<polygon fill=\"#000000\" stroke=\"#000000\" points=\"1351.2396,-75.0325 1343.0889,-68.2637 1345.2395,-78.638 1351.2396,-75.0325\"/>\n</g>\n<!-- 34 -->\n<g id=\"node35\" class=\"node\">\n<title>34</title>\n<path fill=\"#39e581\" stroke=\"#000000\" d=\"M1501,-68C1501,-68 1410,-68 1410,-68 1404,-68 1398,-62 1398,-56 1398,-56 1398,-12 1398,-12 1398,-6 1404,0 1410,0 1410,0 1501,0 1501,0 1507,0 1513,-6 1513,-12 1513,-12 1513,-56 1513,-56 1513,-62 1507,-68 1501,-68\"/>\n<text text-anchor=\"middle\" x=\"1455.5\" y=\"-52.8\" font-family=\"Helvetica,sans-Serif\" font-size=\"14.00\" fill=\"#000000\">entropy = 0.0</text>\n<text text-anchor=\"middle\" x=\"1455.5\" y=\"-37.8\" font-family=\"Helvetica,sans-Serif\" font-size=\"14.00\" fill=\"#000000\">samples = 1</text>\n<text text-anchor=\"middle\" x=\"1455.5\" y=\"-22.8\" font-family=\"Helvetica,sans-Serif\" font-size=\"14.00\" fill=\"#000000\">value = [0, 1, 0]</text>\n<text text-anchor=\"middle\" x=\"1455.5\" y=\"-7.8\" font-family=\"Helvetica,sans-Serif\" font-size=\"14.00\" fill=\"#000000\">class = 雪莉</text>\n</g>\n<!-- 32&#45;&gt;34 -->\n<g id=\"edge34\" class=\"edge\">\n<title>32&#45;&gt;34</title>\n<path fill=\"none\" stroke=\"#000000\" d=\"M1414.076,-103.9815C1419.2986,-95.1585 1424.8229,-85.8258 1430.0763,-76.9506\"/>\n<polygon fill=\"#000000\" stroke=\"#000000\" points=\"1433.1364,-78.652 1435.2184,-68.2637 1427.1126,-75.0863 1433.1364,-78.652\"/>\n</g>\n</g>\n</svg>\n"
          },
          "metadata": {},
          "execution_count": 110
        }
      ]
    },
    {
      "cell_type": "code",
      "source": [
        "score_train = clf.score(Xtrain, Ytrain)\n",
        "score_train"
      ],
      "metadata": {
        "id": "T5C-ij7_-fa7",
        "colab": {
          "base_uri": "https://localhost:8080/"
        },
        "outputId": "d6300c71-a25c-4b7a-ac59-33530c02a794"
      },
      "execution_count": 111,
      "outputs": [
        {
          "output_type": "execute_result",
          "data": {
            "text/plain": [
              "1.0"
            ]
          },
          "metadata": {},
          "execution_count": 111
        }
      ]
    },
    {
      "cell_type": "code",
      "source": [
        "clf = tree.DecisionTreeClassifier(criterion=\"entropy\"             \n",
        "                    ,random_state=30\n",
        "                    ,splitter=\"random\"\n",
        "                    ,max_depth=3\n",
        "                   # ,min_samples_leaf=10\n",
        "                   # ,min_samples_split=10\n",
        "              )\n",
        "clf = clf.fit(Xtrain, Ytrain)\n",
        "dot_data = tree.export_graphviz(clf\n",
        ",feature_names= feature_name\n",
        ",class_names=[\"琴酒\",\"雪莉\",\"贝尔摩德\"]\n",
        ",filled=True\n",
        ",rounded=True\n",
        ")\n",
        "graph = graphviz.Source(dot_data)\n",
        "graph"
      ],
      "metadata": {
        "colab": {
          "base_uri": "https://localhost:8080/",
          "height": 598
        },
        "id": "PdxDR6NRBFEU",
        "outputId": "b28cf13f-ecc2-4c97-f3e4-3c32f5c92d5e"
      },
      "execution_count": 121,
      "outputs": [
        {
          "output_type": "execute_result",
          "data": {
            "text/plain": [
              "<graphviz.files.Source at 0x7f7df88ef310>"
            ],
            "image/svg+xml": "<?xml version=\"1.0\" encoding=\"UTF-8\" standalone=\"no\"?>\n<!DOCTYPE svg PUBLIC \"-//W3C//DTD SVG 1.1//EN\"\n \"http://www.w3.org/Graphics/SVG/1.1/DTD/svg11.dtd\">\n<!-- Generated by graphviz version 2.40.1 (20161225.0304)\n -->\n<!-- Title: Tree Pages: 1 -->\n<svg width=\"837pt\" height=\"433pt\"\n viewBox=\"0.00 0.00 837.00 433.00\" xmlns=\"http://www.w3.org/2000/svg\" xmlns:xlink=\"http://www.w3.org/1999/xlink\">\n<g id=\"graph0\" class=\"graph\" transform=\"scale(1 1) rotate(0) translate(4 429)\">\n<title>Tree</title>\n<polygon fill=\"#ffffff\" stroke=\"transparent\" points=\"-4,4 -4,-429 833,-429 833,4 -4,4\"/>\n<!-- 0 -->\n<g id=\"node1\" class=\"node\">\n<title>0</title>\n<path fill=\"#e5fcee\" stroke=\"#000000\" d=\"M481.5,-425C481.5,-425 365.5,-425 365.5,-425 359.5,-425 353.5,-419 353.5,-413 353.5,-413 353.5,-354 353.5,-354 353.5,-348 359.5,-342 365.5,-342 365.5,-342 481.5,-342 481.5,-342 487.5,-342 493.5,-348 493.5,-354 493.5,-354 493.5,-413 493.5,-413 493.5,-419 487.5,-425 481.5,-425\"/>\n<text text-anchor=\"middle\" x=\"423.5\" y=\"-409.8\" font-family=\"Helvetica,sans-Serif\" font-size=\"14.00\" fill=\"#000000\">类黄酮 &lt;= 2.154</text>\n<text text-anchor=\"middle\" x=\"423.5\" y=\"-394.8\" font-family=\"Helvetica,sans-Serif\" font-size=\"14.00\" fill=\"#000000\">entropy = 1.562</text>\n<text text-anchor=\"middle\" x=\"423.5\" y=\"-379.8\" font-family=\"Helvetica,sans-Serif\" font-size=\"14.00\" fill=\"#000000\">samples = 124</text>\n<text text-anchor=\"middle\" x=\"423.5\" y=\"-364.8\" font-family=\"Helvetica,sans-Serif\" font-size=\"14.00\" fill=\"#000000\">value = [40, 51, 33]</text>\n<text text-anchor=\"middle\" x=\"423.5\" y=\"-349.8\" font-family=\"Helvetica,sans-Serif\" font-size=\"14.00\" fill=\"#000000\">class = 雪莉</text>\n</g>\n<!-- 1 -->\n<g id=\"node2\" class=\"node\">\n<title>1</title>\n<path fill=\"#f4edfd\" stroke=\"#000000\" d=\"M427,-306C427,-306 216,-306 216,-306 210,-306 204,-300 204,-294 204,-294 204,-235 204,-235 204,-229 210,-223 216,-223 216,-223 427,-223 427,-223 433,-223 439,-229 439,-235 439,-235 439,-294 439,-294 439,-300 433,-306 427,-306\"/>\n<text text-anchor=\"middle\" x=\"321.5\" y=\"-290.8\" font-family=\"Helvetica,sans-Serif\" font-size=\"14.00\" fill=\"#000000\">od280/od315稀释葡萄酒 &lt;= 2.173</text>\n<text text-anchor=\"middle\" x=\"321.5\" y=\"-275.8\" font-family=\"Helvetica,sans-Serif\" font-size=\"14.00\" fill=\"#000000\">entropy = 0.998</text>\n<text text-anchor=\"middle\" x=\"321.5\" y=\"-260.8\" font-family=\"Helvetica,sans-Serif\" font-size=\"14.00\" fill=\"#000000\">samples = 63</text>\n<text text-anchor=\"middle\" x=\"321.5\" y=\"-245.8\" font-family=\"Helvetica,sans-Serif\" font-size=\"14.00\" fill=\"#000000\">value = [0, 30, 33]</text>\n<text text-anchor=\"middle\" x=\"321.5\" y=\"-230.8\" font-family=\"Helvetica,sans-Serif\" font-size=\"14.00\" fill=\"#000000\">class = 贝尔摩德</text>\n</g>\n<!-- 0&#45;&gt;1 -->\n<g id=\"edge1\" class=\"edge\">\n<title>0&#45;&gt;1</title>\n<path fill=\"none\" stroke=\"#000000\" d=\"M387.8253,-341.8796C380.1057,-332.8733 371.8695,-323.2644 363.9197,-313.9897\"/>\n<polygon fill=\"#000000\" stroke=\"#000000\" points=\"366.4923,-311.6129 357.3269,-306.2981 361.1775,-316.1684 366.4923,-311.6129\"/>\n<text text-anchor=\"middle\" x=\"355.4095\" y=\"-327.5244\" font-family=\"Helvetica,sans-Serif\" font-size=\"14.00\" fill=\"#000000\">True</text>\n</g>\n<!-- 8 -->\n<g id=\"node9\" class=\"node\">\n<title>8</title>\n<path fill=\"#f3c3a1\" stroke=\"#000000\" d=\"M582,-306C582,-306 469,-306 469,-306 463,-306 457,-300 457,-294 457,-294 457,-235 457,-235 457,-229 463,-223 469,-223 469,-223 582,-223 582,-223 588,-223 594,-229 594,-235 594,-235 594,-294 594,-294 594,-300 588,-306 582,-306\"/>\n<text text-anchor=\"middle\" x=\"525.5\" y=\"-290.8\" font-family=\"Helvetica,sans-Serif\" font-size=\"14.00\" fill=\"#000000\">脯氨酸 &lt;= 558.218</text>\n<text text-anchor=\"middle\" x=\"525.5\" y=\"-275.8\" font-family=\"Helvetica,sans-Serif\" font-size=\"14.00\" fill=\"#000000\">entropy = 0.929</text>\n<text text-anchor=\"middle\" x=\"525.5\" y=\"-260.8\" font-family=\"Helvetica,sans-Serif\" font-size=\"14.00\" fill=\"#000000\">samples = 61</text>\n<text text-anchor=\"middle\" x=\"525.5\" y=\"-245.8\" font-family=\"Helvetica,sans-Serif\" font-size=\"14.00\" fill=\"#000000\">value = [40, 21, 0]</text>\n<text text-anchor=\"middle\" x=\"525.5\" y=\"-230.8\" font-family=\"Helvetica,sans-Serif\" font-size=\"14.00\" fill=\"#000000\">class = 琴酒</text>\n</g>\n<!-- 0&#45;&gt;8 -->\n<g id=\"edge8\" class=\"edge\">\n<title>0&#45;&gt;8</title>\n<path fill=\"none\" stroke=\"#000000\" d=\"M459.1747,-341.8796C466.8943,-332.8733 475.1305,-323.2644 483.0803,-313.9897\"/>\n<polygon fill=\"#000000\" stroke=\"#000000\" points=\"485.8225,-316.1684 489.6731,-306.2981 480.5077,-311.6129 485.8225,-316.1684\"/>\n<text text-anchor=\"middle\" x=\"491.5905\" y=\"-327.5244\" font-family=\"Helvetica,sans-Serif\" font-size=\"14.00\" fill=\"#000000\">False</text>\n</g>\n<!-- 2 -->\n<g id=\"node3\" class=\"node\">\n<title>2</title>\n<path fill=\"#995eea\" stroke=\"#000000\" d=\"M246,-187C246,-187 147,-187 147,-187 141,-187 135,-181 135,-175 135,-175 135,-116 135,-116 135,-110 141,-104 147,-104 147,-104 246,-104 246,-104 252,-104 258,-110 258,-116 258,-116 258,-175 258,-175 258,-181 252,-187 246,-187\"/>\n<text text-anchor=\"middle\" x=\"196.5\" y=\"-171.8\" font-family=\"Helvetica,sans-Serif\" font-size=\"14.00\" fill=\"#000000\">色调 &lt;= 0.961</text>\n<text text-anchor=\"middle\" x=\"196.5\" y=\"-156.8\" font-family=\"Helvetica,sans-Serif\" font-size=\"14.00\" fill=\"#000000\">entropy = 0.629</text>\n<text text-anchor=\"middle\" x=\"196.5\" y=\"-141.8\" font-family=\"Helvetica,sans-Serif\" font-size=\"14.00\" fill=\"#000000\">samples = 38</text>\n<text text-anchor=\"middle\" x=\"196.5\" y=\"-126.8\" font-family=\"Helvetica,sans-Serif\" font-size=\"14.00\" fill=\"#000000\">value = [0, 6, 32]</text>\n<text text-anchor=\"middle\" x=\"196.5\" y=\"-111.8\" font-family=\"Helvetica,sans-Serif\" font-size=\"14.00\" fill=\"#000000\">class = 贝尔摩德</text>\n</g>\n<!-- 1&#45;&gt;2 -->\n<g id=\"edge2\" class=\"edge\">\n<title>1&#45;&gt;2</title>\n<path fill=\"none\" stroke=\"#000000\" d=\"M277.7811,-222.8796C268.1314,-213.6931 257.8234,-203.8798 247.9009,-194.4336\"/>\n<polygon fill=\"#000000\" stroke=\"#000000\" points=\"250.0616,-191.6582 240.4055,-187.2981 245.235,-196.7282 250.0616,-191.6582\"/>\n</g>\n<!-- 5 -->\n<g id=\"node6\" class=\"node\">\n<title>5</title>\n<path fill=\"#41e686\" stroke=\"#000000\" d=\"M387,-187C387,-187 288,-187 288,-187 282,-187 276,-181 276,-175 276,-175 276,-116 276,-116 276,-110 282,-104 288,-104 288,-104 387,-104 387,-104 393,-104 399,-110 399,-116 399,-116 399,-175 399,-175 399,-181 393,-187 387,-187\"/>\n<text text-anchor=\"middle\" x=\"337.5\" y=\"-171.8\" font-family=\"Helvetica,sans-Serif\" font-size=\"14.00\" fill=\"#000000\">类黄酮 &lt;= 1.052</text>\n<text text-anchor=\"middle\" x=\"337.5\" y=\"-156.8\" font-family=\"Helvetica,sans-Serif\" font-size=\"14.00\" fill=\"#000000\">entropy = 0.242</text>\n<text text-anchor=\"middle\" x=\"337.5\" y=\"-141.8\" font-family=\"Helvetica,sans-Serif\" font-size=\"14.00\" fill=\"#000000\">samples = 25</text>\n<text text-anchor=\"middle\" x=\"337.5\" y=\"-126.8\" font-family=\"Helvetica,sans-Serif\" font-size=\"14.00\" fill=\"#000000\">value = [0, 24, 1]</text>\n<text text-anchor=\"middle\" x=\"337.5\" y=\"-111.8\" font-family=\"Helvetica,sans-Serif\" font-size=\"14.00\" fill=\"#000000\">class = 雪莉</text>\n</g>\n<!-- 1&#45;&gt;5 -->\n<g id=\"edge5\" class=\"edge\">\n<title>1&#45;&gt;5</title>\n<path fill=\"none\" stroke=\"#000000\" d=\"M327.096,-222.8796C328.2101,-214.5938 329.3927,-205.798 330.5458,-197.2216\"/>\n<polygon fill=\"#000000\" stroke=\"#000000\" points=\"334.0162,-197.6753 331.8801,-187.2981 327.0787,-196.7425 334.0162,-197.6753\"/>\n</g>\n<!-- 3 -->\n<g id=\"node4\" class=\"node\">\n<title>3</title>\n<path fill=\"#9152e8\" stroke=\"#000000\" d=\"M111,-68C111,-68 12,-68 12,-68 6,-68 0,-62 0,-56 0,-56 0,-12 0,-12 0,-6 6,0 12,0 12,0 111,0 111,0 117,0 123,-6 123,-12 123,-12 123,-56 123,-56 123,-62 117,-68 111,-68\"/>\n<text text-anchor=\"middle\" x=\"61.5\" y=\"-52.8\" font-family=\"Helvetica,sans-Serif\" font-size=\"14.00\" fill=\"#000000\">entropy = 0.503</text>\n<text text-anchor=\"middle\" x=\"61.5\" y=\"-37.8\" font-family=\"Helvetica,sans-Serif\" font-size=\"14.00\" fill=\"#000000\">samples = 36</text>\n<text text-anchor=\"middle\" x=\"61.5\" y=\"-22.8\" font-family=\"Helvetica,sans-Serif\" font-size=\"14.00\" fill=\"#000000\">value = [0, 4, 32]</text>\n<text text-anchor=\"middle\" x=\"61.5\" y=\"-7.8\" font-family=\"Helvetica,sans-Serif\" font-size=\"14.00\" fill=\"#000000\">class = 贝尔摩德</text>\n</g>\n<!-- 2&#45;&gt;3 -->\n<g id=\"edge3\" class=\"edge\">\n<title>2&#45;&gt;3</title>\n<path fill=\"none\" stroke=\"#000000\" d=\"M146.231,-103.9815C134.6582,-94.4232 122.3611,-84.2668 110.8287,-74.7419\"/>\n<polygon fill=\"#000000\" stroke=\"#000000\" points=\"112.9243,-71.9332 102.9852,-68.2637 108.4666,-77.3304 112.9243,-71.9332\"/>\n</g>\n<!-- 4 -->\n<g id=\"node5\" class=\"node\">\n<title>4</title>\n<path fill=\"#39e581\" stroke=\"#000000\" d=\"M244,-68C244,-68 153,-68 153,-68 147,-68 141,-62 141,-56 141,-56 141,-12 141,-12 141,-6 147,0 153,0 153,0 244,0 244,0 250,0 256,-6 256,-12 256,-12 256,-56 256,-56 256,-62 250,-68 244,-68\"/>\n<text text-anchor=\"middle\" x=\"198.5\" y=\"-52.8\" font-family=\"Helvetica,sans-Serif\" font-size=\"14.00\" fill=\"#000000\">entropy = 0.0</text>\n<text text-anchor=\"middle\" x=\"198.5\" y=\"-37.8\" font-family=\"Helvetica,sans-Serif\" font-size=\"14.00\" fill=\"#000000\">samples = 2</text>\n<text text-anchor=\"middle\" x=\"198.5\" y=\"-22.8\" font-family=\"Helvetica,sans-Serif\" font-size=\"14.00\" fill=\"#000000\">value = [0, 2, 0]</text>\n<text text-anchor=\"middle\" x=\"198.5\" y=\"-7.8\" font-family=\"Helvetica,sans-Serif\" font-size=\"14.00\" fill=\"#000000\">class = 雪莉</text>\n</g>\n<!-- 2&#45;&gt;4 -->\n<g id=\"edge4\" class=\"edge\">\n<title>2&#45;&gt;4</title>\n<path fill=\"none\" stroke=\"#000000\" d=\"M197.2447,-103.9815C197.3947,-95.618 197.553,-86.7965 197.7046,-78.3409\"/>\n<polygon fill=\"#000000\" stroke=\"#000000\" points=\"201.2054,-78.3249 197.8854,-68.2637 194.2065,-78.1993 201.2054,-78.3249\"/>\n</g>\n<!-- 6 -->\n<g id=\"node7\" class=\"node\">\n<title>6</title>\n<path fill=\"#ffffff\" stroke=\"#000000\" d=\"M381,-68C381,-68 290,-68 290,-68 284,-68 278,-62 278,-56 278,-56 278,-12 278,-12 278,-6 284,0 290,0 290,0 381,0 381,0 387,0 393,-6 393,-12 393,-12 393,-56 393,-56 393,-62 387,-68 381,-68\"/>\n<text text-anchor=\"middle\" x=\"335.5\" y=\"-52.8\" font-family=\"Helvetica,sans-Serif\" font-size=\"14.00\" fill=\"#000000\">entropy = 1.0</text>\n<text text-anchor=\"middle\" x=\"335.5\" y=\"-37.8\" font-family=\"Helvetica,sans-Serif\" font-size=\"14.00\" fill=\"#000000\">samples = 2</text>\n<text text-anchor=\"middle\" x=\"335.5\" y=\"-22.8\" font-family=\"Helvetica,sans-Serif\" font-size=\"14.00\" fill=\"#000000\">value = [0, 1, 1]</text>\n<text text-anchor=\"middle\" x=\"335.5\" y=\"-7.8\" font-family=\"Helvetica,sans-Serif\" font-size=\"14.00\" fill=\"#000000\">class = 雪莉</text>\n</g>\n<!-- 5&#45;&gt;6 -->\n<g id=\"edge6\" class=\"edge\">\n<title>5&#45;&gt;6</title>\n<path fill=\"none\" stroke=\"#000000\" d=\"M336.7553,-103.9815C336.6053,-95.618 336.447,-86.7965 336.2954,-78.3409\"/>\n<polygon fill=\"#000000\" stroke=\"#000000\" points=\"339.7935,-78.1993 336.1146,-68.2637 332.7946,-78.3249 339.7935,-78.1993\"/>\n</g>\n<!-- 7 -->\n<g id=\"node8\" class=\"node\">\n<title>7</title>\n<path fill=\"#39e581\" stroke=\"#000000\" d=\"M522,-68C522,-68 423,-68 423,-68 417,-68 411,-62 411,-56 411,-56 411,-12 411,-12 411,-6 417,0 423,0 423,0 522,0 522,0 528,0 534,-6 534,-12 534,-12 534,-56 534,-56 534,-62 528,-68 522,-68\"/>\n<text text-anchor=\"middle\" x=\"472.5\" y=\"-52.8\" font-family=\"Helvetica,sans-Serif\" font-size=\"14.00\" fill=\"#000000\">entropy = 0.0</text>\n<text text-anchor=\"middle\" x=\"472.5\" y=\"-37.8\" font-family=\"Helvetica,sans-Serif\" font-size=\"14.00\" fill=\"#000000\">samples = 23</text>\n<text text-anchor=\"middle\" x=\"472.5\" y=\"-22.8\" font-family=\"Helvetica,sans-Serif\" font-size=\"14.00\" fill=\"#000000\">value = [0, 23, 0]</text>\n<text text-anchor=\"middle\" x=\"472.5\" y=\"-7.8\" font-family=\"Helvetica,sans-Serif\" font-size=\"14.00\" fill=\"#000000\">class = 雪莉</text>\n</g>\n<!-- 5&#45;&gt;7 -->\n<g id=\"edge7\" class=\"edge\">\n<title>5&#45;&gt;7</title>\n<path fill=\"none\" stroke=\"#000000\" d=\"M387.769,-103.9815C399.3418,-94.4232 411.6389,-84.2668 423.1713,-74.7419\"/>\n<polygon fill=\"#000000\" stroke=\"#000000\" points=\"425.5334,-77.3304 431.0148,-68.2637 421.0757,-71.9332 425.5334,-77.3304\"/>\n</g>\n<!-- 9 -->\n<g id=\"node10\" class=\"node\">\n<title>9</title>\n<path fill=\"#39e581\" stroke=\"#000000\" d=\"M559,-179.5C559,-179.5 460,-179.5 460,-179.5 454,-179.5 448,-173.5 448,-167.5 448,-167.5 448,-123.5 448,-123.5 448,-117.5 454,-111.5 460,-111.5 460,-111.5 559,-111.5 559,-111.5 565,-111.5 571,-117.5 571,-123.5 571,-123.5 571,-167.5 571,-167.5 571,-173.5 565,-179.5 559,-179.5\"/>\n<text text-anchor=\"middle\" x=\"509.5\" y=\"-164.3\" font-family=\"Helvetica,sans-Serif\" font-size=\"14.00\" fill=\"#000000\">entropy = 0.0</text>\n<text text-anchor=\"middle\" x=\"509.5\" y=\"-149.3\" font-family=\"Helvetica,sans-Serif\" font-size=\"14.00\" fill=\"#000000\">samples = 15</text>\n<text text-anchor=\"middle\" x=\"509.5\" y=\"-134.3\" font-family=\"Helvetica,sans-Serif\" font-size=\"14.00\" fill=\"#000000\">value = [0, 15, 0]</text>\n<text text-anchor=\"middle\" x=\"509.5\" y=\"-119.3\" font-family=\"Helvetica,sans-Serif\" font-size=\"14.00\" fill=\"#000000\">class = 雪莉</text>\n</g>\n<!-- 8&#45;&gt;9 -->\n<g id=\"edge9\" class=\"edge\">\n<title>8&#45;&gt;9</title>\n<path fill=\"none\" stroke=\"#000000\" d=\"M519.904,-222.8796C518.4699,-212.2134 516.9221,-200.7021 515.47,-189.9015\"/>\n<polygon fill=\"#000000\" stroke=\"#000000\" points=\"518.9152,-189.2593 514.1138,-179.8149 511.9776,-190.1922 518.9152,-189.2593\"/>\n</g>\n<!-- 10 -->\n<g id=\"node11\" class=\"node\">\n<title>10</title>\n<path fill=\"#e99457\" stroke=\"#000000\" d=\"M700,-187C700,-187 601,-187 601,-187 595,-187 589,-181 589,-175 589,-175 589,-116 589,-116 589,-110 595,-104 601,-104 601,-104 700,-104 700,-104 706,-104 712,-110 712,-116 712,-116 712,-175 712,-175 712,-181 706,-187 700,-187\"/>\n<text text-anchor=\"middle\" x=\"650.5\" y=\"-171.8\" font-family=\"Helvetica,sans-Serif\" font-size=\"14.00\" fill=\"#000000\">酒精 &lt;= 12.56</text>\n<text text-anchor=\"middle\" x=\"650.5\" y=\"-156.8\" font-family=\"Helvetica,sans-Serif\" font-size=\"14.00\" fill=\"#000000\">entropy = 0.559</text>\n<text text-anchor=\"middle\" x=\"650.5\" y=\"-141.8\" font-family=\"Helvetica,sans-Serif\" font-size=\"14.00\" fill=\"#000000\">samples = 46</text>\n<text text-anchor=\"middle\" x=\"650.5\" y=\"-126.8\" font-family=\"Helvetica,sans-Serif\" font-size=\"14.00\" fill=\"#000000\">value = [40, 6, 0]</text>\n<text text-anchor=\"middle\" x=\"650.5\" y=\"-111.8\" font-family=\"Helvetica,sans-Serif\" font-size=\"14.00\" fill=\"#000000\">class = 琴酒</text>\n</g>\n<!-- 8&#45;&gt;10 -->\n<g id=\"edge10\" class=\"edge\">\n<title>8&#45;&gt;10</title>\n<path fill=\"none\" stroke=\"#000000\" d=\"M569.2189,-222.8796C578.8686,-213.6931 589.1766,-203.8798 599.0991,-194.4336\"/>\n<polygon fill=\"#000000\" stroke=\"#000000\" points=\"601.765,-196.7282 606.5945,-187.2981 596.9384,-191.6582 601.765,-196.7282\"/>\n</g>\n<!-- 11 -->\n<g id=\"node12\" class=\"node\">\n<title>11</title>\n<path fill=\"#39e581\" stroke=\"#000000\" d=\"M676,-68C676,-68 585,-68 585,-68 579,-68 573,-62 573,-56 573,-56 573,-12 573,-12 573,-6 579,0 585,0 585,0 676,0 676,0 682,0 688,-6 688,-12 688,-12 688,-56 688,-56 688,-62 682,-68 676,-68\"/>\n<text text-anchor=\"middle\" x=\"630.5\" y=\"-52.8\" font-family=\"Helvetica,sans-Serif\" font-size=\"14.00\" fill=\"#000000\">entropy = 0.0</text>\n<text text-anchor=\"middle\" x=\"630.5\" y=\"-37.8\" font-family=\"Helvetica,sans-Serif\" font-size=\"14.00\" fill=\"#000000\">samples = 4</text>\n<text text-anchor=\"middle\" x=\"630.5\" y=\"-22.8\" font-family=\"Helvetica,sans-Serif\" font-size=\"14.00\" fill=\"#000000\">value = [0, 4, 0]</text>\n<text text-anchor=\"middle\" x=\"630.5\" y=\"-7.8\" font-family=\"Helvetica,sans-Serif\" font-size=\"14.00\" fill=\"#000000\">class = 雪莉</text>\n</g>\n<!-- 10&#45;&gt;11 -->\n<g id=\"edge11\" class=\"edge\">\n<title>10&#45;&gt;11</title>\n<path fill=\"none\" stroke=\"#000000\" d=\"M643.0527,-103.9815C641.5526,-95.618 639.9702,-86.7965 638.4535,-78.3409\"/>\n<polygon fill=\"#000000\" stroke=\"#000000\" points=\"641.8566,-77.4886 636.646,-68.2637 634.9666,-78.7246 641.8566,-77.4886\"/>\n</g>\n<!-- 12 -->\n<g id=\"node13\" class=\"node\">\n<title>12</title>\n<path fill=\"#e68743\" stroke=\"#000000\" d=\"M817,-68C817,-68 718,-68 718,-68 712,-68 706,-62 706,-56 706,-56 706,-12 706,-12 706,-6 712,0 718,0 718,0 817,0 817,0 823,0 829,-6 829,-12 829,-12 829,-56 829,-56 829,-62 823,-68 817,-68\"/>\n<text text-anchor=\"middle\" x=\"767.5\" y=\"-52.8\" font-family=\"Helvetica,sans-Serif\" font-size=\"14.00\" fill=\"#000000\">entropy = 0.276</text>\n<text text-anchor=\"middle\" x=\"767.5\" y=\"-37.8\" font-family=\"Helvetica,sans-Serif\" font-size=\"14.00\" fill=\"#000000\">samples = 42</text>\n<text text-anchor=\"middle\" x=\"767.5\" y=\"-22.8\" font-family=\"Helvetica,sans-Serif\" font-size=\"14.00\" fill=\"#000000\">value = [40, 2, 0]</text>\n<text text-anchor=\"middle\" x=\"767.5\" y=\"-7.8\" font-family=\"Helvetica,sans-Serif\" font-size=\"14.00\" fill=\"#000000\">class = 琴酒</text>\n</g>\n<!-- 10&#45;&gt;12 -->\n<g id=\"edge12\" class=\"edge\">\n<title>10&#45;&gt;12</title>\n<path fill=\"none\" stroke=\"#000000\" d=\"M694.0665,-103.9815C703.9034,-94.607 714.344,-84.6572 724.1711,-75.2921\"/>\n<polygon fill=\"#000000\" stroke=\"#000000\" points=\"726.7216,-77.6963 731.5462,-68.2637 721.8924,-72.6289 726.7216,-77.6963\"/>\n</g>\n</g>\n</svg>\n"
          },
          "metadata": {},
          "execution_count": 121
        }
      ]
    },
    {
      "cell_type": "code",
      "source": [
        "score = clf.score(Xtest,Ytest)\n",
        "score"
      ],
      "metadata": {
        "colab": {
          "base_uri": "https://localhost:8080/"
        },
        "id": "LRRm_wjkEYra",
        "outputId": "c17a2a54-d45f-47a4-8be0-44ed7c4b5af6"
      },
      "execution_count": 122,
      "outputs": [
        {
          "output_type": "execute_result",
          "data": {
            "text/plain": [
              "0.9814814814814815"
            ]
          },
          "metadata": {},
          "execution_count": 122
        }
      ]
    },
    {
      "cell_type": "code",
      "source": [
        "import matplotlib.pyplot as plt\n",
        "%matplotlib inline\n",
        "\n",
        "test = []\n",
        "for i in range(10):\n",
        "  clf = tree.DecisionTreeClassifier(\n",
        "      max_depth = i+1\n",
        "      ,criterion=\"entropy\"\n",
        "      ,random_state=30\n",
        "      ,splitter=\"random\"\n",
        "  )\n",
        "  clf = clf.fit(Xtrain, Ytrain)\n",
        "  score = clf.score(Xtest, Ytest)\n",
        "  test.append(score)\n",
        "plt.plot(range(1,11),test,color='red',label='max_depth')\n",
        "plt.legend()\n",
        "plt.show()"
      ],
      "metadata": {
        "colab": {
          "base_uri": "https://localhost:8080/",
          "height": 265
        },
        "id": "D0lLZ8k_En4Q",
        "outputId": "49ed7bec-81ef-4b43-ceaf-81bc14e4c89d"
      },
      "execution_count": 126,
      "outputs": [
        {
          "output_type": "display_data",
          "data": {
            "text/plain": [
              "<Figure size 432x288 with 1 Axes>"
            ],
            "image/png": "[encoded data removed]"
          },
          "metadata": {
            "needs_background": "light"
          }
        }
      ]
    },
    {
      "cell_type": "code",
      "source": [
        "clf.apply(Xtest) # 不应输入Ytest"
      ],
      "metadata": {
        "colab": {
          "base_uri": "https://localhost:8080/"
        },
        "id": "ylpnV7qWHKx7",
        "outputId": "b80527ee-1f1d-4c54-ccc8-1639276da22a"
      },
      "execution_count": 127,
      "outputs": [
        {
          "output_type": "execute_result",
          "data": {
            "text/plain": [
              "array([28,  4, 28, 14, 27, 24, 28,  4,  4, 14,  4, 16, 19, 16, 21, 28, 13,\n",
              "       27, 27, 21, 14, 28, 19,  4, 28,  7,  4, 10, 28, 28, 28, 28, 16,  4,\n",
              "       21, 28, 16, 21, 12, 28, 16,  4, 16, 28,  7, 21, 21, 24, 16, 16, 24,\n",
              "       28,  4, 21])"
            ]
          },
          "metadata": {},
          "execution_count": 127
        }
      ]
    },
    {
      "cell_type": "code",
      "source": [
        "clf.predict(Xtest) # 不应输入Ytest"
      ],
      "metadata": {
        "colab": {
          "base_uri": "https://localhost:8080/"
        },
        "id": "ooQNLDvTJaLg",
        "outputId": "f35bc873-2254-422e-ef84-e7fa2f9397e6"
      },
      "execution_count": 129,
      "outputs": [
        {
          "output_type": "execute_result",
          "data": {
            "text/plain": [
              "array([0, 2, 0, 1, 0, 1, 0, 2, 2, 1, 2, 1, 1, 1, 1, 0, 1, 0, 0, 1, 1, 0,\n",
              "       1, 2, 0, 2, 2, 2, 0, 0, 0, 0, 1, 2, 1, 0, 1, 1, 2, 0, 1, 2, 1, 0,\n",
              "       2, 1, 1, 1, 1, 1, 1, 0, 2, 1])"
            ]
          },
          "metadata": {},
          "execution_count": 129
        }
      ]
    },
    {
      "cell_type": "code",
      "source": [],
      "metadata": {
        "id": "hN5-Tcn0JdsY"
      },
      "execution_count": null,
      "outputs": []
    }
  ]
}